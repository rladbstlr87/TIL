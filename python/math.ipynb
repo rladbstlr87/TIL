{
 "cells": [
  {
   "cell_type": "markdown",
   "id": "a0956f53-4cfa-416c-9640-b6e8e10b08ab",
   "metadata": {},
   "source": [
    "# math\n",
    "- 파이썬에서 수학개념 메소드를 불러오는 라이브러리"
   ]
  },
  {
   "cell_type": "markdown",
   "id": "926aed57-d23d-409e-8dcc-e929f8e5d27b",
   "metadata": {},
   "source": [
    "## 1. ceil / floor / round\n",
    "- ceil: 올림\n",
    "- floor: 내림\n",
    "- round: 반올림. math 안불러와도 사용 가능"
   ]
  },
  {
   "cell_type": "markdown",
   "id": "7d178aa1-500f-4c61-9cc9-59dd8fcc80a9",
   "metadata": {},
   "source": [
    "### 기본구조"
   ]
  },
  {
   "cell_type": "code",
   "execution_count": 3,
   "id": "4aeb018d-78bd-42f8-bc50-086d1acc63dd",
   "metadata": {},
   "outputs": [
    {
     "data": {
      "text/plain": [
       "4"
      ]
     },
     "execution_count": 3,
     "metadata": {},
     "output_type": "execute_result"
    }
   ],
   "source": [
    "import math\n",
    "\n",
    "math.ceil(3.14)"
   ]
  },
  {
   "cell_type": "markdown",
   "id": "0955ca3d-7105-420e-9dc2-65167f410c16",
   "metadata": {},
   "source": [
    "### For example"
   ]
  },
  {
   "cell_type": "markdown",
   "id": "9b46564a-dea1-4e2b-b4a8-6c8d6f0abec6",
   "metadata": {},
   "source": [
    "#### ex.1-1"
   ]
  },
  {
   "cell_type": "code",
   "execution_count": 5,
   "id": "6d5ccfad-69c3-4e38-8617-82448af4b9ed",
   "metadata": {},
   "outputs": [
    {
     "name": "stdout",
     "output_type": "stream",
     "text": [
      "2.68\n"
     ]
    }
   ],
   "source": [
    "distance = 2.676\n",
    "print(round(distance, 2))\n",
    "# 소수점 두 자리를 반올림하여 2.68"
   ]
  },
  {
   "cell_type": "markdown",
   "id": "f8de7906-2eed-47e4-8125-5513ce4c0ac6",
   "metadata": {},
   "source": [
    "### What can it do?"
   ]
  },
  {
   "cell_type": "markdown",
   "id": "e6f6fd84-683a-4a6c-9df5-87e10b46426f",
   "metadata": {},
   "source": [
    "#### ex.level.2\n",
    "- 나눠먹을 피자의 판수 계산하는 함수 만들기\n",
    "```py\n",
    "p = 조각수\n",
    "def solution(p):\n",
    "    return math.ceil(n/p)\n",
    "```"
   ]
  },
  {
   "cell_type": "code",
   "execution_count": null,
   "id": "a120dbea-4a1d-4426-b2d2-e3397aa9486d",
   "metadata": {},
   "outputs": [],
   "source": []
  }
 ],
 "metadata": {
  "kernelspec": {
   "display_name": "Python 3 (ipykernel)",
   "language": "python",
   "name": "python3"
  },
  "language_info": {
   "codemirror_mode": {
    "name": "ipython",
    "version": 3
   },
   "file_extension": ".py",
   "mimetype": "text/x-python",
   "name": "python",
   "nbconvert_exporter": "python",
   "pygments_lexer": "ipython3",
   "version": "3.13.1"
  }
 },
 "nbformat": 4,
 "nbformat_minor": 5
}
