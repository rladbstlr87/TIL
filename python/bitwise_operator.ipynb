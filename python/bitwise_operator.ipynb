{
 "cells": [
  {
   "cell_type": "markdown",
   "id": "85a775f9-7e4a-4db3-9573-c915a7a4c3a5",
   "metadata": {},
   "source": [
    "# 비트연산자"
   ]
  },
  {
   "cell_type": "markdown",
   "id": "424f4cea-89a7-4d00-8cf6-767a73b1f78e",
   "metadata": {},
   "source": [
    "## 1. 2진법 (binary)"
   ]
  },
  {
   "cell_type": "markdown",
   "id": "2da21999-cf29-4a4a-91c1-895fd1421535",
   "metadata": {},
   "source": [
    "### 1. 기초\n",
    "- 컴퓨터는 0과 1만 사용하는 2진법을 기반으로 동작한다."
   ]
  },
  {
   "cell_type": "markdown",
   "id": "cc0348f7-d097-4aa4-86da-a33d29c754a1",
   "metadata": {},
   "source": [
    "### 2. 십진수 ↔ 2진수 변환 방법"
   ]
  },
  {
   "cell_type": "markdown",
   "id": "4813098e-1fe1-46c5-b2f0-c6d62d0b3cb2",
   "metadata": {},
   "source": [
    "#### (1) 십진수 → 2진수 변환\n",
    "십진수를 2로 계속 나누면서 나머지를 보면 된다.\n",
    "- 예: 13을 2진수로 변환"
   ]
  },
  {
   "cell_type": "markdown",
   "id": "cf215e54-d821-4f6d-ad78-c39384b1bc59",
   "metadata": {},
   "source": [
    "```\n",
    "13 ÷ 2 = 6  ... 나머지 1\n",
    " 6 ÷ 2 = 3  ... 나머지 0\n",
    " 3 ÷ 2 = 1  ... 나머지 1\n",
    " 1 ÷ 2 = 0  ... 나머지 1\n",
    "```"
   ]
  },
  {
   "cell_type": "markdown",
   "id": "08d7aa12-c95a-4712-ad71-b6731921357f",
   "metadata": {},
   "source": [
    "아래에서 위로 읽으면 1101이므로 13(10진수) = 1101(2진수)"
   ]
  },
  {
   "cell_type": "markdown",
   "id": "3cbe34ef-f974-4356-84e1-6dd4140eea0c",
   "metadata": {},
   "source": [
    "#### (2) 2진수 → 십진수 변환\n",
    "2진수를 각 자리의 2의 제곱을 곱해서 더한다.\n",
    "- 예: 1101(2진수)를 10진수로 변환"
   ]
  },
  {
   "cell_type": "markdown",
   "id": "f99c1892-27e1-4780-927d-dbf492a624da",
   "metadata": {},
   "source": [
    "```\n",
    "1 × 2³ + 1 × 2² + 0 × 2¹ + 1 × 2⁰  \n",
    "= 8 + 4 + 0 + 1  \n",
    "= 13 (10진수)\n",
    "```"
   ]
  },
  {
   "cell_type": "markdown",
   "id": "dd1f9b07-0bd4-41c0-a85d-4c58c84f4e55",
   "metadata": {},
   "source": [
    "### 3. 2진법을 알아야 하는 이유\n",
    "비트 연산은 숫자를 2진수로 변환한 후 각 자리(비트)에서 연산을 수행하는 방식인데 이게 근소하게 빠르게 계산이 완료된다.\n",
    "- 예: 비트연산 `&`(AND) 연산은 두 숫자를 2진수로 변환한 뒤 각 자릿수를 비교하여 둘 다 1이면 1, 아니면 0을 반환한다."
   ]
  },
  {
   "cell_type": "markdown",
   "id": "0eb423e9-1e49-4059-a372-efa11702ef22",
   "metadata": {},
   "source": [
    "#### 0. 0b\n",
    "파이썬에서 숫자를 2진수로 표현할 때는 앞에 0b(소문자) 또는 0B(대문자)를 붙인다."
   ]
  },
  {
   "cell_type": "code",
   "execution_count": 1,
   "id": "f1e52c0e-a791-4841-8637-5a80e7fbc05c",
   "metadata": {},
   "outputs": [
    {
     "name": "stdout",
     "output_type": "stream",
     "text": [
      "13\n"
     ]
    }
   ],
   "source": [
    "num = 0b1101  # 2진수 1101 = 10진수 13\n",
    "print(num)"
   ]
  },
  {
   "cell_type": "markdown",
   "id": "35824790-7323-4239-988b-9a4184a917cc",
   "metadata": {},
   "source": [
    "#### 1. & (and)\n",
    "두 비트가 모두 1일 때만 1을 반환"
   ]
  },
  {
   "cell_type": "code",
   "execution_count": 2,
   "id": "657cc4eb-6a28-426f-98e2-79d004a34f8a",
   "metadata": {},
   "outputs": [
    {
     "name": "stdout",
     "output_type": "stream",
     "text": [
      "0b1001\n"
     ]
    }
   ],
   "source": [
    "a = 0b1101  # 13 (2진수: 1101)\n",
    "b = 0b1011  # 11 (2진수: 1011)\n",
    "result = a & b  # 1001 (2진수) -> 9 (10진수)\n",
    "print(bin(result))"
   ]
  },
  {
   "cell_type": "markdown",
   "id": "cd8a2907-b57e-4a40-b3bc-4b7fe2c9b8c7",
   "metadata": {},
   "source": [
    "#### 2. | (or)\n",
    "하나라도 1이면 1을 반환"
   ]
  },
  {
   "cell_type": "code",
   "execution_count": 3,
   "id": "9958d5ed-9641-4674-a094-760e9d942c6a",
   "metadata": {},
   "outputs": [
    {
     "name": "stdout",
     "output_type": "stream",
     "text": [
      "0b1111\n"
     ]
    }
   ],
   "source": [
    "a = 0b1101  # 13\n",
    "b = 0b1011  # 11\n",
    "result = a | b  # 1111 (2진수) -> 15 (10진수)\n",
    "print(bin(result))"
   ]
  },
  {
   "cell_type": "markdown",
   "id": "ccadc81a-6937-4abc-9934-ee7627f748f3",
   "metadata": {},
   "source": [
    "#### 3. ^ (xor)\n",
    "두 비트가 다르면 1을 반환하고, 같으면 0을 반환"
   ]
  },
  {
   "cell_type": "code",
   "execution_count": 4,
   "id": "687cf3d2-70aa-4297-80cb-77b07e6f8f20",
   "metadata": {},
   "outputs": [
    {
     "name": "stdout",
     "output_type": "stream",
     "text": [
      "0b110\n"
     ]
    }
   ],
   "source": [
    "a = 0b1101  # 13\n",
    "b = 0b1011  # 11\n",
    "result = a ^ b  # 0110 (2진수) -> 6 (10진수)\n",
    "print(bin(result))"
   ]
  },
  {
   "cell_type": "markdown",
   "id": "ae4448f2-ecb4-4df5-8f8d-0ec1ec5020bd",
   "metadata": {},
   "source": [
    "#### 4. ~ (not)\n",
    "비트를 반전(0 ↔ 1)한다. 파이썬에서는 2의 보수 표현을 사용하기 때문에 `~x = -x - 1`이다"
   ]
  },
  {
   "cell_type": "code",
   "execution_count": 5,
   "id": "ccc28247-2817-414a-83dc-bb49f42e4e13",
   "metadata": {},
   "outputs": [
    {
     "name": "stdout",
     "output_type": "stream",
     "text": [
      "-0b1110\n"
     ]
    }
   ],
   "source": [
    "a = 0b1101  # 13\n",
    "result = ~a  # -14 (10진수) (비트 반전 후 보수 적용)\n",
    "print(bin(result))"
   ]
  },
  {
   "cell_type": "markdown",
   "id": "e0c66cdd-58e8-4ea0-a4b2-52d85d854215",
   "metadata": {},
   "source": [
    "#### 5. << (left shift)\n",
    "비트를 왼쪽으로 이동시키며, 이동한 만큼 2의 배수 곱셈 효과를 가진다.(세균증식 두배->두배->두배->...)\n",
    "- x << n = x * 2^n"
   ]
  },
  {
   "cell_type": "code",
   "execution_count": 6,
   "id": "110fb94c-7cdd-4f81-82e4-862c121af1c5",
   "metadata": {},
   "outputs": [
    {
     "name": "stdout",
     "output_type": "stream",
     "text": [
      "0b100\n"
     ]
    }
   ],
   "source": [
    "a = 0b0001  # 1\n",
    "result = a << 2  # 0100 (2진수) -> 4 (10진수)\n",
    "print(bin(result))"
   ]
  },
  {
   "cell_type": "markdown",
   "id": "ae9db2a4-ce25-4dc1-a2af-f2103e9be7c1",
   "metadata": {},
   "source": [
    "#### 6. >> (right shift)\n",
    "비트를 오른쪽으로 이동시키며, 이동한 만큼 2의 배수 나눗셈 효과를 가진다.\n",
    "- x >> n = x // 2^n"
   ]
  },
  {
   "cell_type": "code",
   "execution_count": 7,
   "id": "b6a3d61a-87fc-4e46-bd07-c455f7be67f3",
   "metadata": {},
   "outputs": [
    {
     "name": "stdout",
     "output_type": "stream",
     "text": [
      "0b10\n"
     ]
    }
   ],
   "source": [
    "a = 0b1000  # 8\n",
    "result = a >> 2  # 0010 (2진수) -> 2 (10진수)\n",
    "print(bin(result))"
   ]
  },
  {
   "cell_type": "markdown",
   "id": "117bc5a5-b322-4d8f-87fc-f68c53577a1b",
   "metadata": {},
   "source": [
    "### what can it do?\n",
    "솔직히 이걸로 뭘 할 수 있을지 아직은 모르겠다."
   ]
  },
  {
   "cell_type": "code",
   "execution_count": null,
   "id": "119773fd-6c9d-4cc8-85a0-c9d713864d94",
   "metadata": {},
   "outputs": [],
   "source": []
  }
 ],
 "metadata": {
  "kernelspec": {
   "display_name": "Python 3 (ipykernel)",
   "language": "python",
   "name": "python3"
  },
  "language_info": {
   "codemirror_mode": {
    "name": "ipython",
    "version": 3
   },
   "file_extension": ".py",
   "mimetype": "text/x-python",
   "name": "python",
   "nbconvert_exporter": "python",
   "pygments_lexer": "ipython3",
   "version": "3.13.1"
  }
 },
 "nbformat": 4,
 "nbformat_minor": 5
}
