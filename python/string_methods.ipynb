{
 "cells": [
  {
   "cell_type": "markdown",
   "id": "30ce590c-004e-477c-a1c6-ece02ba7a9fc",
   "metadata": {},
   "source": [
    "# string methods and functions"
   ]
  },
  {
   "cell_type": "markdown",
   "id": "33ea2260-04c7-4c90-8d58-99bbef3e56f9",
   "metadata": {
    "jp-MarkdownHeadingCollapsed": true
   },
   "source": [
    "## 1. slpit\n",
    "```python\n",
    "'str'.split()\n",
    "'str'.split('sep')\n",
    "'str'.split(sep='sep', 'maximum split')\n",
    "'str'.split(sep='sep', maxsplit='maximum split')\n",
    "```\n",
    "\n",
    "- 인터넷창을 스플릿뷰 즉, 나누어 보는것처럼 문자열을 잘라준다. 그러면서 리스트가 됨\n",
    "- str을 sep(separation)의 구분자를 기준으로 maxsplit 횟수만큼 잘라서 list로 반환함\n",
    "\n",
    "```python\n",
    "'str'.split('sep') # sep은 띄어쓰기나 ',' '.' 등이 들어갈 수 있음\n",
    "'str'.split(sep='sep', 'maximum split') # maxsplit자리는 생략할 수 있고 입력하면 숫자만큼 칼질한다. 그럼 나눠진 문자열은 칼질횟수+1이 됨\n",
    "'str'.split('sep', 'maximum split') # 쓰기 편한 방식\n",
    "```"
   ]
  },
  {
   "cell_type": "markdown",
   "id": "c952a775-25d8-40ff-832a-47b45c73571b",
   "metadata": {},
   "source": [
    "### For example"
   ]
  },
  {
   "cell_type": "markdown",
   "id": "07f305b7-a595-49d3-93b7-f185d37b0908",
   "metadata": {},
   "source": [
    "#### ex.1-1\n",
    "```py\n",
    "sentence = \"Python is fun to learn!\"\n",
    "words = sentence.split()  \n",
    "print(words)  # ['Python', 'is', 'fun', 'to', 'learn!']\n",
    "```"
   ]
  },
  {
   "cell_type": "markdown",
   "id": "b4aeca4b-8b94-4a02-9773-3dc0102d356d",
   "metadata": {},
   "source": [
    "#### ex.1-2\n",
    "```py\n",
    "emoji_text = \"🍕Pizza🍔Burger🌭Hotdog\"\n",
    "foods_name = emoji_text.split(\"🍕🍔🌭\")  \n",
    "print(foods_name)  # ['', 'Pizza', 'Burger', 'Hotdog']\n",
    "```"
   ]
  },
  {
   "cell_type": "markdown",
   "id": "25afccf5-8a8c-43bc-80c4-f5cefe2feb6e",
   "metadata": {},
   "source": [
    "#### ex.1-3\n",
    "```py\n",
    "sentence = \"apple,banana,cherry,orange,grape\"\n",
    "split_sentence = sentence.split(\",\", maxsplit=2)\n",
    "print(split_sentence)  # ['apple', 'banana', 'cherry,orange,grape']\n",
    "```"
   ]
  },
  {
   "cell_type": "markdown",
   "id": "5b797e8d-cbbf-4b96-8ade-cb541ce86088",
   "metadata": {},
   "source": [
    "### What can it do?\n",
    "- CSV 파일처럼 구분자로 구분된 데이터를 처리하는 경우에 유용합니다. 데이터를 분할한 후, int() 함수를 사용하여 숫자를 처리하거나, join() 메서드를 이용해 다시 합칠 수 있습니다."
   ]
  },
  {
   "cell_type": "markdown",
   "id": "6c0a26d5-8872-4e3e-be51-2179de712329",
   "metadata": {},
   "source": [
    "#### ex.2\n",
    "```py\n",
    "data = \"John,Doe,30,New York\"\n",
    "fields = data.split(\",\")  \n",
    "\n",
    "# 나이를 정수로 변환하고, 나머지는 출력\n",
    "age = int(fields[2])  # '30'을 정수로 변환\n",
    "location = fields[3]  # 'New York'\n",
    "\n",
    "print(f\"Name: {fields[0]} {fields[1]}, Age: {age}, Location: {location}\")\n",
    "# Output: Name: John Doe, Age: 30, Location: New York\n",
    "```\n",
    "- 활용 : split()으로 나눈 후, 나이를 숫자로 변환하거나, 다른 작업을 할 수 있습니다. 예를 들어, 나이를 기준으로 어떤 조건을 추가하거나, 다른 데이터를 변형할 수 있습니다."
   ]
  },
  {
   "cell_type": "markdown",
   "id": "1edf118b-e62a-4c10-90a5-88437c3d08e6",
   "metadata": {},
   "source": [
    "#### ex.3\n",
    "```py\n",
    "poem = \"Roses are red;Violets are blue;Sugar is sweet;And so are you\"\n",
    "lines = poem.split(\";\", maxsplit=2)  \n",
    "\n",
    "# 첫 번째와 두 번째 구절을 이어붙여서 새로운 시를 만든다\n",
    "new_poem = \" - \".join(lines[:2])  # 'Roses are red - Violets are blue'\n",
    "print(new_poem)  # Output: Roses are red - Violets are blue\n",
    "```\n",
    "- 활용 : split()과 maxsplit을 활용해 시를 나누고, **join()**을 사용해 나눈 데이터를 이어 붙이는 방법입니다."
   ]
  },
  {
   "cell_type": "markdown",
   "id": "fd7dbfd7-b0fe-4da5-8169-6becbc594b14",
   "metadata": {},
   "source": [
    "## 2. strip"
   ]
  },
  {
   "cell_type": "markdown",
   "id": "885f02b7-2bf7-4f92-9a19-7a5d716e6725",
   "metadata": {},
   "source": [
    "`'str'.strip()`\n",
    "- 기본값은 '공백'으로 좌우 공백을 다 잘라준다"
   ]
  },
  {
   "cell_type": "markdown",
   "id": "1658defc-97e9-4cbe-b231-a95e12c1acd8",
   "metadata": {},
   "source": [
    "## 3. upper / lower / swapcase"
   ]
  },
  {
   "cell_type": "markdown",
   "id": "bbf51487-e4e6-487c-bd09-79c7aa8408cd",
   "metadata": {},
   "source": [
    "```python\n",
    "'str'.upper()\n",
    "'str'.lower()\n",
    "'str'.swapcase()\n",
    "```\n",
    "- 대소문자를 바꿔준다"
   ]
  },
  {
   "cell_type": "markdown",
   "id": "4ac1e7e8-cba2-4744-ab51-e475b017a1bb",
   "metadata": {},
   "source": [
    "## 4. startswith / endswith"
   ]
  },
  {
   "cell_type": "code",
   "execution_count": null,
   "id": "f39cac4b-2b7c-4182-a88a-3a2dfed0905c",
   "metadata": {},
   "outputs": [],
   "source": []
  }
 ],
 "metadata": {
  "kernelspec": {
   "display_name": "Python 3 (ipykernel)",
   "language": "python",
   "name": "python3"
  },
  "language_info": {
   "codemirror_mode": {
    "name": "ipython",
    "version": 3
   },
   "file_extension": ".py",
   "mimetype": "text/x-python",
   "name": "python",
   "nbconvert_exporter": "python",
   "pygments_lexer": "ipython3",
   "version": "3.13.2"
  }
 },
 "nbformat": 4,
 "nbformat_minor": 5
}
