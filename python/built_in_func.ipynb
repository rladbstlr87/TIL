{
 "cells": [
  {
   "cell_type": "markdown",
   "id": "e36a5327-2c03-4b13-bd4d-f6f5d84fed7d",
   "metadata": {},
   "source": [
    "# built-in function"
   ]
  },
  {
   "cell_type": "markdown",
   "id": "a35ddebf-8769-47fe-8589-f297e7e10c46",
   "metadata": {},
   "source": [
    "# 함수"
   ]
  },
  {
   "cell_type": "markdown",
   "id": "1f2c6e6f-27d4-4fe4-8713-9d921aa0bea9",
   "metadata": {
    "jp-MarkdownHeadingCollapsed": true
   },
   "source": [
    "## 1. divmod"
   ]
  },
  {
   "cell_type": "markdown",
   "id": "b65b7d50-5f9a-48f4-9cd5-cda727b42d21",
   "metadata": {},
   "source": [
    "### 기본구조\n",
    "```py\n",
    " divmod(a, b)\n",
    "```\n",
    "\n",
    "- 두 숫자를 입력받아 (몫, 나머지) 튜플을 반환하는 함수\n",
    "- `a // b` (몫)와 `a % b` (나머지)를 한 번의 연산으로 구할 수 있어 성능 면에서 유리하다\n",
    "- 정수뿐만 아니라 실수에도 적용 가능\n",
    "\n",
    "- **`a`**: 나눌 값 (dividend)\n",
    "- **`b`**: 나누는 값 (divisor)"
   ]
  },
  {
   "cell_type": "markdown",
   "id": "4a5a05b9-aabe-4b82-931e-a8fe46f28d8b",
   "metadata": {},
   "source": [
    "### For example"
   ]
  },
  {
   "cell_type": "markdown",
   "id": "709559de-12ff-49e9-8de9-f09cae5f6a62",
   "metadata": {},
   "source": [
    "#### ex.1-1\n",
    "```py\n",
    "print(divmod(10, 3))  # (3, 1)\n",
    "```"
   ]
  },
  {
   "cell_type": "markdown",
   "id": "a76ba624-5898-4046-b0e8-d73768776230",
   "metadata": {},
   "source": [
    "#### ex.1-2\n",
    "```py\n",
    "quotient, _ = divmod(20, 4)\n",
    "print(quotient)  # 5\n",
    "```"
   ]
  },
  {
   "cell_type": "markdown",
   "id": "eeb08f4d-a995-4bdb-b641-64e8a82ec406",
   "metadata": {},
   "source": [
    "#### ex.1-3\n",
    "```py\n",
    "a, b = 10.5, 2.5\n",
    "print(divmod(a, b))  # (4.0, 0.5)\n",
    "```"
   ]
  },
  {
   "cell_type": "markdown",
   "id": "ac089c6e-8398-46b3-bceb-7ab9298d0571",
   "metadata": {},
   "source": [
    "### What can it do?"
   ]
  },
  {
   "cell_type": "markdown",
   "id": "1ec87e5f-a84e-4d87-868a-da6fb959f374",
   "metadata": {},
   "source": [
    "#### ex.level.2\n",
    "- **여러 값에 대해 반복문에서 활용 가능**\n",
    "```py\n",
    "numbers = [(15, 4), (23, 5), (7, 2)]\n",
    "for a, b in numbers:\n",
    "    quotient, remainder = divmod(a, b)\n",
    "    print(f\"{a} / {b} -> 몫: {quotient}, 나머지: {remainder}\")\n",
    "```"
   ]
  },
  {
   "cell_type": "markdown",
   "id": "a020ba4e-5877-4696-8215-428270ff0284",
   "metadata": {},
   "source": [
    "#### ex.level.3\n",
    "- **실수 연산 시 나머지가 소수점을 가질 수 있음**\n",
    "```py\n",
    "a, b = 22.7, 3.1\n",
    "print(divmod(a, b))  # (7.0, 1.5999999999999996)\n",
    "```"
   ]
  },
  {
   "cell_type": "markdown",
   "id": "3d3912de-4d64-423f-ae99-3eb93793f3c2",
   "metadata": {},
   "source": [
    "## 2. map"
   ]
  },
  {
   "cell_type": "markdown",
   "id": "4aad5282-9584-4b96-8877-d60e60df93e5",
   "metadata": {},
   "source": [
    "### 기본구조\n",
    "```py\n",
    "map(function, iterable)\n",
    "```\n",
    "\n",
    "- 주어진 함수(function)를 반복 가능한 객체(iterable)의 모든 요소에 적용하는 함수\n",
    "- 첫 번째 인자로 함수, 두 번째 인자로 반복 가능한 객체를 받아 각 요소에 함수를 적용한 결과를 반환함\n",
    "- 반환값은 `map` 객체이므로 `list()` 또는 `tuple()`로 변환하여 사용할 수 있음\n",
    "\n",
    "- **`function`**: 각 요소에 적용할 함수\n",
    "- **`iterable`**: 반복 가능한 객체 (리스트, 튜플 등)"
   ]
  },
  {
   "cell_type": "markdown",
   "id": "72b4529b-f285-4b8e-a709-e4b4dba62c58",
   "metadata": {},
   "source": [
    "### For example"
   ]
  },
  {
   "cell_type": "markdown",
   "id": "6f422f9f-3bdf-4a8d-8279-ef96378b80d3",
   "metadata": {},
   "source": [
    "#### ex.1-1"
   ]
  },
  {
   "cell_type": "code",
   "execution_count": 7,
   "id": "975f7922-02ce-4f53-8bec-6dd66aa2ffb8",
   "metadata": {},
   "outputs": [
    {
     "name": "stdout",
     "output_type": "stream",
     "text": [
      "[1, 4, 9, 16]\n"
     ]
    }
   ],
   "source": [
    "def square(x):\n",
    "    return x * x\n",
    "\n",
    "numbers = [1, 2, 3, 4]\n",
    "result = map(square, numbers)\n",
    "print(list(result))"
   ]
  },
  {
   "cell_type": "markdown",
   "id": "7bf31cae-f61f-4a45-9f6a-c27b662d3df1",
   "metadata": {},
   "source": [
    "#### ex.1-2"
   ]
  },
  {
   "cell_type": "code",
   "execution_count": 8,
   "id": "22070bd6-535f-4e97-8d1a-7dea9192ddb0",
   "metadata": {},
   "outputs": [
    {
     "name": "stdout",
     "output_type": "stream",
     "text": [
      "[2, 4, 6, 8]\n"
     ]
    }
   ],
   "source": [
    "numbers = [1, 2, 3, 4]\n",
    "result = map(lambda x: x * 2, numbers)\n",
    "print(list(result))"
   ]
  },
  {
   "cell_type": "markdown",
   "id": "8827085c-92bf-43a5-ba28-fa73abb0742e",
   "metadata": {},
   "source": [
    "#### ex.1-3"
   ]
  },
  {
   "cell_type": "code",
   "execution_count": 9,
   "id": "eb5c8112-ed5f-4654-ac17-fb7d6d72a750",
   "metadata": {},
   "outputs": [
    {
     "name": "stdout",
     "output_type": "stream",
     "text": [
      "['HELLO', 'WORLD', 'PYTHON']\n"
     ]
    }
   ],
   "source": [
    "words = [\"hello\", \"world\", \"python\"]\n",
    "result = map(str.upper, words)\n",
    "print(list(result))"
   ]
  },
  {
   "cell_type": "markdown",
   "id": "2304f551-5277-4450-94d0-2839a99bc477",
   "metadata": {},
   "source": [
    "### What can it do?"
   ]
  },
  {
   "cell_type": "markdown",
   "id": "2e2d7ccf-2652-4b7e-9c74-79ba565e49b5",
   "metadata": {},
   "source": [
    "#### ex.level.2\n",
    "- 여러 개의 리스트를 동시에 처리 가능"
   ]
  },
  {
   "cell_type": "code",
   "execution_count": 10,
   "id": "8383e53d-0370-4e2e-a086-e31d7765dc62",
   "metadata": {},
   "outputs": [
    {
     "name": "stdout",
     "output_type": "stream",
     "text": [
      "[5, 7, 9]\n"
     ]
    }
   ],
   "source": [
    "numbers1 = [1, 2, 3]\n",
    "numbers2 = [4, 5, 6]\n",
    "result = map(lambda x, y: x + y, numbers1, numbers2)\n",
    "print(list(result))"
   ]
  },
  {
   "cell_type": "markdown",
   "id": "22346ebb-6ec9-405c-9093-0636b9c5534d",
   "metadata": {},
   "source": [
    "#### ex.level.3\n",
    "- filter와 조합하여 특정 조건에 맞는 값 변환"
   ]
  },
  {
   "cell_type": "code",
   "execution_count": 11,
   "id": "4efc51b3-d9f4-46c8-a07f-c8f2e0e3ea30",
   "metadata": {},
   "outputs": [
    {
     "name": "stdout",
     "output_type": "stream",
     "text": [
      "[4, 16, 36]\n"
     ]
    }
   ],
   "source": [
    "numbers = [1, 2, 3, 4, 5, 6]\n",
    "even_squares = map(lambda x: x * x, filter(lambda x: x % 2 == 0, numbers))\n",
    "print(list(even_squares))"
   ]
  },
  {
   "cell_type": "markdown",
   "id": "c9e519e3-4c6f-4238-a40a-758c28e023b7",
   "metadata": {},
   "source": [
    "## 3. slicing"
   ]
  },
  {
   "cell_type": "markdown",
   "id": "bc2a5dbf-f21d-4719-9fb9-daa80d6b763f",
   "metadata": {},
   "source": [
    "### 기본구조\n",
    "`list[start:stop:step]`"
   ]
  },
  {
   "cell_type": "markdown",
   "id": "e400d8b1-6b75-48a9-ab2e-848ee34ae2c8",
   "metadata": {},
   "source": [
    "슬라이싱은 문자열 또는 리스트에서 특정 범위를 추출하거나 변형하는 기능이다.\n",
    "\n",
    "- `start`: 시작 인덱스 (생략 시 처음부터)\n",
    "- `stop`: 종료 인덱스 (해당 인덱스 특정할 시에는 포함되지 않음)\n",
    "- `step`: 증가 폭 (음수면 역순)\n",
    "\n",
    "슬라이싱의 **결과는 원본과 동일한 타입**(`str`이던 `list`이던)을 가지며, 원본 데이터를 변경하지 않는다. "
   ]
  },
  {
   "cell_type": "markdown",
   "id": "ee11e081-1804-4eea-bafb-98dcfeee7c69",
   "metadata": {},
   "source": [
    "### Examples"
   ]
  },
  {
   "cell_type": "markdown",
   "id": "dbbb5b2c-fd5c-44fd-ad75-255a2a519eb5",
   "metadata": {},
   "source": [
    "#### Stage 1: 기본 기능**"
   ]
  },
  {
   "cell_type": "code",
   "execution_count": 13,
   "id": "99594ada-2023-4090-a28b-cf6486422637",
   "metadata": {},
   "outputs": [
    {
     "name": "stdout",
     "output_type": "stream",
     "text": [
      "bcd\n",
      "fedcba\n"
     ]
    }
   ],
   "source": [
    "text = \"abcdef\"\n",
    "print(text[1:4])\n",
    "print(text[::-1]) # 문자열 뒤집기"
   ]
  },
  {
   "cell_type": "markdown",
   "id": "b265d325-00ac-4394-a925-62cc210abf86",
   "metadata": {},
   "source": [
    "#### Stage 2: 실용적인 활용**"
   ]
  },
  {
   "cell_type": "code",
   "execution_count": 14,
   "id": "b1bce14f-a00d-4518-8071-2307e79a9a36",
   "metadata": {},
   "outputs": [
    {
     "name": "stdout",
     "output_type": "stream",
     "text": [
      "Python\n",
      "Pto rgamn\n"
     ]
    }
   ],
   "source": [
    "text = \"Python Programming\"\n",
    "print(text[:6])    # 처음부터 6번째 문자 전까지\n",
    "print(text[::2])   # 2칸씩 건너뛰기"
   ]
  },
  {
   "cell_type": "markdown",
   "id": "d44cb31f-5a61-4232-9183-61d0b2c19544",
   "metadata": {},
   "source": [
    "### What it can do\n",
    "- 문자열을 손쉽게 **뒤집거나 특정 부분을 추출**할 수 있다.\n",
    "- 일정 간격으로 **특정 패턴의 데이터만 추출**할 수 있다.\n",
    "- 리스트에서도 동일하게 활용할 수 있어 **행렬의 특정 행·열을 추출**할 수 있다.\n",
    "- **데이터를 일정 간격으로 정리**하는 데 유용하다."
   ]
  },
  {
   "cell_type": "markdown",
   "id": "ff5d341a-2df5-43d4-8d99-4067ef730416",
   "metadata": {},
   "source": [
    "#### **Level 2: 행렬 데이터 활용**"
   ]
  },
  {
   "cell_type": "code",
   "execution_count": 5,
   "id": "c375183b-bf52-4b84-a209-70a07076741f",
   "metadata": {},
   "outputs": [
    {
     "name": "stdout",
     "output_type": "stream",
     "text": [
      "[1, 4, 7]\n"
     ]
    }
   ],
   "source": [
    "matrix = [\n",
    "    [1, 2, 3],\n",
    "    [4, 5, 6],\n",
    "    [7, 8, 9]\n",
    "]\n",
    "column_1 = [row[0] for row in matrix]  # [1, 4, 7] → 첫 번째 열 가져오기\n",
    "print(column_1)"
   ]
  },
  {
   "cell_type": "code",
   "execution_count": 6,
   "id": "30d35daf-533a-46f7-95b1-31cdf4ad5dab",
   "metadata": {},
   "outputs": [
    {
     "name": "stdout",
     "output_type": "stream",
     "text": [
      "[[7, 8, 9], [4, 5, 6], [1, 2, 3]]\n"
     ]
    }
   ],
   "source": [
    "reverse_rows = matrix[::-1]  # 행 순서 뒤집기\n",
    "print(reverse_rows)"
   ]
  },
  {
   "cell_type": "code",
   "execution_count": null,
   "id": "e644c69f-d4c0-47fd-a167-767da1726b82",
   "metadata": {},
   "outputs": [],
   "source": []
  }
 ],
 "metadata": {
  "kernelspec": {
   "display_name": "Python 3 (ipykernel)",
   "language": "python",
   "name": "python3"
  },
  "language_info": {
   "codemirror_mode": {
    "name": "ipython",
    "version": 3
   },
   "file_extension": ".py",
   "mimetype": "text/x-python",
   "name": "python",
   "nbconvert_exporter": "python",
   "pygments_lexer": "ipython3",
   "version": "3.13.1"
  }
 },
 "nbformat": 4,
 "nbformat_minor": 5
}
