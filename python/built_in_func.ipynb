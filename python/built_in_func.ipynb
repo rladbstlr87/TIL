{
 "cells": [
  {
   "cell_type": "markdown",
   "id": "e36a5327-2c03-4b13-bd4d-f6f5d84fed7d",
   "metadata": {},
   "source": [
    "# built-in function"
   ]
  },
  {
   "cell_type": "markdown",
   "id": "a35ddebf-8769-47fe-8589-f297e7e10c46",
   "metadata": {},
   "source": [
    "# 함수"
   ]
  },
  {
   "cell_type": "markdown",
   "id": "1f2c6e6f-27d4-4fe4-8713-9d921aa0bea9",
   "metadata": {},
   "source": [
    "## 1. divmod"
   ]
  },
  {
   "cell_type": "markdown",
   "id": "b65b7d50-5f9a-48f4-9cd5-cda727b42d21",
   "metadata": {},
   "source": [
    "### 기본구조\n",
    "```py\n",
    " divmod(a, b)\n",
    "```\n",
    "\n",
    "- 두 숫자를 입력받아 (몫, 나머지) 튜플을 반환하는 함수\n",
    "- `a // b` (몫)와 `a % b` (나머지)를 한 번의 연산으로 구할 수 있어 성능 면에서 유리하다\n",
    "- 정수뿐만 아니라 실수에도 적용 가능\n",
    "\n",
    "- **`a`**: 나눌 값 (dividend)\n",
    "- **`b`**: 나누는 값 (divisor)"
   ]
  },
  {
   "cell_type": "markdown",
   "id": "4a5a05b9-aabe-4b82-931e-a8fe46f28d8b",
   "metadata": {},
   "source": [
    "### For example"
   ]
  },
  {
   "cell_type": "markdown",
   "id": "709559de-12ff-49e9-8de9-f09cae5f6a62",
   "metadata": {},
   "source": [
    "#### ex.1-1\n",
    "```py\n",
    "print(divmod(10, 3))  # (3, 1)\n",
    "```"
   ]
  },
  {
   "cell_type": "markdown",
   "id": "a76ba624-5898-4046-b0e8-d73768776230",
   "metadata": {},
   "source": [
    "#### ex.1-2\n",
    "```py\n",
    "quotient, _ = divmod(20, 4)\n",
    "print(quotient)  # 5\n",
    "```"
   ]
  },
  {
   "cell_type": "markdown",
   "id": "eeb08f4d-a995-4bdb-b641-64e8a82ec406",
   "metadata": {},
   "source": [
    "#### ex.1-3\n",
    "```py\n",
    "a, b = 10.5, 2.5\n",
    "print(divmod(a, b))  # (4.0, 0.5)\n",
    "```"
   ]
  },
  {
   "cell_type": "markdown",
   "id": "ac089c6e-8398-46b3-bceb-7ab9298d0571",
   "metadata": {},
   "source": [
    "### What can it do?"
   ]
  },
  {
   "cell_type": "markdown",
   "id": "1ec87e5f-a84e-4d87-868a-da6fb959f374",
   "metadata": {},
   "source": [
    "#### ex.level.2\n",
    "- **여러 값에 대해 반복문에서 활용 가능**\n",
    "```py\n",
    "numbers = [(15, 4), (23, 5), (7, 2)]\n",
    "for a, b in numbers:\n",
    "    quotient, remainder = divmod(a, b)\n",
    "    print(f\"{a} / {b} -> 몫: {quotient}, 나머지: {remainder}\")\n",
    "```"
   ]
  },
  {
   "cell_type": "markdown",
   "id": "a020ba4e-5877-4696-8215-428270ff0284",
   "metadata": {},
   "source": [
    "#### ex.level.3\n",
    "- **실수 연산 시 나머지가 소수점을 가질 수 있음**\n",
    "```py\n",
    "a, b = 22.7, 3.1\n",
    "print(divmod(a, b))  # (7.0, 1.5999999999999996)\n",
    "```"
   ]
  },
  {
   "cell_type": "markdown",
   "id": "4e9e81b5-bc58-4019-b85a-6c0f84356a45",
   "metadata": {},
   "source": [
    "# 함수"
   ]
  },
  {
   "cell_type": "markdown",
   "id": "3d3912de-4d64-423f-ae99-3eb93793f3c2",
   "metadata": {},
   "source": [
    "## 1. map"
   ]
  },
  {
   "cell_type": "markdown",
   "id": "4aad5282-9584-4b96-8877-d60e60df93e5",
   "metadata": {},
   "source": [
    "### 기본구조\n",
    "```py\n",
    "map(function, iterable)\n",
    "```\n",
    "\n",
    "- 주어진 함수(function)를 반복 가능한 객체(iterable)의 모든 요소에 적용하는 함수\n",
    "- 첫 번째 인자로 함수, 두 번째 인자로 반복 가능한 객체를 받아 각 요소에 함수를 적용한 결과를 반환함\n",
    "- 반환값은 `map` 객체이므로 `list()` 또는 `tuple()`로 변환하여 사용할 수 있음\n",
    "\n",
    "- **`function`**: 각 요소에 적용할 함수\n",
    "- **`iterable`**: 반복 가능한 객체 (리스트, 튜플 등)"
   ]
  },
  {
   "cell_type": "markdown",
   "id": "72b4529b-f285-4b8e-a709-e4b4dba62c58",
   "metadata": {},
   "source": [
    "### For example"
   ]
  },
  {
   "cell_type": "markdown",
   "id": "a5b08d5f-cdca-4e7b-b38c-335052b46b78",
   "metadata": {},
   "source": [
    "#### ex.1-1\n",
    "```py\n",
    "def square(x):\n",
    "    return x * x\n",
    "\n",
    "numbers = [1, 2, 3, 4]\n",
    "result = map(square, numbers)\n",
    "print(list(result))  # [1, 4, 9, 16]\n",
    "```"
   ]
  },
  {
   "cell_type": "markdown",
   "id": "85b415c4-b699-4c11-b870-7748aaddc2b8",
   "metadata": {},
   "source": [
    "#### ex.1-2\n",
    "```py\n",
    "numbers = [1, 2, 3, 4]\n",
    "result = map(lambda x: x * 2, numbers)\n",
    "print(list(result))  # [2, 4, 6, 8]\n",
    "```"
   ]
  },
  {
   "cell_type": "markdown",
   "id": "7c6536c6-8f40-44e6-926f-34ca030f3589",
   "metadata": {},
   "source": [
    "#### ex.1-3\n",
    "```py\n",
    "words = [\"hello\", \"world\", \"python\"]\n",
    "result = map(str.upper, words)\n",
    "print(list(result))  # ['HELLO', 'WORLD', 'PYTHON']\n",
    "```"
   ]
  },
  {
   "cell_type": "markdown",
   "id": "2304f551-5277-4450-94d0-2839a99bc477",
   "metadata": {},
   "source": [
    "### What can it do?"
   ]
  },
  {
   "cell_type": "markdown",
   "id": "e3d200c5-91ca-459c-955b-814bf48365aa",
   "metadata": {},
   "source": [
    "#### ex.level.2\n",
    "- 여러 개의 리스트를 동시에 처리 가능\n",
    "```py\n",
    "numbers1 = [1, 2, 3]\n",
    "numbers2 = [4, 5, 6]\n",
    "result = map(lambda x, y: x + y, numbers1, numbers2)\n",
    "print(list(result))  # [5, 7, 9]\n",
    "```"
   ]
  },
  {
   "cell_type": "markdown",
   "id": "3b403189-fe81-430f-a129-87bc048f4312",
   "metadata": {},
   "source": [
    "#### ex.level.3\n",
    "- filter와 조합하여 특정 조건에 맞는 값 변환\n",
    "```py\n",
    "numbers = [1, 2, 3, 4, 5, 6]\n",
    "even_squares = map(lambda x: x * x, filter(lambda x: x % 2 == 0, numbers))\n",
    "print(list(even_squares))  # [4, 16, 36]\n",
    "```"
   ]
  },
  {
   "cell_type": "code",
   "execution_count": null,
   "id": "d77bd59e-5973-42ae-a729-559cfec1adf7",
   "metadata": {},
   "outputs": [],
   "source": []
  }
 ],
 "metadata": {
  "kernelspec": {
   "display_name": "Python 3 (ipykernel)",
   "language": "python",
   "name": "python3"
  },
  "language_info": {
   "codemirror_mode": {
    "name": "ipython",
    "version": 3
   },
   "file_extension": ".py",
   "mimetype": "text/x-python",
   "name": "python",
   "nbconvert_exporter": "python",
   "pygments_lexer": "ipython3",
   "version": "3.13.1"
  }
 },
 "nbformat": 4,
 "nbformat_minor": 5
}
