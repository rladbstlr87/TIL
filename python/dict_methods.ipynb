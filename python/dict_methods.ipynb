{
 "cells": [
  {
   "cell_type": "markdown",
   "id": "4c162c32-91c0-4783-8238-0029a415ad33",
   "metadata": {},
   "source": [
    "# dict methods\n",
    "- 근데 왠만하면 메소드는 자습서 찾아서 써버릇하자"
   ]
  },
  {
   "cell_type": "code",
   "execution_count": 1,
   "id": "dbebe9d8-0afb-4e6e-8b79-2f240d06ccb0",
   "metadata": {},
   "outputs": [],
   "source": [
    "info = {\n",
    "    'name': 'kim',\n",
    "    'location': 'seoul',\n",
    "    'age': 20,\n",
    "    'phone_book': {\n",
    "        'kim': '010-8787-5454',\n",
    "        'park': '010-1234-4567'\n",
    "    },\n",
    "    'models': ['iphone', 'ipad'],\n",
    "}"
   ]
  },
  {
   "cell_type": "code",
   "execution_count": 3,
   "id": "3c5c541b-766c-40f7-b47d-8b59c85cb7ac",
   "metadata": {},
   "outputs": [
    {
     "name": "stdout",
     "output_type": "stream",
     "text": [
      "kim\n",
      "20\n",
      "010-1234-4567\n",
      "['iphone', 'ipad']\n"
     ]
    }
   ],
   "source": [
    "print(info['name']) # 키를 이용해서 접근한다\n",
    "print(info['age'])\n",
    "print(info['phone_book']['park']) # 무적권! 한땀한땀 들어가야한다\n",
    "print(info['models'])"
   ]
  },
  {
   "cell_type": "code",
   "execution_count": 4,
   "id": "5e8368bf-30da-4e39-b145-138059cfaa08",
   "metadata": {},
   "outputs": [
    {
     "name": "stdout",
     "output_type": "stream",
     "text": [
      "choi\n"
     ]
    }
   ],
   "source": [
    "# value를 재할당 할 수도 있다\n",
    "info.update(name = 'choi')\n",
    "print(info['name'])"
   ]
  },
  {
   "cell_type": "code",
   "execution_count": 6,
   "id": "05dad4ef-393a-4a67-9a75-043abd403f7e",
   "metadata": {},
   "outputs": [
    {
     "data": {
      "text/plain": [
       "'choi'"
      ]
     },
     "execution_count": 6,
     "metadata": {},
     "output_type": "execute_result"
    }
   ],
   "source": [
    "# key별 value에 접근하려면\n",
    "info.get('name') #1"
   ]
  },
  {
   "cell_type": "code",
   "execution_count": 7,
   "id": "39483356-cd0f-4ec1-8ab9-9fcc5d86b9e7",
   "metadata": {},
   "outputs": [
    {
     "data": {
      "text/plain": [
       "'choi'"
      ]
     },
     "execution_count": 7,
     "metadata": {},
     "output_type": "execute_result"
    }
   ],
   "source": [
    "info['name'] #2\n",
    "# 이렇게 두가지가 있는데 약간의 차이가 있다"
   ]
  },
  {
   "cell_type": "code",
   "execution_count": 8,
   "id": "b0eeff0b-fd83-429c-97f2-70c0cb0dbaa7",
   "metadata": {},
   "outputs": [
    {
     "name": "stdout",
     "output_type": "stream",
     "text": [
      "None\n"
     ]
    },
    {
     "ename": "KeyError",
     "evalue": "'birth'",
     "output_type": "error",
     "traceback": [
      "\u001b[0;31m---------------------------------------------------------------------------\u001b[0m",
      "\u001b[0;31mKeyError\u001b[0m                                  Traceback (most recent call last)",
      "Cell \u001b[0;32mIn[8], line 3\u001b[0m\n\u001b[1;32m      1\u001b[0m \u001b[38;5;66;03m# birth라는 없는 key를 호출하면..\u001b[39;00m\n\u001b[1;32m      2\u001b[0m \u001b[38;5;28mprint\u001b[39m(info\u001b[38;5;241m.\u001b[39mget(\u001b[38;5;124m'\u001b[39m\u001b[38;5;124mbirth\u001b[39m\u001b[38;5;124m'\u001b[39m)) \u001b[38;5;66;03m# 동작은 하면서 none을 출력한다\u001b[39;00m\n\u001b[0;32m----> 3\u001b[0m \u001b[38;5;28mprint\u001b[39m(\u001b[43minfo\u001b[49m\u001b[43m[\u001b[49m\u001b[38;5;124;43m'\u001b[39;49m\u001b[38;5;124;43mbirth\u001b[39;49m\u001b[38;5;124;43m'\u001b[39;49m\u001b[43m]\u001b[49m) \u001b[38;5;66;03m# get을 안쓰고 호출하면 에러발생\u001b[39;00m\n",
      "\u001b[0;31mKeyError\u001b[0m: 'birth'"
     ]
    }
   ],
   "source": [
    "# birth라는 없는 key를 호출하면..\n",
    "print(info.get('birth')) # 동작은 하면서 none을 출력한다\n",
    "print(info['birth']) # get을 안쓰고 호출하면 에러발생"
   ]
  },
  {
   "cell_type": "code",
   "execution_count": 9,
   "id": "b40a4908-f539-4525-a93f-a1255f0ba046",
   "metadata": {},
   "outputs": [],
   "source": [
    "# 연습문제\n",
    "blood_type = ['A', 'B', 'O', 'O', 'O', 'A', 'AB', 'A', 'A', 'A', 'B', 'B', 'O', 'O', 'A']\n",
    "\n",
    "# A형이 몇명이고 B형이 몇명인지.araboja\n",
    "# {'A': a명, 'B': b명, 'AB': c명, 'O': d명}"
   ]
  },
  {
   "cell_type": "code",
   "execution_count": 11,
   "id": "7d345470-d559-4585-b126-4e7449c4d300",
   "metadata": {},
   "outputs": [
    {
     "name": "stdout",
     "output_type": "stream",
     "text": [
      "{'A': 6, 'B': 3, 'O': 5, 'AB': 1}\n"
     ]
    }
   ],
   "source": [
    "result = {}\n",
    "\n",
    "for blood in blood_type:\n",
    "    if result.get(blood): # get으로 접근하면 없는 key는 none=False로 if에 들어갈 수 있다\n",
    "        result[blood] += 1\n",
    "    else:\n",
    "        result[blood] = 1 # key에 '= 1'처럼 무언가를 할당하면 value에 할당된다\n",
    "        \n",
    "print(result)"
   ]
  },
  {
   "cell_type": "code",
   "execution_count": null,
   "id": "d99a86b4-4a6d-4a8b-acc4-bec457c5b305",
   "metadata": {},
   "outputs": [],
   "source": []
  }
 ],
 "metadata": {
  "kernelspec": {
   "display_name": "Python 3 (ipykernel)",
   "language": "python",
   "name": "python3"
  },
  "language_info": {
   "codemirror_mode": {
    "name": "ipython",
    "version": 3
   },
   "file_extension": ".py",
   "mimetype": "text/x-python",
   "name": "python",
   "nbconvert_exporter": "python",
   "pygments_lexer": "ipython3",
   "version": "3.13.1"
  }
 },
 "nbformat": 4,
 "nbformat_minor": 5
}
