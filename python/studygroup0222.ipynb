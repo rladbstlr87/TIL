{
 "cells": [
  {
   "cell_type": "code",
   "execution_count": 80,
   "id": "d52c034a-1ae0-4351-af87-1610dd9d1c5f",
   "metadata": {},
   "outputs": [
    {
     "name": "stdout",
     "output_type": "stream",
     "text": [
      "10\n"
     ]
    }
   ],
   "source": [
    "# 예제 1: 1부터 10까지의 합 구하기\n",
    "\n",
    "\n",
    "for i in range(1, 11):\n",
    "    total = 0\n",
    "    total = total + i\n",
    "print(total)"
   ]
  },
  {
   "cell_type": "code",
   "execution_count": 54,
   "id": "5ddb21f0-8752-4596-93a2-ec99bcb2a431",
   "metadata": {},
   "outputs": [
    {
     "name": "stdout",
     "output_type": "stream",
     "text": [
      "사과 바나나 오렌지 "
     ]
    }
   ],
   "source": [
    "# 예제 2: 리스트에 있는 문자열 출력하기\n",
    "fruits = [\"사과\", \"바나나\", \"오렌지\"]\n",
    "for i in fruits:\n",
    "    print(i, end =\" \")"
   ]
  },
  {
   "cell_type": "code",
   "execution_count": 72,
   "id": "dee578cc-34e2-4517-8ac5-66e2665a08e0",
   "metadata": {},
   "outputs": [
    {
     "name": "stdout",
     "output_type": "stream",
     "text": [
      "2 *1 = 2\n",
      "2 *2 = 4\n",
      "2 *3 = 6\n",
      "2 *4 = 8\n",
      "2 *5 = 10\n",
      "2 *6 = 12\n",
      "2 *7 = 14\n",
      "2 *8 = 16\n",
      "2 *9 = 18\n"
     ]
    }
   ],
   "source": [
    "# 예제 3: 구구단 2단 출력하기\n",
    "# for i in range(1, 10):\n",
    "\n",
    "m = 2\n",
    "for i in range(1, 10):\n",
    "    print(f'{m} *{i} = {m*i}')"
   ]
  },
  {
   "cell_type": "code",
   "execution_count": null,
   "id": "96c1a667-1602-456b-80c2-1b93c852ea84",
   "metadata": {},
   "outputs": [],
   "source": [
    "# 예제 4: 1부터 20까지의 숫자 중 짝수만 출력하기\n",
    "for i in range(1, 21):"
   ]
  }
 ],
 "metadata": {
  "kernelspec": {
   "display_name": "Python 3 (ipykernel)",
   "language": "python",
   "name": "python3"
  },
  "language_info": {
   "codemirror_mode": {
    "name": "ipython",
    "version": 3
   },
   "file_extension": ".py",
   "mimetype": "text/x-python",
   "name": "python",
   "nbconvert_exporter": "python",
   "pygments_lexer": "ipython3",
   "version": "3.13.1"
  }
 },
 "nbformat": 4,
 "nbformat_minor": 5
}
