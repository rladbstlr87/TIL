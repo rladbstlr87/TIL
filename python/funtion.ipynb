{
 "cells": [
  {
   "cell_type": "markdown",
   "id": "34ebf7dc-2705-47d0-9aa6-29622d99118c",
   "metadata": {},
   "source": [
    "# function\n",
    "- 여러 반복작업을 간단하게 해주는 기능을 만들 수 있게하는 구조를 가지고 있다"
   ]
  },
  {
   "cell_type": "markdown",
   "id": "0d3c15d6-5286-415b-9161-b0cf5a4c781b",
   "metadata": {
    "jp-MarkdownHeadingCollapsed": true
   },
   "source": [
    "### 기본구조"
   ]
  },
  {
   "cell_type": "markdown",
   "id": "e06c740d-1200-49ad-a485-b1cc26675ef7",
   "metadata": {},
   "source": [
    "#### 1. 축약\n",
    "```python\n",
    "# 시작 함수이름작명\n",
    "def greeting():\n",
    "    print('안녕하세요 중고차신뢰딜러 차은우입니다') # 함수내용\n",
    "```\n",
    "아래와 같이 입력하면\n",
    "```python\n",
    "greeting()\n",
    "greeting()\n",
    "\n",
    "greeting()\n",
    "```\n",
    "```\n",
    "안녕하세요 중고차신뢰딜러 차은우입니다\n",
    "안녕하세요 중고차신뢰딜러 차은우입니다\n",
    "\n",
    "안녕하세요 중고차신뢰딜러 차은우입니다\n",
    "```\n",
    "이렇게 나온다....라고 개념을 잡으면 된다"
   ]
  },
  {
   "cell_type": "markdown",
   "id": "3b7cf9f0-4b41-4b24-b80b-a819f10b94a9",
   "metadata": {},
   "source": [
    "#### 2. 마법의 모자 만들기 가능\n",
    "- 마술하는 사람들이 모자안에 별걸 다 넣어둿다가 꺼내는 것 처럼..\n",
    "\n",
    "```python\n",
    "def hat():\n",
    "    print()\n",
    "```\n",
    "아무것도 안넣어서 아무것도 안나온다\n",
    "`hat()` -> 아무것도 표시가 안됨. 실행은 됐을 것\n",
    "\n",
    "---\n",
    "모자 안의 공간에 뭘 집어 넣을 것이라고 선전포고 하는 것 처럼, space에 뭘 넣을 것이라고 선언해보자\n",
    "```python\n",
    "def hat(space):\n",
    "    print(space)\n",
    "    #      ^ 공간 안에 넣은건 어떻게 처리할지 여기서 정의\n",
    "    \n",
    "hat(1234) # 그럼 이제 함수쓸 때 공간에 자료 집어넣기 가능\n",
    "# hat()실행하는데 space자리에 1234 집어넣어서 실행하셈~\n",
    "```\n",
    "```python\n",
    "def hat(space):\n",
    "    print(space + 1)\n",
    "    #      ^ 공간 안에 넣은건 어떻게 처리할지 여기서 정의\n",
    "    \n",
    "hat(1) # 2가 나오겠고\n",
    "hat(2) # 3이 나올 것이다\n",
    "```\n",
    "결론 : 뭔가 집어넣으면 다른게 나오는 변환기"
   ]
  },
  {
   "cell_type": "markdown",
   "id": "a3654fb4-7b92-4004-8c12-4682cf8812f2",
   "metadata": {},
   "source": [
    "#### 3. 함수의 특징\n",
    "- 함수 실행하고 나서 가죽을 남기고 싶을 때\n",
    "```python\n",
    "def func_name():\n",
    "    return 10 # 함수 실행하고나서 10을 남겨주세요\n",
    "```"
   ]
  },
  {
   "cell_type": "markdown",
   "id": "9e1052a9-b87b-42cd-a61f-d8f5668ee47f",
   "metadata": {},
   "source": [
    "### What can it do?\n",
    "- 긴 코드를 축약할 수 있다\n",
    "- 마법모자를 만들어서 사용할 수 있다"
   ]
  },
  {
   "cell_type": "code",
   "execution_count": null,
   "id": "af3848e5-2536-46fa-909c-7621a5b7069d",
   "metadata": {},
   "outputs": [],
   "source": []
  }
 ],
 "metadata": {
  "kernelspec": {
   "display_name": "Python 3 (ipykernel)",
   "language": "python",
   "name": "python3"
  },
  "language_info": {
   "codemirror_mode": {
    "name": "ipython",
    "version": 3
   },
   "file_extension": ".py",
   "mimetype": "text/x-python",
   "name": "python",
   "nbconvert_exporter": "python",
   "pygments_lexer": "ipython3",
   "version": "3.13.2"
  }
 },
 "nbformat": 4,
 "nbformat_minor": 5
}
