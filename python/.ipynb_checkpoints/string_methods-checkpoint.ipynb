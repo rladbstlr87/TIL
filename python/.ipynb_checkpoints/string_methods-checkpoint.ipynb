{
 "cells": [
  {
   "cell_type": "markdown",
   "id": "30ce590c-004e-477c-a1c6-ece02ba7a9fc",
   "metadata": {},
   "source": [
    "# string methods and functions\n",
    "- 근데 왠만하면 메소드는 자습서 찾아서 써버릇하자"
   ]
  },
  {
   "cell_type": "markdown",
   "id": "33ea2260-04c7-4c90-8d58-99bbef3e56f9",
   "metadata": {
    "jp-MarkdownHeadingCollapsed": true
   },
   "source": [
    "## 1 slpit\n",
    "```python\n",
    "'str'split()\n",
    "'str'split('sep')\n",
    "'str'split(sep='sep', 'maximum split')\n",
    "'str'split(sep='sep', maxsplit='maximum split')\n",
    "```\n",
    "\n",
    "- 인터넷창을 스플릿뷰 즉, 나누어 보는것처럼 문자열을 잘라준다 그러면서 리스트가 됨\n",
    "- str을 sep(separation)의 구분자를 기준으로 maxsplit 횟수만큼 잘라서 list로 반환함\n",
    "\n",
    "```python\n",
    "'str'split('sep') # sep은 띄어쓰기나 ',' '' 등이 들어갈 수 있음\n",
    "'str'split(sep='sep', 'maximum split') # maxsplit자리는 생략할 수 있고 입력하면 숫자만큼 칼질한다 그럼 나눠진 문자열은 칼질횟수+1이 됨\n",
    "'str'split('sep', 'maximum split') # 쓰기 편한 방식\n",
    "```"
   ]
  },
  {
   "cell_type": "markdown",
   "id": "c952a775-25d8-40ff-832a-47b45c73571b",
   "metadata": {},
   "source": [
    "### Examples"
   ]
  },
  {
   "cell_type": "markdown",
   "id": "07f305b7-a595-49d3-93b7-f185d37b0908",
   "metadata": {},
   "source": [
    "#### ex1-1\n",
    "```py\n",
    "sentence = \"Python is fun to learn!\"\n",
    "words = sentencesplit()  \n",
    "print(words)  # ['Python', 'is', 'fun', 'to', 'learn!']\n",
    "```"
   ]
  },
  {
   "cell_type": "markdown",
   "id": "b4aeca4b-8b94-4a02-9773-3dc0102d356d",
   "metadata": {},
   "source": [
    "#### ex1-2\n",
    "```py\n",
    "emoji_text = \"🍕Pizza🍔Burger🌭Hotdog\"\n",
    "foods_name = emoji_textsplit(\"🍕🍔🌭\")  \n",
    "print(foods_name)  # ['', 'Pizza', 'Burger', 'Hotdog']\n",
    "```"
   ]
  },
  {
   "cell_type": "markdown",
   "id": "25afccf5-8a8c-43bc-80c4-f5cefe2feb6e",
   "metadata": {},
   "source": [
    "#### ex1-3\n",
    "```py\n",
    "sentence = \"apple,banana,cherry,orange,grape\"\n",
    "split_sentence = sentencesplit(\",\", maxsplit=2)\n",
    "print(split_sentence)  # ['apple', 'banana', 'cherry,orange,grape']\n",
    "```"
   ]
  },
  {
   "cell_type": "markdown",
   "id": "5b797e8d-cbbf-4b96-8ade-cb541ce86088",
   "metadata": {},
   "source": [
    "### What can it do?\n",
    "- CSV 파일처럼 구분자로 구분된 데이터를 처리하는 경우에 유용한다 데이터를 분할한 후, int() 함수를 사용하여 숫자를 처리하거나, join() 메소드를 이용해 다시 합칠 수 있습니다"
   ]
  },
  {
   "cell_type": "markdown",
   "id": "6c0a26d5-8872-4e3e-be51-2179de712329",
   "metadata": {},
   "source": [
    "#### ex2\n",
    "```py\n",
    "data = \"John,Doe,30,New York\"\n",
    "fields = datasplit(\",\")  \n",
    "\n",
    "# 나이를 정수로 변환하고, 나머지는 출력\n",
    "age = int(fields[2])  # '30'을 정수로 변환\n",
    "location = fields[3]  # 'New York'\n",
    "\n",
    "print(f\"Name: {fields[0]} {fields[1]}, Age: {age}, Location: {location}\")\n",
    "# Output: Name: John Doe, Age: 30, Location: New York\n",
    "```\n",
    "- 활용 : split()으로 나눈 후, 나이를 숫자로 변환하거나, 다른 작업을 할 수 있습니다 예를 들어, 나이를 기준으로 어떤 조건을 추가하거나, 다른 데이터를 변형할 수 있습니다"
   ]
  },
  {
   "cell_type": "markdown",
   "id": "1edf118b-e62a-4c10-90a5-88437c3d08e6",
   "metadata": {},
   "source": [
    "#### ex3\n",
    "```py\n",
    "poem = \"Roses are red;Violets are blue;Sugar is sweet;And so are you\"\n",
    "lines = poemsplit(\";\", maxsplit=2)  \n",
    "\n",
    "# 첫 번째와 두 번째 구절을 이어붙여서 새로운 시를 만든다\n",
    "new_poem = \" - \"join(lines[:2])  # 'Roses are red - Violets are blue'\n",
    "print(new_poem)  # Output: Roses are red - Violets are blue\n",
    "```\n",
    "- 활용 : split()과 maxsplit을 활용해 시를 나누고, join()을 사용해 나눈 데이터를 이어 붙이는 방법다"
   ]
  },
  {
   "cell_type": "markdown",
   "id": "fd7dbfd7-b0fe-4da5-8169-6becbc594b14",
   "metadata": {
    "jp-MarkdownHeadingCollapsed": true
   },
   "source": [
    "## 2 strip"
   ]
  },
  {
   "cell_type": "markdown",
   "id": "885f02b7-2bf7-4f92-9a19-7a5d716e6725",
   "metadata": {},
   "source": [
    "`'str'strip()`\n",
    "- 기본값은 '공백'으로 좌우 공백을 다 잘라준다"
   ]
  },
  {
   "cell_type": "markdown",
   "id": "1658defc-97e9-4cbe-b231-a95e12c1acd8",
   "metadata": {
    "jp-MarkdownHeadingCollapsed": true
   },
   "source": [
    "## 3 upper / lower / swapcase"
   ]
  },
  {
   "cell_type": "markdown",
   "id": "bbf51487-e4e6-487c-bd09-79c7aa8408cd",
   "metadata": {},
   "source": [
    "```python\n",
    "'str'upper()\n",
    "'str'lower()\n",
    "'str'swapcase()\n",
    "```\n",
    "- 대소문자를 바꿔준다"
   ]
  },
  {
   "cell_type": "markdown",
   "id": "4ac1e7e8-cba2-4744-ab51-e475b017a1bb",
   "metadata": {},
   "source": [
    "## 4 startswith / endswith"
   ]
  },
  {
   "cell_type": "markdown",
   "id": "ee832386-daaa-43e9-a52b-9abaa29a0aaa",
   "metadata": {},
   "source": [
    "## 5. `.translate()` and `str.maketrans()`\n",
    "- `.translate()`\n",
    "  - 문자열의 특정 문자들을 지정한 문자로 변환하거나 제거하는 메소드다\n",
    "  - `.translate()`는 `str.maketrans()`와 함께 사용됨\n",
    "\n",
    "- `str.maketrans()`\n",
    "  - 바꿀 규칙을 정의하는 메소드로, `.translate()`에 전달할 매핑 테이블을 생성함\n",
    "  - 구문: `str.maketrans(x, y, z)`\n",
    "    - `x`: 변환할 문자\n",
    "    - `y`: `x`에 대응(매핑)하는 변환 후 문자\n",
    "    - `z`: 삭제할 문자"
   ]
  },
  {
   "cell_type": "markdown",
   "id": "83d29b24-3216-420d-8744-76d98e84d2f6",
   "metadata": {},
   "source": [
    "### Examples"
   ]
  },
  {
   "cell_type": "markdown",
   "id": "0fc82b5d-b062-4b84-9cf0-fc365eb85584",
   "metadata": {},
   "source": [
    "#### Stage 1: 기본 기능"
   ]
  },
  {
   "cell_type": "code",
   "execution_count": 1,
   "id": "a09540de-776d-4238-9f43-b7d5a683b7e7",
   "metadata": {},
   "outputs": [
    {
     "name": "stdout",
     "output_type": "stream",
     "text": [
      "HeLLO wOrLd\n"
     ]
    }
   ],
   "source": [
    "text = \"hello world\"\n",
    "trans_table = str.maketrans(\"hlo\", \"HLO\")\n",
    "print(text.translate(trans_table))"
   ]
  },
  {
   "cell_type": "markdown",
   "id": "79901597-2117-4c97-ad75-f33396efed4b",
   "metadata": {},
   "source": [
    "#### Stage 2: 실전 활용"
   ]
  },
  {
   "cell_type": "code",
   "execution_count": 2,
   "id": "bfc9283f-0311-4017-9476-b7750a9e569d",
   "metadata": {},
   "outputs": [
    {
     "name": "stdout",
     "output_type": "stream",
     "text": [
      "phone 1234567890\n"
     ]
    }
   ],
   "source": [
    "text = \"phone: 123-456-7890\"\n",
    "trans_table = str.maketrans(\"\", \"\", \"-:\")\n",
    "print(text.translate(trans_table))"
   ]
  },
  {
   "cell_type": "markdown",
   "id": "0cb7c5e9-38e1-49d1-b3e0-a1fcc2c16f74",
   "metadata": {},
   "source": [
    "#### Stage 3: 고급 기능"
   ]
  },
  {
   "cell_type": "code",
   "execution_count": 3,
   "id": "5e3af1ea-d5d0-4406-b0b2-e6607db7c802",
   "metadata": {},
   "outputs": [
    {
     "name": "stdout",
     "output_type": "stream",
     "text": [
      "Apple| bAnAnA| cherrY\n"
     ]
    }
   ],
   "source": [
    "text = \"apple, banana, cherry\"\n",
    "trans_table = str.maketrans({\"a\": \"A\", \",\": \"|\", \"y\": \"Y\"})\n",
    "print(text.translate(trans_table))"
   ]
  },
  {
   "cell_type": "markdown",
   "id": "70eb2f2f-1f9f-4225-af54-ba5b16e4c05f",
   "metadata": {},
   "source": [
    "### What it can do"
   ]
  },
  {
   "cell_type": "markdown",
   "id": "98776abe-c632-4eca-bfe6-07338bceb019",
   "metadata": {},
   "source": [
    "#### ex1\n",
    "- 프로그래머스 가위바위보 문제\n",
    "- 가위는 2 바위는 0 보는 5로 표현합니다. 가위 바위 보를 내는 순서대로 나타낸 문자열 rsp가 매개변수로 주어질 때, rsp에 저장된 가위 바위 보를 모두 이기는 경우를 순서대로 나타낸 문자열을 return하도록 solution 함수를 완성해보세요."
   ]
  },
  {
   "cell_type": "code",
   "execution_count": 8,
   "id": "35a4d79d-c4d8-4c68-ab9d-f7c03ba4b7a5",
   "metadata": {},
   "outputs": [
    {
     "name": "stdout",
     "output_type": "stream",
     "text": [
      "0\n",
      "052\n"
     ]
    }
   ],
   "source": [
    "def solution(rsp):\n",
    "    return rsp.translate(str.maketrans('025', '502'))\n",
    "\n",
    "print(solution('2'))\n",
    "print(solution('205'))"
   ]
  },
  {
   "cell_type": "markdown",
   "id": "c7f2bca0-62f9-412e-92c6-12d6687af04f",
   "metadata": {},
   "source": [
    "#### ex2\n",
    "- 특수 문자 제거 및 공백 처리"
   ]
  },
  {
   "cell_type": "code",
   "execution_count": 5,
   "id": "aaeb66fd-7e8c-4c25-b291-d20b38a7e18b",
   "metadata": {},
   "outputs": [
    {
     "name": "stdout",
     "output_type": "stream",
     "text": [
      "Hello How are you\n"
     ]
    }
   ],
   "source": [
    "text = \"  Hello! How are you?  \"\n",
    "trans_table = str.maketrans(\"\", \"\", \"!?\\n\")\n",
    "print(text.strip().translate(trans_table))"
   ]
  },
  {
   "cell_type": "code",
   "execution_count": null,
   "id": "add50a9b-d898-4388-9661-25a093f18f05",
   "metadata": {},
   "outputs": [],
   "source": []
  }
 ],
 "metadata": {
  "kernelspec": {
   "display_name": "Python 3 (ipykernel)",
   "language": "python",
   "name": "python3"
  },
  "language_info": {
   "codemirror_mode": {
    "name": "ipython",
    "version": 3
   },
   "file_extension": ".py",
   "mimetype": "text/x-python",
   "name": "python",
   "nbconvert_exporter": "python",
   "pygments_lexer": "ipython3",
   "version": "3.13.1"
  }
 },
 "nbformat": 4,
 "nbformat_minor": 5
}
