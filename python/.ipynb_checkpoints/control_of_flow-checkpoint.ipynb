{
 "cells": [
  {
   "cell_type": "markdown",
   "id": "3f12b1d5-f7a6-4ad7-b7bc-d6a1bd0eadb8",
   "metadata": {},
   "source": [
    "# 반복문"
   ]
  },
  {
   "cell_type": "markdown",
   "id": "6412b82d-bccb-4941-a039-0143050b5968",
   "metadata": {},
   "source": [
    "## for\n",
    "- 예제와 연습문제를 통해서 반복숙달"
   ]
  },
  {
   "cell_type": "markdown",
   "id": "633a272c-8e9b-44b8-8df1-f7f7897461bd",
   "metadata": {},
   "source": [
    "### 예제"
   ]
  },
  {
   "cell_type": "code",
   "execution_count": 16,
   "id": "431e5661-2219-413b-821d-f9e45a58d012",
   "metadata": {},
   "outputs": [
    {
     "name": "stdout",
     "output_type": "stream",
     "text": [
      "55\n"
     ]
    }
   ],
   "source": [
    "# 예제 1: 1부터 10까지의 합 구하기\n",
    "# range(1, 11)을 이용하여 1부터 10까지 반복하면서 각 값을 total에 더합니다.\n",
    "total = 0\n",
    "for i in range(1, 11):\n",
    "    total += i\n",
    "print(total)"
   ]
  },
  {
   "cell_type": "markdown",
   "id": "faf7ba90-fcbe-48d4-bdad-1e4d99479117",
   "metadata": {},
   "source": [
    "...아직 각 값을 더하는 더미를 만들기 위해 total을 할당하기까지의 생각이 잘 뻗질 않는다"
   ]
  },
  {
   "cell_type": "code",
   "execution_count": 19,
   "id": "3a0b3a75-49d5-4c0e-9caa-08f345c86390",
   "metadata": {},
   "outputs": [
    {
     "name": "stdout",
     "output_type": "stream",
     "text": [
      "apple\n",
      "banana\n",
      "strawberry\n",
      "ggyul\n"
     ]
    }
   ],
   "source": [
    "# 예제 2: 리스트에 있는 문자열 출력하기\n",
    "# 리스트 fruits의 각 요소를 for 반복문으로 하나씩 꺼내어 출력합니다.\n",
    "fruits = ['apple', 'banana', 'strawberry', 'ggyul']\n",
    "for i in fruits:\n",
    "    print(i)"
   ]
  },
  {
   "cell_type": "markdown",
   "id": "9db8402c-cd65-4398-b653-3481d847fa71",
   "metadata": {},
   "source": [
    "...여기서는 print()안에 i를 넣어야 한다는 것을 놓쳤다"
   ]
  },
  {
   "cell_type": "code",
   "execution_count": 22,
   "id": "02af3701-1fc7-4790-905a-8b2b533d1957",
   "metadata": {},
   "outputs": [
    {
     "name": "stdout",
     "output_type": "stream",
     "text": [
      "2 * 1 = 2\n",
      "2 * 2 = 4\n",
      "2 * 3 = 6\n",
      "2 * 4 = 8\n",
      "2 * 5 = 10\n",
      "2 * 6 = 12\n",
      "2 * 7 = 14\n",
      "2 * 8 = 16\n",
      "2 * 9 = 18\n"
     ]
    }
   ],
   "source": [
    "# 예제 3: 구구단 2단 출력하기\n",
    "# 1부터 9까지의 숫자를 이용하여 2단의 구구단을 출력합니다.\n",
    "for i in range(1, 10):\n",
    "    print(f'2 * {i} = {2 * i}')"
   ]
  },
  {
   "cell_type": "markdown",
   "id": "8aaeb271-31f8-4f2b-b83e-7455cd540878",
   "metadata": {},
   "source": [
    "...오 이건 좀 잘했다"
   ]
  },
  {
   "cell_type": "code",
   "execution_count": 9,
   "id": "c00b956f-b329-442a-b9b5-f126cf2692d2",
   "metadata": {},
   "outputs": [
    {
     "name": "stdout",
     "output_type": "stream",
     "text": [
      "[2, 4, 6, 8, 10, 12, 14, 16, 18, 20]\n",
      "<class 'int'>\n",
      "2\n"
     ]
    }
   ],
   "source": [
    "# 예제 4: 1부터 20까지의 짝수만 출력하기\n",
    "# for 반복문과 조건문(if)을 활용해 1부터 20까지의 숫자 중 짝수만 판별하여 출력합니다.\n",
    "even = []\n",
    "for i in range(1, 21):\n",
    "    if i % 2 == 0:\n",
    "        even.append(i)\n",
    "print(even)\n",
    "print(type(even[0]))\n",
    "print(even[0])\n"
   ]
  },
  {
   "cell_type": "code",
   "execution_count": 11,
   "id": "dc605138-54f0-4754-9074-b0d887de39df",
   "metadata": {},
   "outputs": [
    {
     "name": "stdout",
     "output_type": "stream",
     "text": [
      "2\n",
      "4\n",
      "6\n",
      "8\n",
      "10\n",
      "12\n",
      "14\n",
      "16\n",
      "18\n",
      "20\n",
      "<class 'int'>\n"
     ]
    }
   ],
   "source": [
    "for i in range(1, 21):\n",
    "    if i % 2 == 0:\n",
    "        print(i)\n",
    "print(type(i))"
   ]
  },
  {
   "cell_type": "markdown",
   "id": "7287bbcc-4a81-4d64-8872-9bc109ec3c55",
   "metadata": {},
   "source": [
    "...출력한 짝수를 리스트 안에 넣는것까지 자력으로 했다. 우와우"
   ]
  },
  {
   "cell_type": "markdown",
   "id": "8373e2ea-dfcd-4768-807e-02e5855082bf",
   "metadata": {},
   "source": [
    "### 연습문제"
   ]
  },
  {
   "cell_type": "markdown",
   "id": "52c01efc-2103-4aa2-ab27-be35147c2b6d",
   "metadata": {},
   "source": [
    "문제 1: 팩토리얼 계산하기\n",
    "\n",
    "문제 설명:\n",
    "사용자로부터 정수 N을 입력받아, N! (팩토리얼)을 계산하는 프로그램을 작성하세요.\n",
    "힌트:\n",
    "1부터 N까지의 모든 정수를 곱하면 됩니다."
   ]
  },
  {
   "cell_type": "code",
   "execution_count": 13,
   "id": "ece32aec-ad40-40fc-8091-133daddb15ac",
   "metadata": {},
   "outputs": [
    {
     "name": "stdin",
     "output_type": "stream",
     "text": [
      " 3\n"
     ]
    },
    {
     "name": "stdout",
     "output_type": "stream",
     "text": [
      "6\n"
     ]
    }
   ],
   "source": [
    "N = int(input())\n",
    "fac = 1\n",
    "for i in range(1, N+1):\n",
    "    fac = fac * i\n",
    "print(fac)"
   ]
  },
  {
   "cell_type": "markdown",
   "id": "11bc37ab-0913-49ac-9018-aa66b9ebfb74",
   "metadata": {},
   "source": [
    "print에 fac 넣어야 하는거 놓침"
   ]
  },
  {
   "cell_type": "markdown",
   "id": "0179389e-9eac-48bf-8874-6f5fab97f1a9",
   "metadata": {},
   "source": [
    "문제 2: 리스트의 최대값 찾기\n",
    "\n",
    "문제 설명:\n",
    "주어진 리스트에서 가장 큰 수를 찾아 출력하는 프로그램을 작성하세요.\n",
    "힌트:\n",
    "리스트의 첫 번째 원소를 최대값으로 초기화한 후, for 반복문으로 각 요소와 비교합니다."
   ]
  },
  {
   "cell_type": "code",
   "execution_count": 15,
   "id": "b2bb7421-5e8b-44ee-a750-09b73b19de3f",
   "metadata": {},
   "outputs": [
    {
     "name": "stdout",
     "output_type": "stream",
     "text": [
      "9\n"
     ]
    }
   ],
   "source": [
    "numbers = [-3, -5, -2, 3, 5, 2, 8, 1, 9, 4]\n",
    "max_val = numbers[0]\n",
    "for i in numbers:\n",
    "    if i > max_val:\n",
    "        max_val = i\n",
    "print(max_val)"
   ]
  },
  {
   "cell_type": "markdown",
   "id": "8abd7319-ccc4-4ffc-9737-ea01c64760ff",
   "metadata": {},
   "source": [
    "...마지막에 print(i)로 해서 값이 이상하게 나오길래 뭐지 하다가 파이썬튜터로 한단계씩 돌리면서 겨우 i를 max_val로 바꿔야 한다는 것을 알아챔"
   ]
  },
  {
   "cell_type": "markdown",
   "id": "c1f312f5-c9b4-4ec5-b5c8-c49c3e83ade2",
   "metadata": {},
   "source": [
    "문제 3: 문자열 내 모음의 개수 세기\n",
    "\n",
    "문제 설명:\n",
    "사용자로부터 문자열을 입력받고, 그 문자열 내에 있는 모음(a, e, i, o, u, A, E, I, O, U)의 개수를 출력하는 프로그램을 작성하세요.\n",
    "힌트:\n",
    "문자열을 하나씩 순회하면서 해당 문자가 모음인지 확인합니다."
   ]
  },
  {
   "cell_type": "code",
   "execution_count": 59,
   "id": "9edf3495-1929-419e-91c2-ec62a51ea733",
   "metadata": {},
   "outputs": [
    {
     "name": "stdout",
     "output_type": "stream",
     "text": [
      "aeiouAEIOU\n"
     ]
    }
   ],
   "source": [
    "moeum = 'a, e, i, o, u, A, E, I, O, U'\n",
    "print(moeum.replace(', ', ''))\n"
   ]
  },
  {
   "cell_type": "code",
   "execution_count": 66,
   "id": "e23ef9f2-5b4b-4e2a-a94d-58c3f887e813",
   "metadata": {},
   "outputs": [
    {
     "name": "stdin",
     "output_type": "stream",
     "text": [
      " ㅁㄴㅇ래ㅣㅑㅓㅗㅈㄷㄱㄹ\n"
     ]
    },
    {
     "name": "stdout",
     "output_type": "stream",
     "text": [
      "0\n"
     ]
    }
   ],
   "source": [
    "text = input()\n",
    "moeum = 'aeiouAEIOU'\n",
    "m = 0\n",
    "for i in text:\n",
    "    if i in moeum:\n",
    "        m += 1\n",
    "print(m)"
   ]
  },
  {
   "cell_type": "markdown",
   "id": "654e2ae5-9f47-44b7-9c77-4da6396968b0",
   "metadata": {},
   "source": [
    "...print해야하는 m도 0으로 먼저 초기화 할당해야 하는 것을 놓쳤다"
   ]
  },
  {
   "cell_type": "markdown",
   "id": "baa7c591-420e-46bc-9c22-0fc88bf513d3",
   "metadata": {},
   "source": [
    "문제 5: 2차원 리스트(행렬)의 각 행의 합 구하기\n",
    "\n",
    "문제 설명:\n",
    "2차원 리스트(행렬)가 주어졌을 때, 각 행의 합을 구하여 출력하는 프로그램을 작성하세요.\n",
    "힌트:\n",
    "이중 for 반복문을 사용하여 각 행의 원소를 합산합니다.\n"
   ]
  },
  {
   "cell_type": "code",
   "execution_count": 68,
   "id": "a71cb9ff-2c96-43fe-93b1-b4013f0a1b1c",
   "metadata": {},
   "outputs": [
    {
     "name": "stdout",
     "output_type": "stream",
     "text": [
      "6\n",
      "15\n",
      "24\n"
     ]
    }
   ],
   "source": [
    "matrix = [\n",
    "    [1, 2, 3],\n",
    "    [4, 5, 6],\n",
    "    [7, 8, 9]\n",
    "]\n",
    "\n",
    "for row in matrix:\n",
    "    rowsum = 0\n",
    "    for num in row:\n",
    "        rowsum += num\n",
    "    print(rowsum)"
   ]
  },
  {
   "cell_type": "markdown",
   "id": "b4b8560f-73ba-471c-b165-ac3ff7c78930",
   "metadata": {},
   "source": [
    "...변수에 직관적 작명을 하니까 의외로 쉽게 풀렸다.. 변수 작명은 중요하다. print의 위치는 잡기 어려웠다. 이렇게 해보고 저렇게 해봄"
   ]
  },
  {
   "cell_type": "markdown",
   "id": "d8a11590-968f-4470-9eac-4f8ff23c5fcd",
   "metadata": {},
   "source": [
    "피보나치 어려워서 일단 뒤로 미루고 다시 풀어본다"
   ]
  },
  {
   "cell_type": "markdown",
   "id": "06557050-70cd-45e4-bf6b-5363d239c305",
   "metadata": {},
   "source": [
    "문제 4: 피보나치 수열 출력하기\n",
    "\n",
    "문제 설명:\n",
    "사용자로부터 N을 입력받아, N개의 피보나치 수열을 출력하는 프로그램을 작성하세요.\n",
    "힌트:\n",
    "피보나치 수열은 처음 두 수가 0과 1이며, 이후의 수는 바로 앞 두 수의 합입니다."
   ]
  },
  {
   "cell_type": "code",
   "execution_count": null,
   "id": "4879b59e-3965-4f46-aaac-15ba5caecc4b",
   "metadata": {},
   "outputs": [],
   "source": [
    "N = int(input())\n",
    "a, b = 0, 1\n",
    "\n",
    "for i in range("
   ]
  }
 ],
 "metadata": {
  "kernelspec": {
   "display_name": "Python 3 (ipykernel)",
   "language": "python",
   "name": "python3"
  },
  "language_info": {
   "codemirror_mode": {
    "name": "ipython",
    "version": 3
   },
   "file_extension": ".py",
   "mimetype": "text/x-python",
   "name": "python",
   "nbconvert_exporter": "python",
   "pygments_lexer": "ipython3",
   "version": "3.13.1"
  }
 },
 "nbformat": 4,
 "nbformat_minor": 5
}
