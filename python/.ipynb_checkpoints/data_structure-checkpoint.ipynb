{
 "cells": [
  {
   "cell_type": "markdown",
   "id": "f308aca3-f9ec-4078-b1db-780358f654c6",
   "metadata": {},
   "source": [
    "# 자료구조"
   ]
  },
  {
   "cell_type": "markdown",
   "id": "28ed66ac-d93e-42eb-8dd0-9dd8219ca10f",
   "metadata": {},
   "source": [
    "## list\n",
    "- python에서 **list**는 여러 개의 값을 순서대로 저장하는 자료구조이다\n",
    "- list의 각 요소는 **index**라는 번호로 접근할 수 있다 "
   ]
  },
  {
   "cell_type": "markdown",
   "id": "7709981c-e776-426a-81b4-9504c497dda3",
   "metadata": {},
   "source": [
    "### 기본개념"
   ]
  },
  {
   "cell_type": "markdown",
   "id": "0c310de9-73fd-4cad-8168-054b65290e90",
   "metadata": {},
   "source": [
    "#### 1. 리스트는 ‘순서(index)가 있는 값들의 모음’"
   ]
  },
  {
   "cell_type": "code",
   "execution_count": 1,
   "id": "5ad37b1a-7f9a-44c3-88ad-98c80b576740",
   "metadata": {},
   "outputs": [
    {
     "name": "stdout",
     "output_type": "stream",
     "text": [
      "10\n",
      "20\n"
     ]
    }
   ],
   "source": [
    "count = [10, 20]  # 리스트 생성\n",
    "print(count[0])  # 첫 번째 요소 (10)\n",
    "print(count[1])  # 두 번째 요소 (20)"
   ]
  },
  {
   "cell_type": "markdown",
   "id": "ac8808e3-c595-481f-b2cd-8ac7d9d40761",
   "metadata": {},
   "source": [
    "count[0]은 첫 번째 값, count[1]은 두 번째 값이다."
   ]
  },
  {
   "cell_type": "markdown",
   "id": "6568a2a8-a9a3-4f21-b235-a634e12b72eb",
   "metadata": {},
   "source": [
    "#### 2. 리스트의 값은 변경이 된다"
   ]
  },
  {
   "cell_type": "code",
   "execution_count": 3,
   "id": "c8b934db-c0c7-498a-808a-b597afdfa083",
   "metadata": {},
   "outputs": [
    {
     "name": "stdout",
     "output_type": "stream",
     "text": [
      "[15, 25]\n"
     ]
    }
   ],
   "source": [
    "count = [10, 20]\n",
    "count[0] = 15  # 첫 번째 값(10 → 15) 변경\n",
    "count[1] += 5  # 두 번째 값(20 → 25) 증가\n",
    "\n",
    "print(count)"
   ]
  },
  {
   "cell_type": "markdown",
   "id": "0701db7f-a8da-42fa-9cc6-bcfdc3a430f3",
   "metadata": {},
   "source": [
    "### What can it do?"
   ]
  },
  {
   "cell_type": "markdown",
   "id": "99d99d12-e003-4ac2-8147-599ba5bfceea",
   "metadata": {},
   "source": [
    "#### ex.level.2\n",
    "`count[n % 2] += 1`"
   ]
  },
  {
   "cell_type": "markdown",
   "id": "4cf34d86-69fe-42e2-b187-ea07a8d92d0e",
   "metadata": {},
   "source": [
    "n % 2는 0 또는 1을 반환하게 된다\n",
    "- n % 2 == 0 → count[0] += 1\n",
    "- n % 2 == 1 → count[1] += 1"
   ]
  },
  {
   "cell_type": "code",
   "execution_count": 7,
   "id": "1389cf53-8890-482d-91d9-774a6fae470d",
   "metadata": {},
   "outputs": [
    {
     "name": "stdout",
     "output_type": "stream",
     "text": [
      "[2, 3]\n",
      "[0, 4]\n"
     ]
    }
   ],
   "source": [
    "def solution(num_list):\n",
    "    count = [0,0]\n",
    "    for n in num_list:\n",
    "        count[n % 2] += 1\n",
    "    return count\n",
    "\n",
    "print(solution([1, 2, 3, 4, 5]))\n",
    "print(solution([1, 3, 5, 7]))"
   ]
  },
  {
   "cell_type": "markdown",
   "id": "543a32d0-7edf-4012-9d4c-8d59c3bad924",
   "metadata": {},
   "source": [
    "즉, count[n % 2]는 n이 짝수인지 홀수인지에 따라 count[0] 또는 count[1]을 선택해서 증가시키는 역할을 하게된다.\n",
    "- 실행 과정\n",
    "1. 1 → 1 % 2 = 1 → count[1] += 1 → [0, 1]\n",
    "2. 2 → 2 % 2 = 0 → count[0] += 1 → [1, 1]\n",
    "3. 3 → 3 % 2 = 1 → count[1] += 1 → [1, 2]\n",
    "4. 4 → 4 % 2 = 0 → count[0] += 1 → [2, 2]\n",
    "5. 5 → 5 % 2 = 1 → count[1] += 1 → [2, 3]"
   ]
  },
  {
   "cell_type": "code",
   "execution_count": null,
   "id": "9e91507c-0df6-4740-b198-61bba0dabeaf",
   "metadata": {},
   "outputs": [],
   "source": []
  }
 ],
 "metadata": {
  "kernelspec": {
   "display_name": "Python 3 (ipykernel)",
   "language": "python",
   "name": "python3"
  },
  "language_info": {
   "codemirror_mode": {
    "name": "ipython",
    "version": 3
   },
   "file_extension": ".py",
   "mimetype": "text/x-python",
   "name": "python",
   "nbconvert_exporter": "python",
   "pygments_lexer": "ipython3",
   "version": "3.13.1"
  }
 },
 "nbformat": 4,
 "nbformat_minor": 5
}
