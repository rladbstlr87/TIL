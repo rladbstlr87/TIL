{
 "cells": [
  {
   "cell_type": "code",
   "execution_count": 5,
   "id": "175cb0d6-ddba-405e-8135-cb4abe48b9dd",
   "metadata": {},
   "outputs": [
    {
     "name": "stdout",
     "output_type": "stream",
     "text": [
      "hello world\n"
     ]
    }
   ],
   "source": [
    "print('hello world')"
   ]
  },
  {
   "cell_type": "markdown",
   "id": "819491ad-a460-447d-ba5c-c2ba115df2c8",
   "metadata": {},
   "source": [
    "# 01.intro"
   ]
  },
  {
   "cell_type": "markdown",
   "id": "d1beace8-3a91-4a51-8537-cb2a5690d0dd",
   "metadata": {},
   "source": [
    "## shortcut"
   ]
  },
  {
   "cell_type": "markdown",
   "id": "df343de0-e199-49a4-a0b9-13742b06e166",
   "metadata": {},
   "source": [
    "- ctrl + enter : 현재 셀 실행\n",
    "- shift + enter : 현재 셀 실행 & 아래로 이동\n",
    "- alt + enter : 현재 셀 실행 & 새로운 셀 만들며 이동"
   ]
  },
  {
   "cell_type": "markdown",
   "id": "c4299953-c140-40db-8222-3b6448d4c2b0",
   "metadata": {},
   "source": [
    "## 주의사항\n",
    "1. Apple/apple\n",
    "2. git add . / git add.\n",
    "3. message / massage"
   ]
  },
  {
   "cell_type": "code",
   "execution_count": null,
   "id": "b27afeed-89b1-4653-a229-a5b9704e0e95",
   "metadata": {},
   "outputs": [],
   "source": []
  }
 ],
 "metadata": {
  "kernelspec": {
   "display_name": "Python 3 (ipykernel)",
   "language": "python",
   "name": "python3"
  },
  "language_info": {
   "codemirror_mode": {
    "name": "ipython",
    "version": 3
   },
   "file_extension": ".py",
   "mimetype": "text/x-python",
   "name": "python",
   "nbconvert_exporter": "python",
   "pygments_lexer": "ipython3",
   "version": "3.13.1"
  }
 },
 "nbformat": 4,
 "nbformat_minor": 5
}
