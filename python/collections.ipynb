{
 "cells": [
  {
   "cell_type": "markdown",
   "id": "f27f9662-58b8-42f8-8a36-2fb6df49efcf",
   "metadata": {},
   "source": [
    "# collections\n",
    "- 파이썬에서 데이터를 쉽게 다룰 수 있게 해주는 라이브러리"
   ]
  },
  {
   "cell_type": "markdown",
   "id": "ff318c71-7db4-41be-8c44-1b06c9cf6397",
   "metadata": {},
   "source": [
    "## 1. Counter\n",
    "- 리스트나 문자열 등 시퀀스형 자료에서 값들이 등장하는 갯수를 계산해줌\n",
    "- 리스트의 값들은 key가 되고 등장횟수는 value가 됨\n",
    "\n",
    "- Counter는 collections 모듈에 포함된 클래스이며, 입력된 시퀀스(리스트, 문자열 등)에서 각 요소의 빈도수를 dict 형태로 반환함"
   ]
  },
  {
   "cell_type": "markdown",
   "id": "dad99bc0-3bfa-4b75-9ce0-7b00b506bc94",
   "metadata": {},
   "source": [
    "### 기본구조\n",
    "```py\n",
    "Counter(array)\n",
    "Counter(str)\n",
    "```"
   ]
  },
  {
   "cell_type": "markdown",
   "id": "0452dda0-c8b9-4c21-8f28-e7372523da9f",
   "metadata": {},
   "source": [
    "### For examples"
   ]
  },
  {
   "cell_type": "markdown",
   "id": "de6e1452-340d-41ad-8bb5-a32435e20611",
   "metadata": {},
   "source": [
    "#### ex.1-1"
   ]
  },
  {
   "cell_type": "code",
   "execution_count": 10,
   "id": "08d0b25a-d5bc-429a-9f2f-7aebe4d5ebec",
   "metadata": {},
   "outputs": [
    {
     "data": {
      "text/plain": [
       "Counter({3: 3, 1: 1, 2: 1, 4: 1})"
      ]
     },
     "execution_count": 10,
     "metadata": {},
     "output_type": "execute_result"
    }
   ],
   "source": [
    "from collections import Counter\n",
    "\n",
    "array = [1, 2, 3, 3, 3, 4]\n",
    "Counter(array) # 원래 이거 출력 안되는거같은데 주피터노트북이 출력해주는 것같다"
   ]
  },
  {
   "cell_type": "markdown",
   "id": "d2dc8098-8499-483d-be08-bdf9ffcddcb7",
   "metadata": {},
   "source": [
    "#### ex.1-2"
   ]
  },
  {
   "cell_type": "code",
   "execution_count": 11,
   "id": "bbe10697-4289-4a24-b515-4f794e33aa42",
   "metadata": {},
   "outputs": [
    {
     "data": {
      "text/plain": [
       "Counter({'a': 5, 'b': 2, 'r': 2, 'c': 1, 'd': 1})"
      ]
     },
     "execution_count": 11,
     "metadata": {},
     "output_type": "execute_result"
    }
   ],
   "source": [
    "string = 'abracadabra'\n",
    "Counter(string)"
   ]
  },
  {
   "cell_type": "markdown",
   "id": "3df3c8e9-d993-4efd-a866-2e9ba1bb3157",
   "metadata": {},
   "source": [
    "### What it can do?"
   ]
  },
  {
   "cell_type": "markdown",
   "id": "7fbffb00-6f50-459a-a31f-14fe49f1e066",
   "metadata": {},
   "source": [
    "#### ex.level.2-1\n",
    "- 프로그래머스 최빈값 구하기 문제\n",
    "    - 최빈값은 주어진 값 중에서 가장 자주 나오는 값을 의미합니다. 정수 배열 array가 매개변수로 주어질 때, 최빈값을 return 하도록 solution 함수를 완성해보세요. 최빈값이 여러 개면 -1을 return 합니다."
   ]
  },
  {
   "cell_type": "code",
   "execution_count": 15,
   "id": "4163d969-6566-4470-b293-a96551225e5e",
   "metadata": {},
   "outputs": [
    {
     "name": "stdout",
     "output_type": "stream",
     "text": [
      "3\n",
      "-1\n",
      "1\n"
     ]
    }
   ],
   "source": [
    "def solution(array):\n",
    "    answer = []\n",
    "    \n",
    "    for k, v in Counter(array).items():\n",
    "        if v == max(Counter(array).values()):\n",
    "            answer.append(k)\n",
    "    if len(answer) > 1:\n",
    "        return -1\n",
    "    else:\n",
    "        return answer[0]\n",
    "\n",
    "print(solution([1, 2, 3, 3, 3, 4]))\n",
    "print(solution([1, 1, 2, 2]))\n",
    "print(solution([1]))"
   ]
  },
  {
   "cell_type": "code",
   "execution_count": 17,
   "id": "45e9e6cf-4fb6-4d3a-a902-3b03d7ea568a",
   "metadata": {},
   "outputs": [
    {
     "name": "stdout",
     "output_type": "stream",
     "text": [
      "[('a', 5)]\n"
     ]
    }
   ],
   "source": [
    "def solution(array):\n",
    "    count = Counter(array)\n",
    "    return count.most_common(1)\n",
    "\n",
    "print(solution('abracadabra'))"
   ]
  },
  {
   "cell_type": "markdown",
   "id": "0cc125f2-64a9-4ca3-a055-050a3282fac9",
   "metadata": {},
   "source": [
    "#### ex.level.2-2\n",
    "- elements()를 사용하여 빈도가 가장 낮은 요소를 반환하기"
   ]
  },
  {
   "cell_type": "code",
   "execution_count": 23,
   "id": "fcaa089f-28a8-405b-8948-b5dce0346940",
   "metadata": {},
   "outputs": [
    {
     "data": {
      "text/plain": [
       "Counter({3: 3, 2: 2, 1: 1, 4: 1})"
      ]
     },
     "execution_count": 23,
     "metadata": {},
     "output_type": "execute_result"
    }
   ],
   "source": [
    "array = [1, 2, 2, 3, 3, 3, 4]\n",
    "count = Counter(array)\n",
    "Counter(array)"
   ]
  },
  {
   "cell_type": "code",
   "execution_count": 24,
   "id": "ec807008-19c4-4999-8af7-de8dd8729326",
   "metadata": {},
   "outputs": [
    {
     "data": {
      "text/plain": [
       "1"
      ]
     },
     "execution_count": 24,
     "metadata": {},
     "output_type": "execute_result"
    }
   ],
   "source": [
    "min(count.values())"
   ]
  },
  {
   "cell_type": "code",
   "execution_count": 25,
   "id": "4d4c2a82-fbff-4a78-8353-c7597617e699",
   "metadata": {},
   "outputs": [
    {
     "name": "stdout",
     "output_type": "stream",
     "text": [
      "[1, 4]\n"
     ]
    }
   ],
   "source": [
    "min_count = min(count.values())  # 최소 빈도수\n",
    "lowest_frequency_elements = [k for k, v in count.items() if v == min_count]\n",
    "\n",
    "print(lowest_frequency_elements) "
   ]
  },
  {
   "cell_type": "code",
   "execution_count": null,
   "id": "e7e53e56-a2cc-4925-914d-6f2b7ff23383",
   "metadata": {},
   "outputs": [],
   "source": []
  }
 ],
 "metadata": {
  "kernelspec": {
   "display_name": "Python 3 (ipykernel)",
   "language": "python",
   "name": "python3"
  },
  "language_info": {
   "codemirror_mode": {
    "name": "ipython",
    "version": 3
   },
   "file_extension": ".py",
   "mimetype": "text/x-python",
   "name": "python",
   "nbconvert_exporter": "python",
   "pygments_lexer": "ipython3",
   "version": "3.13.1"
  }
 },
 "nbformat": 4,
 "nbformat_minor": 5
}
