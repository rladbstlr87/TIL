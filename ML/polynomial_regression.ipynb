{
 "cells": [
  {
   "cell_type": "markdown",
   "id": "ab110627-3675-4008-a41c-f8aff5397f58",
   "metadata": {},
   "source": [
    "# 다중회귀"
   ]
  },
  {
   "cell_type": "markdown",
   "id": "750e0ba0-4762-4b88-a1f6-8d6351b79164",
   "metadata": {},
   "source": [
    "## 음악 재생 수 예측하기\n",
    "- 사용자의 음악 스트리밍 데이터를 기반으로 특정 곡의 재생 횟수를 예측하는 다중 회귀 모델을 만들고 평가해보자\n",
    "- 제공 데이터\n",
    "    - BPM (Beats Per Minute): 곡의 속도\n",
    "    - Energy: 에너지 지표 (0~100)\n",
    "    - Danceability: 춤출 수 있는 정도 (0~100)\n",
    "    - Length: 곡의 길이 (초 단위)\n",
    "    - Popularity: 곡의 인기 점수 (0~100)\n",
    "    - Play_Count: 해당 곡의 총 재생 횟수 (목표 변수)"
   ]
  },
  {
   "cell_type": "markdown",
   "id": "e5bb176a-2853-488b-b761-732557f5c1ea",
   "metadata": {},
   "source": [
    "### 데이터 로드 및 탐색\n",
    "- MusicStreaming.csv 데이터를 불러오고 기본적인 통계를 확인해보기\n",
    "- 파일명 : high_popularity_spotify_data.csv\n",
    "- 결측값이 있는지 확인하고, 필요하면 처리"
   ]
  },
  {
   "cell_type": "code",
   "execution_count": 1,
   "id": "ad35efce-6e1e-4305-a7b2-73c4a5cdd1b4",
   "metadata": {
    "scrolled": true
   },
   "outputs": [
    {
     "data": {
      "text/html": [
       "<div>\n",
       "<style scoped>\n",
       "    .dataframe tbody tr th:only-of-type {\n",
       "        vertical-align: middle;\n",
       "    }\n",
       "\n",
       "    .dataframe tbody tr th {\n",
       "        vertical-align: top;\n",
       "    }\n",
       "\n",
       "    .dataframe thead th {\n",
       "        text-align: right;\n",
       "    }\n",
       "</style>\n",
       "<table border=\"1\" class=\"dataframe\">\n",
       "  <thead>\n",
       "    <tr style=\"text-align: right;\">\n",
       "      <th></th>\n",
       "      <th>track_popularity</th>\n",
       "    </tr>\n",
       "  </thead>\n",
       "  <tbody>\n",
       "    <tr>\n",
       "      <th>0</th>\n",
       "      <td>100</td>\n",
       "    </tr>\n",
       "    <tr>\n",
       "      <th>1</th>\n",
       "      <td>97</td>\n",
       "    </tr>\n",
       "    <tr>\n",
       "      <th>2</th>\n",
       "      <td>93</td>\n",
       "    </tr>\n",
       "    <tr>\n",
       "      <th>3</th>\n",
       "      <td>81</td>\n",
       "    </tr>\n",
       "    <tr>\n",
       "      <th>4</th>\n",
       "      <td>98</td>\n",
       "    </tr>\n",
       "    <tr>\n",
       "      <th>...</th>\n",
       "      <td>...</td>\n",
       "    </tr>\n",
       "    <tr>\n",
       "      <th>1681</th>\n",
       "      <td>76</td>\n",
       "    </tr>\n",
       "    <tr>\n",
       "      <th>1682</th>\n",
       "      <td>74</td>\n",
       "    </tr>\n",
       "    <tr>\n",
       "      <th>1683</th>\n",
       "      <td>69</td>\n",
       "    </tr>\n",
       "    <tr>\n",
       "      <th>1684</th>\n",
       "      <td>82</td>\n",
       "    </tr>\n",
       "    <tr>\n",
       "      <th>1685</th>\n",
       "      <td>69</td>\n",
       "    </tr>\n",
       "  </tbody>\n",
       "</table>\n",
       "<p>1686 rows × 1 columns</p>\n",
       "</div>"
      ],
      "text/plain": [
       "      track_popularity\n",
       "0                  100\n",
       "1                   97\n",
       "2                   93\n",
       "3                   81\n",
       "4                   98\n",
       "...                ...\n",
       "1681                76\n",
       "1682                74\n",
       "1683                69\n",
       "1684                82\n",
       "1685                69\n",
       "\n",
       "[1686 rows x 1 columns]"
      ]
     },
     "execution_count": 1,
     "metadata": {},
     "output_type": "execute_result"
    }
   ],
   "source": [
    "import pandas as pd\n",
    "\n",
    "df = pd.read_csv('../data/high_popularity_spotify_data.csv')\n",
    "df[['track_popularity']]"
   ]
  },
  {
   "cell_type": "code",
   "execution_count": 2,
   "id": "6c5c94b8-f829-4761-8ab0-5da237a6e80d",
   "metadata": {
    "scrolled": true
   },
   "outputs": [
    {
     "data": {
      "text/plain": [
       "energy                      0\n",
       "tempo                       0\n",
       "danceability                0\n",
       "playlist_genre              0\n",
       "loudness                    0\n",
       "liveness                    0\n",
       "valence                     0\n",
       "track_artist                0\n",
       "time_signature              0\n",
       "speechiness                 0\n",
       "track_popularity            0\n",
       "track_href                  0\n",
       "uri                         0\n",
       "track_album_name            1\n",
       "playlist_name               0\n",
       "analysis_url                0\n",
       "track_id                    0\n",
       "track_name                  0\n",
       "track_album_release_date    0\n",
       "instrumentalness            0\n",
       "track_album_id              0\n",
       "mode                        0\n",
       "key                         0\n",
       "duration_ms                 0\n",
       "acousticness                0\n",
       "id                          0\n",
       "playlist_subgenre           0\n",
       "type                        0\n",
       "playlist_id                 0\n",
       "dtype: int64"
      ]
     },
     "execution_count": 2,
     "metadata": {},
     "output_type": "execute_result"
    }
   ],
   "source": [
    "df.isnull().sum()"
   ]
  },
  {
   "cell_type": "code",
   "execution_count": 3,
   "id": "fed96f97-e124-42bb-b955-8f000b51ce4b",
   "metadata": {},
   "outputs": [],
   "source": [
    "df = df.dropna()"
   ]
  },
  {
   "cell_type": "markdown",
   "id": "071b0587-6faa-4faf-b948-1e313198289f",
   "metadata": {},
   "source": [
    "### 데이터 전처리\n",
    "- Genre를 원-핫 인코딩하여 숫자로 변환하기\n",
    "- StandardScaler를 사용하여 BPM, Energy, Danceability, Length, Popularity를 정규화하기\n",
    "- train_test_split을 사용하여 훈련 데이터와 테스트 데이터로 나누기"
   ]
  },
  {
   "cell_type": "code",
   "execution_count": null,
   "id": "ac9213fd-63f3-4e8f-9e5c-30f2a7ac069f",
   "metadata": {},
   "outputs": [],
   "source": [
    "df[['playlist_genre']].value_counts()"
   ]
  },
  {
   "cell_type": "code",
   "execution_count": 8,
   "id": "8beeb64c-dac1-421e-8e76-f94efbfb828b",
   "metadata": {},
   "outputs": [
    {
     "data": {
      "text/plain": [
       "array([[ 3.71058737e+04,  3.74415221e+01,  6.11983398e-01,\n",
       "        -1.28886217e+00, -6.19975768e-01],\n",
       "       [-4.18912549e+03, -1.61913481e+01, -3.32369817e+00,\n",
       "        -3.33296694e+00,  3.55736869e-01],\n",
       "       [-4.82621256e+04, -1.32324560e+01, -4.36298142e+00,\n",
       "         2.53012200e+00,  3.71057678e-01],\n",
       "       ...,\n",
       "       [-2.05221254e+04, -2.23554065e+01,  7.19635838e-01,\n",
       "         1.80533928e+00, -5.40072147e-01],\n",
       "       [-2.46691252e+04, -3.80424739e+01, -4.25364077e+00,\n",
       "         2.47169929e+00,  3.93932507e-01],\n",
       "       [-9.47512583e+03,  5.68483462e+00,  6.32233741e-01,\n",
       "         1.64840759e+00,  4.36768033e-01]], shape=(1686, 5))"
      ]
     },
     "execution_count": 8,
     "metadata": {},
     "output_type": "execute_result"
    }
   ],
   "source": [
    "import numpy as np\n",
    "import pandas as pd\n",
    "from sklearn.decomposition import PCA\n",
    "\n",
    "# 데이터 로드\n",
    "df = pd.read_csv('../data/high_popularity_spotify_data.csv')\n",
    "\n",
    "# 컬럼명 정리 (공백 제거)\n",
    "df.columns = df.columns.str.strip()\n",
    "\n",
    "# 숫자형 데이터만 추출 (문자열 컬럼 자동 제거)\n",
    "df_numeric = df.select_dtypes(include=[np.number])\n",
    "\n",
    "# track_popularity를 target으로 설정\n",
    "song_target = df_numeric[['track_popularity']]\n",
    "\n",
    "# track_popularity를 제외한 입력 데이터 (숫자형만 사용)\n",
    "song_input = df_numeric.drop(columns=['track_popularity'])\n",
    "\n",
    "# PCA 적용 (5개 주요 특성 추출)\n",
    "pca = PCA(n_components=5)\n",
    "song_input_pca = pca.fit_transform(song_input)\n",
    "\n",
    "song_input_pca"
   ]
  },
  {
   "cell_type": "code",
   "execution_count": null,
   "id": "60f5ce75-1373-4902-8d95-a882f9eca1d2",
   "metadata": {},
   "outputs": [],
   "source": [
    "from sklearn.model_selection import train_test_split\n",
    "song_input = df[['tempo', 'energy', 'danceability', 'duration_ms']]\n",
    "song_target = df[['track_popularity']]\n",
    "train_input, test_input, train_target, test_target = train_test_split(song_input, song_target)\n",
    "\n",
    "from sklearn.preprocessing import StandardScaler\n",
    "ss = StandardScaler()\n",
    "\n",
    "ss.fit(train_input)\n",
    "\n",
    "train_scaled = ss.transform(train_input)\n",
    "test_scaled = ss.transform(test_input)"
   ]
  },
  {
   "cell_type": "markdown",
   "id": "fda6092a-9c8d-49bf-8bb4-ec4eeadeb306",
   "metadata": {},
   "source": [
    "### 다중 회귀 모델 훈련\n",
    "- `LinearRegression`을 사용하여 모델을 훈련시키기\n",
    "- `track_popularity`를 예측하는 회귀 모델을 만들고, `R²` 점수를 평가하기"
   ]
  },
  {
   "cell_type": "code",
   "execution_count": null,
   "id": "cbde929b-57fa-4895-93bd-b4d1dff3a043",
   "metadata": {},
   "outputs": [],
   "source": [
    "from sklearn.preprocessing import PolynomialFeatures\n",
    "poly = PolynomialFeatures(include_bias=False)\n",
    "poly.fit(train_input)\n",
    "train_poly = poly.transform(train_input)\n",
    "test_poly = poly.transform(test_input)"
   ]
  },
  {
   "cell_type": "code",
   "execution_count": null,
   "id": "84a685f1-56b0-4587-a1f3-8f4a4398f07d",
   "metadata": {},
   "outputs": [],
   "source": [
    "from sklearn.linear_model import LinearRegression\n",
    "lr = LinearRegression()\n",
    "lr.fit(train_poly, train_target)\n",
    "\n",
    "print(lr.score(train_poly, train_target))\n",
    "print(lr.score(test_poly, test_target))"
   ]
  },
  {
   "cell_type": "markdown",
   "id": "2a6e7749-19a9-4141-a03d-4a9edce7df7b",
   "metadata": {},
   "source": [
    "### 새로운 곡의 재생 수 예측\n",
    "- 임의의 새로운 곡 데이터를 입력하고, 모델이 재생 횟수를 예측하도록 해보기"
   ]
  },
  {
   "cell_type": "code",
   "execution_count": null,
   "id": "3d05d4f9-b9fc-4fed-867e-65536d98dff5",
   "metadata": {},
   "outputs": [],
   "source": [
    "from sklearn.linear_model import SGDRegressor\n",
    "sc = SGDRegressor(loss='squared_error', max_iter=100)\n",
    "sc.fit(train_scaled, train_target)\n",
    "\n",
    "print(sc.score(train_scaled, train_target))\n",
    "print(sc.score(test_scaled, test_target))"
   ]
  },
  {
   "cell_type": "code",
   "execution_count": null,
   "id": "b23eb5e8-ba4b-4bf3-a2c6-f10c1f78ee24",
   "metadata": {},
   "outputs": [],
   "source": [
    "sc.partial_fit(train_scaled, train_target)\n",
    "\n",
    "print(sc.score(train_scaled, train_target))\n",
    "print(sc.score(test_scaled, test_target))"
   ]
  },
  {
   "cell_type": "markdown",
   "id": "a0a53776-4eb0-4783-8e50-144d51807e21",
   "metadata": {},
   "source": [
    "### 결과 시각화\n",
    "- 예측된 track_popularity와 실제 값을 비교하는 **산점도(scatter plot)**를 그리기"
   ]
  },
  {
   "cell_type": "code",
   "execution_count": null,
   "id": "af6d0a2d-3c0f-46ca-b7ee-f18b2670035d",
   "metadata": {},
   "outputs": [],
   "source": [
    "import matplotlib.pyplot as plt\n",
    "plt.scatter(test_target, lr.predict(test_poly))\n",
    "plt.xlabel('Actual Popularity')\n",
    "plt.xlabel('Predicted Popularity')"
   ]
  },
  {
   "cell_type": "code",
   "execution_count": null,
   "id": "af56541a-d6af-4388-83f1-5cf9a75193ac",
   "metadata": {},
   "outputs": [],
   "source": []
  },
  {
   "cell_type": "code",
   "execution_count": null,
   "id": "6d2b1d65-b444-46a5-a942-a8a7c62b9bfd",
   "metadata": {},
   "outputs": [],
   "source": []
  }
 ],
 "metadata": {
  "kernelspec": {
   "display_name": "Python 3 (ipykernel)",
   "language": "python",
   "name": "python3"
  },
  "language_info": {
   "codemirror_mode": {
    "name": "ipython",
    "version": 3
   },
   "file_extension": ".py",
   "mimetype": "text/x-python",
   "name": "python",
   "nbconvert_exporter": "python",
   "pygments_lexer": "ipython3",
   "version": "3.13.2"
  }
 },
 "nbformat": 4,
 "nbformat_minor": 5
}
