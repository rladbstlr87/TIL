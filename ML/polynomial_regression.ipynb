{
 "cells": [
  {
   "cell_type": "markdown",
   "id": "ab110627-3675-4008-a41c-f8aff5397f58",
   "metadata": {},
   "source": [
    "# 다중회귀"
   ]
  },
  {
   "cell_type": "code",
   "execution_count": null,
   "id": "c7cdccbd-ae3f-43f8-bab8-e405e2b1392a",
   "metadata": {},
   "outputs": [],
   "source": []
  }
 ],
 "metadata": {
  "kernelspec": {
   "display_name": "Python 3 (ipykernel)",
   "language": "python",
   "name": "python3"
  },
  "language_info": {
   "codemirror_mode": {
    "name": "ipython",
    "version": 3
   },
   "file_extension": ".py",
   "mimetype": "text/x-python",
   "name": "python",
   "nbconvert_exporter": "python",
   "pygments_lexer": "ipython3",
   "version": "3.13.2"
  }
 },
 "nbformat": 4,
 "nbformat_minor": 5
}
