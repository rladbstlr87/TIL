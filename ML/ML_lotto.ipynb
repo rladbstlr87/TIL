{
 "cells": [
  {
   "cell_type": "markdown",
   "id": "27f3d6da",
   "metadata": {},
   "source": [
    "# find bnusNo\n",
    "- 당첨번호랑 아무상관없는 보너스번호를 예측해보자"
   ]
  },
  {
   "cell_type": "code",
   "execution_count": null,
   "id": "ff2ebcb4-8b89-45cb-ba86-ae4c2e5654a7",
   "metadata": {},
   "outputs": [],
   "source": [
    "import pandas as pd\n",
    "\n",
    "df = pd.read_csv('lotto.csv')\n",
    "columns_order = ['drwNo', '1', '2', '3', '4', '5', '6', 'bnusNo', 'no1', 'no2', 'no3', 'no4', 'no5']\n",
    "df = df[columns_order]\n",
    "df.to_csv('lotto.csv', index=False)"
   ]
  },
  {
   "cell_type": "code",
   "execution_count": 23,
   "id": "75efb6fa-046b-4328-aca9-54597d45c071",
   "metadata": {},
   "outputs": [],
   "source": [
    "money_col = ['no1', 'no2', 'no3', 'no4', 'no5']\n",
    "for col in money_col:\n",
    "    df[col] = df[col].astype(str).str.replace(',', '').astype(int)\n",
    "\n",
    "# 변경된 데이터 저장\n",
    "df.to_csv('lotto.csv', index=False)"
   ]
  },
  {
   "cell_type": "code",
   "execution_count": 24,
   "id": "5be65697-768a-401f-ac9a-c48c86cf0aeb",
   "metadata": {},
   "outputs": [
    {
     "data": {
      "text/html": [
       "<div>\n",
       "<style scoped>\n",
       "    .dataframe tbody tr th:only-of-type {\n",
       "        vertical-align: middle;\n",
       "    }\n",
       "\n",
       "    .dataframe tbody tr th {\n",
       "        vertical-align: top;\n",
       "    }\n",
       "\n",
       "    .dataframe thead th {\n",
       "        text-align: right;\n",
       "    }\n",
       "</style>\n",
       "<table border=\"1\" class=\"dataframe\">\n",
       "  <thead>\n",
       "    <tr style=\"text-align: right;\">\n",
       "      <th></th>\n",
       "      <th>drwNo</th>\n",
       "      <th>1</th>\n",
       "      <th>2</th>\n",
       "      <th>3</th>\n",
       "      <th>4</th>\n",
       "      <th>5</th>\n",
       "      <th>6</th>\n",
       "      <th>bnusNo</th>\n",
       "      <th>no1</th>\n",
       "      <th>no2</th>\n",
       "      <th>no3</th>\n",
       "      <th>no4</th>\n",
       "      <th>no5</th>\n",
       "    </tr>\n",
       "  </thead>\n",
       "  <tbody>\n",
       "    <tr>\n",
       "      <th>0</th>\n",
       "      <td>1161</td>\n",
       "      <td>2</td>\n",
       "      <td>12</td>\n",
       "      <td>20</td>\n",
       "      <td>24</td>\n",
       "      <td>34</td>\n",
       "      <td>42</td>\n",
       "      <td>37</td>\n",
       "      <td>1792657969</td>\n",
       "      <td>40858302</td>\n",
       "      <td>1163970</td>\n",
       "      <td>50000</td>\n",
       "      <td>5000</td>\n",
       "    </tr>\n",
       "    <tr>\n",
       "      <th>1</th>\n",
       "      <td>1160</td>\n",
       "      <td>7</td>\n",
       "      <td>13</td>\n",
       "      <td>18</td>\n",
       "      <td>36</td>\n",
       "      <td>39</td>\n",
       "      <td>45</td>\n",
       "      <td>19</td>\n",
       "      <td>2509359875</td>\n",
       "      <td>59746664</td>\n",
       "      <td>1580202</td>\n",
       "      <td>50000</td>\n",
       "      <td>5000</td>\n",
       "    </tr>\n",
       "    <tr>\n",
       "      <th>2</th>\n",
       "      <td>1159</td>\n",
       "      <td>3</td>\n",
       "      <td>9</td>\n",
       "      <td>27</td>\n",
       "      <td>28</td>\n",
       "      <td>38</td>\n",
       "      <td>39</td>\n",
       "      <td>7</td>\n",
       "      <td>1284854250</td>\n",
       "      <td>44775224</td>\n",
       "      <td>1316215</td>\n",
       "      <td>50000</td>\n",
       "      <td>5000</td>\n",
       "    </tr>\n",
       "    <tr>\n",
       "      <th>3</th>\n",
       "      <td>1158</td>\n",
       "      <td>21</td>\n",
       "      <td>25</td>\n",
       "      <td>27</td>\n",
       "      <td>32</td>\n",
       "      <td>37</td>\n",
       "      <td>38</td>\n",
       "      <td>20</td>\n",
       "      <td>1394358197</td>\n",
       "      <td>56747136</td>\n",
       "      <td>1609583</td>\n",
       "      <td>50000</td>\n",
       "      <td>5000</td>\n",
       "    </tr>\n",
       "    <tr>\n",
       "      <th>4</th>\n",
       "      <td>1157</td>\n",
       "      <td>5</td>\n",
       "      <td>7</td>\n",
       "      <td>12</td>\n",
       "      <td>20</td>\n",
       "      <td>25</td>\n",
       "      <td>26</td>\n",
       "      <td>28</td>\n",
       "      <td>2257842157</td>\n",
       "      <td>32026130</td>\n",
       "      <td>992677</td>\n",
       "      <td>50000</td>\n",
       "      <td>5000</td>\n",
       "    </tr>\n",
       "  </tbody>\n",
       "</table>\n",
       "</div>"
      ],
      "text/plain": [
       "   drwNo   1   2   3   4   5   6  bnusNo         no1       no2      no3  \\\n",
       "0   1161   2  12  20  24  34  42      37  1792657969  40858302  1163970   \n",
       "1   1160   7  13  18  36  39  45      19  2509359875  59746664  1580202   \n",
       "2   1159   3   9  27  28  38  39       7  1284854250  44775224  1316215   \n",
       "3   1158  21  25  27  32  37  38      20  1394358197  56747136  1609583   \n",
       "4   1157   5   7  12  20  25  26      28  2257842157  32026130   992677   \n",
       "\n",
       "     no4   no5  \n",
       "0  50000  5000  \n",
       "1  50000  5000  \n",
       "2  50000  5000  \n",
       "3  50000  5000  \n",
       "4  50000  5000  "
      ]
     },
     "execution_count": 24,
     "metadata": {},
     "output_type": "execute_result"
    }
   ],
   "source": [
    "df.head()"
   ]
  },
  {
   "cell_type": "code",
   "execution_count": 25,
   "id": "8f3f5474-bf6e-4461-a682-a73badec858f",
   "metadata": {},
   "outputs": [
    {
     "data": {
      "text/plain": [
       "drwNo     0\n",
       "1         0\n",
       "2         0\n",
       "3         0\n",
       "4         0\n",
       "5         0\n",
       "6         0\n",
       "bnusNo    0\n",
       "no1       0\n",
       "no2       0\n",
       "no3       0\n",
       "no4       0\n",
       "no5       0\n",
       "dtype: int64"
      ]
     },
     "execution_count": 25,
     "metadata": {},
     "output_type": "execute_result"
    }
   ],
   "source": [
    "df.isnull().sum()"
   ]
  },
  {
   "cell_type": "code",
   "execution_count": 29,
   "id": "c47879f4-afc9-4851-a308-88dd103ea91d",
   "metadata": {},
   "outputs": [],
   "source": [
    "import numpy as np\n",
    "\n",
    "def binary_num(numbers):\n",
    "    binary_n = np.zeros(45)\n",
    "\n",
    "    for i in range(6):\n",
    "        binary_n[int(numbers[i])-1] = 1\n",
    "\n",
    "    return binary_n"
   ]
  },
  {
   "cell_type": "code",
   "execution_count": 31,
   "id": "f16d477b-6028-4f18-9567-45fd534bbfde",
   "metadata": {},
   "outputs": [],
   "source": [
    "data = df[['1', '2', '3', '4', '5', '6']]\n",
    "target = df[['bnusNo']]\n",
    "\n",
    "from sklearn.model_selection import train_test_split\n",
    "train_input, test_input, train_target, test_target = train_test_split(data, target)"
   ]
  },
  {
   "cell_type": "code",
   "execution_count": 33,
   "id": "19ba7462-33a3-43a3-bb45-2ec9366dcb5b",
   "metadata": {},
   "outputs": [
    {
     "name": "stderr",
     "output_type": "stream",
     "text": [
      "/Users/m2/Desktop/DAMF2/TIL/venv/lib/python3.13/site-packages/sklearn/base.py:1389: DataConversionWarning: A column-vector y was passed when a 1d array was expected. Please change the shape of y to (n_samples,), for example using ravel().\n",
      "  return fit_method(estimator, *args, **kwargs)\n"
     ]
    },
    {
     "data": {
      "text/plain": [
       "0.8489765971334072"
      ]
     },
     "execution_count": 33,
     "metadata": {},
     "output_type": "execute_result"
    }
   ],
   "source": [
    "from sklearn.ensemble import RandomForestRegressor\n",
    "rf = RandomForestRegressor(n_estimators=100)\n",
    "rf.fit(train_input, train_target)\n",
    "rf.score(train_input, train_target)"
   ]
  },
  {
   "cell_type": "code",
   "execution_count": 35,
   "id": "6aff2f13-f1b7-4173-8c66-a53066b34f86",
   "metadata": {},
   "outputs": [
    {
     "name": "stdout",
     "output_type": "stream",
     "text": [
      "{'fit_time': array([0.10067725, 0.09800792, 0.103966  , 0.0987649 , 0.09548473]), 'score_time': array([0.00477886, 0.00418019, 0.00426793, 0.0042572 , 0.00432205]), 'test_score': array([-0.28085499, -0.16360137, -0.19498046, -0.22997007, -0.11201531]), 'train_score': array([0.84632376, 0.85444738, 0.84141593, 0.84687178, 0.85355957])}\n"
     ]
    },
    {
     "name": "stderr",
     "output_type": "stream",
     "text": [
      "/Users/m2/Desktop/DAMF2/TIL/venv/lib/python3.13/site-packages/sklearn/base.py:1389: DataConversionWarning: A column-vector y was passed when a 1d array was expected. Please change the shape of y to (n_samples,), for example using ravel().\n",
      "  return fit_method(estimator, *args, **kwargs)\n",
      "/Users/m2/Desktop/DAMF2/TIL/venv/lib/python3.13/site-packages/sklearn/base.py:1389: DataConversionWarning: A column-vector y was passed when a 1d array was expected. Please change the shape of y to (n_samples,), for example using ravel().\n",
      "  return fit_method(estimator, *args, **kwargs)\n",
      "/Users/m2/Desktop/DAMF2/TIL/venv/lib/python3.13/site-packages/sklearn/base.py:1389: DataConversionWarning: A column-vector y was passed when a 1d array was expected. Please change the shape of y to (n_samples,), for example using ravel().\n",
      "  return fit_method(estimator, *args, **kwargs)\n",
      "/Users/m2/Desktop/DAMF2/TIL/venv/lib/python3.13/site-packages/sklearn/base.py:1389: DataConversionWarning: A column-vector y was passed when a 1d array was expected. Please change the shape of y to (n_samples,), for example using ravel().\n",
      "  return fit_method(estimator, *args, **kwargs)\n",
      "/Users/m2/Desktop/DAMF2/TIL/venv/lib/python3.13/site-packages/sklearn/base.py:1389: DataConversionWarning: A column-vector y was passed when a 1d array was expected. Please change the shape of y to (n_samples,), for example using ravel().\n",
      "  return fit_method(estimator, *args, **kwargs)\n"
     ]
    }
   ],
   "source": [
    "from sklearn.model_selection import cross_validate\n",
    "scores = cross_validate(rf, train_input, train_target, return_train_score=True, n_jobs=-1)\n",
    "print(scores)"
   ]
  },
  {
   "cell_type": "code",
   "execution_count": 38,
   "id": "55fbdbec-4f55-4a5a-8a2f-8b6148dcc7c1",
   "metadata": {},
   "outputs": [
    {
     "data": {
      "text/plain": [
       "array([24, 22, 21, 27, 20, 16, 27, 22, 26, 25, 25, 22, 22, 22, 26, 23, 21,\n",
       "       19, 24, 21, 15, 19, 21, 28, 19, 25, 27, 22, 23, 24, 24, 21, 30, 26,\n",
       "       22, 14, 26, 32, 24, 25, 21, 15, 21, 20, 19, 21, 19, 21, 20, 24, 23,\n",
       "       27, 24, 19, 22, 30, 32, 25, 24, 17, 18, 21, 21, 24, 22, 19, 24, 30,\n",
       "       27, 26, 28, 20, 17, 21, 27, 22, 27, 23, 18, 21, 27, 30, 19, 19, 27,\n",
       "       22, 22, 19, 21, 26, 25, 24, 29, 21, 24, 29, 22, 26, 17, 18, 22, 28,\n",
       "       25, 28, 22, 23, 22, 24, 26, 21, 13, 20, 18, 22, 29, 22, 24, 18, 22,\n",
       "       19, 26, 21, 24, 11, 19, 19, 18, 17, 18, 26, 26, 16, 28, 31, 22, 20,\n",
       "       25, 20, 26, 25, 20])"
      ]
     },
     "execution_count": 38,
     "metadata": {},
     "output_type": "execute_result"
    }
   ],
   "source": [
    "predictions = rf.predict(test_input)\n",
    "predictions = np.round(predictions).astype(int)\n",
    "predictions"
   ]
  },
  {
   "cell_type": "code",
   "execution_count": 55,
   "id": "c381f13e-aa9d-4ac5-bc18-691f063ca9ca",
   "metadata": {},
   "outputs": [
    {
     "data": {
      "text/plain": [
       "<matplotlib.legend.Legend at 0x161bc8050>"
      ]
     },
     "execution_count": 55,
     "metadata": {},
     "output_type": "execute_result"
    },
    {
     "data": {
      "image/png": "[encoded data removed]",
      "text/plain": [
       "<Figure size 640x480 with 1 Axes>"
      ]
     },
     "metadata": {},
     "output_type": "display_data"
    }
   ],
   "source": [
    "import matplotlib.pyplot as plt\n",
    "test_target = test_target.values.flatten()\n",
    "\n",
    "plt.scatter(predictions, test_target, color='red', label='Predicted')\n",
    "plt.plot([min(test_target), max(test_target)], [min(test_target), max(test_target)], 'r--', label='Ideal Prediction Line')\n",
    "plt.xlabel(\"Actual Bonus Number\")\n",
    "plt.ylabel(\"Predicted Bonus Number\")\n",
    "plt.title(\"Actual vs Predicted Bonus Numbers\")\n",
    "plt.legend()"
   ]
  },
  {
   "cell_type": "code",
   "execution_count": null,
   "id": "a365d488-4225-481c-8b9e-9435eccdb05e",
   "metadata": {},
   "outputs": [],
   "source": []
  }
 ],
 "metadata": {
  "kernelspec": {
   "display_name": "Python 3 (ipykernel)",
   "language": "python",
   "name": "python3"
  },
  "language_info": {
   "codemirror_mode": {
    "name": "ipython",
    "version": 3
   },
   "file_extension": ".py",
   "mimetype": "text/x-python",
   "name": "python",
   "nbconvert_exporter": "python",
   "pygments_lexer": "ipython3",
   "version": "3.13.1"
  }
 },
 "nbformat": 4,
 "nbformat_minor": 5
}
