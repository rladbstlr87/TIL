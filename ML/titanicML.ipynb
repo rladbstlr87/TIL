{
 "cells": [
  {
   "cell_type": "code",
   "execution_count": 2,
   "id": "df9df9d1-ae46-4ef5-861a-eaa954e626e3",
   "metadata": {},
   "outputs": [],
   "source": [
    "import numpy as np\n",
    "import pandas as pd\n",
    "\n",
    "df = pd.read_csv('../data/train.csv')\n",
    "test = pd.read_csv('../data/test.csv')"
   ]
  },
  {
   "cell_type": "markdown",
   "id": "073123e5-88a7-454d-a83b-5c0a81e36e73",
   "metadata": {},
   "source": [
    "- Survived: 생존 여부 (0 = 사망, 1 = 생존)*\n",
    "- Pclass: 객실 등급 (1 = 1등석, 2 = 2등석, 3 = 3등석)*\n",
    "- Name: 승객 이름\n",
    "- Sex: 성별 (male = 남성, female = 여성)*\n",
    "- Age: 나이*\n",
    "- SibSp: 함께 탑승한 형제자매 및 배우자 수\n",
    "- Parch: 함께 탑승한 부모 및 자녀 수\n",
    "- Ticket: 티켓 번호\n",
    "- Fare: 운임 요금*\n",
    "- Cabin: 객실 번호\n",
    "- Embarked: 탑승 항구 (C = Cherbourg, Q = Queenstown, S = Southampton)"
   ]
  },
  {
   "cell_type": "code",
   "execution_count": null,
   "id": "c6eddc88-f4ba-4aa1-9200-f879de2bfc29",
   "metadata": {
    "scrolled": true
   },
   "outputs": [],
   "source": [
    "df['Sex'].value_counts()"
   ]
  },
  {
   "cell_type": "code",
   "execution_count": null,
   "id": "f724a37d-f3d7-4ced-abfa-b3fd6646b182",
   "metadata": {},
   "outputs": [],
   "source": [
    "df.isnull().sum()"
   ]
  },
  {
   "cell_type": "code",
   "execution_count": 5,
   "id": "8e28331f-0b1b-415b-966d-b58d68d4e7de",
   "metadata": {},
   "outputs": [],
   "source": [
    "df['Sex'] = df['Sex'].map({'male': 0, 'female': 1})\n",
    "data = df[['Pclass', 'Sex', 'Age', 'SibSp', 'Parch', 'Fare']]\n",
    "target = df[['Survived']]"
   ]
  },
  {
   "cell_type": "code",
   "execution_count": 6,
   "id": "e415e17f-e1fe-4e80-ab32-cc3bc93f4512",
   "metadata": {},
   "outputs": [
    {
     "data": {
      "text/plain": [
       "Pclass      0\n",
       "Sex         0\n",
       "Age       177\n",
       "SibSp       0\n",
       "Parch       0\n",
       "Fare        0\n",
       "dtype: int64"
      ]
     },
     "execution_count": 6,
     "metadata": {},
     "output_type": "execute_result"
    }
   ],
   "source": [
    "data.isnull().sum()"
   ]
  },
  {
   "cell_type": "code",
   "execution_count": 11,
   "id": "667d7bc8-c8ab-4f2a-aa9d-df8b020a0c78",
   "metadata": {},
   "outputs": [
    {
     "data": {
      "text/plain": [
       "{'fit_time': array([0.33053446, 0.35453129, 0.33566213, 0.19115663, 0.19074774]),\n",
       " 'score_time': array([0.02965665, 0.02943754, 0.02992463, 0.02959228, 0.0291245 ]),\n",
       " 'test_score': array([0.7761194 , 0.79104478, 0.76119403, 0.84210526, 0.83458647]),\n",
       " 'train_score': array([0.9906367 , 0.99250936, 0.98689139, 0.99252336, 0.98878505])}"
      ]
     },
     "execution_count": 11,
     "metadata": {},
     "output_type": "execute_result"
    }
   ],
   "source": [
    "from sklearn.model_selection import train_test_split\n",
    "train_input, test_input, train_target, test_target = train_test_split(data, target)\n",
    "from sklearn.model_selection import cross_validate\n",
    "from sklearn.ensemble import RandomForestClassifier\n",
    "rf = RandomForestClassifier(n_jobs=-1)\n",
    "scores = cross_validate(rf, train_input, train_target, return_train_score=True, n_jobs=-1)\n",
    "scores"
   ]
  },
  {
   "cell_type": "code",
   "execution_count": null,
   "id": "fdf1a1d9-cee1-46e7-b2a0-2a7bd7f00a9d",
   "metadata": {},
   "outputs": [],
   "source": [
    "rf.fit(train_input, train_target)\n",
    "rf.feature_importances_\n",
    "# 가장 연관성 있는건 Sex, Age, Fare로 보인다"
   ]
  },
  {
   "cell_type": "markdown",
   "id": "b08df910-a078-4020-b681-fb939b1235c5",
   "metadata": {},
   "source": [
    "---"
   ]
  },
  {
   "cell_type": "code",
   "execution_count": 8,
   "id": "5108a786-1a15-4a11-8f06-695624a09007",
   "metadata": {},
   "outputs": [],
   "source": [
    "# data = df[['Sex', 'Age', 'Fare']]\n",
    "# train_input, test_input, train_target, test_target = train_test_split(data, target)\n",
    "# scores = cross_validate(rf, train_input, train_target, return_train_score=True, n_jobs=-1)\n",
    "# scores"
   ]
  },
  {
   "cell_type": "code",
   "execution_count": 12,
   "id": "6fa3ec7c-1442-4afe-aa91-0f8aceac6c96",
   "metadata": {},
   "outputs": [
    {
     "name": "stderr",
     "output_type": "stream",
     "text": [
      "C:\\Users\\1-04\\AppData\\Local\\Temp\\ipykernel_8940\\137967913.py:3: SettingWithCopyWarning: \n",
      "A value is trying to be set on a copy of a slice from a DataFrame.\n",
      "Try using .loc[row_indexer,col_indexer] = value instead\n",
      "\n",
      "See the caveats in the documentation: https://pandas.pydata.org/pandas-docs/stable/user_guide/indexing.html#returning-a-view-versus-a-copy\n",
      "  test_data['Age'] = test_data['Age'].fillna(test_data['Age'].median())\n"
     ]
    },
    {
     "ename": "NameError",
     "evalue": "name 'train_data' is not defined",
     "output_type": "error",
     "traceback": [
      "\u001b[1;31m---------------------------------------------------------------------------\u001b[0m",
      "\u001b[1;31mNameError\u001b[0m                                 Traceback (most recent call last)",
      "Cell \u001b[1;32mIn[12], line 5\u001b[0m\n\u001b[0;32m      2\u001b[0m test_data \u001b[38;5;241m=\u001b[39m test[[\u001b[38;5;124m'\u001b[39m\u001b[38;5;124mPclass\u001b[39m\u001b[38;5;124m'\u001b[39m, \u001b[38;5;124m'\u001b[39m\u001b[38;5;124mSex\u001b[39m\u001b[38;5;124m'\u001b[39m, \u001b[38;5;124m'\u001b[39m\u001b[38;5;124mAge\u001b[39m\u001b[38;5;124m'\u001b[39m, \u001b[38;5;124m'\u001b[39m\u001b[38;5;124mSibSp\u001b[39m\u001b[38;5;124m'\u001b[39m, \u001b[38;5;124m'\u001b[39m\u001b[38;5;124mParch\u001b[39m\u001b[38;5;124m'\u001b[39m, \u001b[38;5;124m'\u001b[39m\u001b[38;5;124mFare\u001b[39m\u001b[38;5;124m'\u001b[39m]]\n\u001b[0;32m      3\u001b[0m test_data[\u001b[38;5;124m'\u001b[39m\u001b[38;5;124mAge\u001b[39m\u001b[38;5;124m'\u001b[39m] \u001b[38;5;241m=\u001b[39m test_data[\u001b[38;5;124m'\u001b[39m\u001b[38;5;124mAge\u001b[39m\u001b[38;5;124m'\u001b[39m]\u001b[38;5;241m.\u001b[39mfillna(test_data[\u001b[38;5;124m'\u001b[39m\u001b[38;5;124mAge\u001b[39m\u001b[38;5;124m'\u001b[39m]\u001b[38;5;241m.\u001b[39mmedian())\n\u001b[1;32m----> 5\u001b[0m rf\u001b[38;5;241m.\u001b[39mfit(\u001b[43mtrain_data\u001b[49m, train_target)\n\u001b[0;32m      6\u001b[0m rf\u001b[38;5;241m.\u001b[39mpredict(test_data)\n",
      "\u001b[1;31mNameError\u001b[0m: name 'train_data' is not defined"
     ]
    }
   ],
   "source": [
    "test['Sex'] = test['Sex'].map({'male': 0, 'female': 1})\n",
    "test_data = test[['Pclass', 'Sex', 'Age', 'SibSp', 'Parch', 'Fare']]\n",
    "test_data['Age'] = test_data['Age'].fillna(test_data['Age'].median())\n",
    "\n",
    "rf.fit(train_data, train_target)\n",
    "rf.predict(test_data)"
   ]
  },
  {
   "cell_type": "code",
   "execution_count": null,
   "id": "faecac0e-d130-4a2b-a007-924808ae153c",
   "metadata": {},
   "outputs": [],
   "source": []
  }
 ],
 "metadata": {
  "kernelspec": {
   "display_name": "Python 3 (ipykernel)",
   "language": "python",
   "name": "python3"
  },
  "language_info": {
   "codemirror_mode": {
    "name": "ipython",
    "version": 3
   },
   "file_extension": ".py",
   "mimetype": "text/x-python",
   "name": "python",
   "nbconvert_exporter": "python",
   "pygments_lexer": "ipython3",
   "version": "3.13.2"
  }
 },
 "nbformat": 4,
 "nbformat_minor": 5
}
