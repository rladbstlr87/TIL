{
 "cells": [
  {
   "cell_type": "markdown",
   "id": "b5a740b7-0b9f-4402-91ac-d3d4c18d37f8",
   "metadata": {},
   "source": [
    "# 1:N 관계설정\n",
    "- Database에서 하나의 record(행)가 다른 테이블의 여러 record가 연결될 수 있는 관계\n",
    "- ex1) 하나의 유저가 여러 게시글을 썼을 때 유저의 게시글들이 유저와 연결되는 모양\n",
    "- ex2) 게시글이 모여있는 DB table에서 하나의 게시글에 여러 댓글(다른 table)이 relationship을 갖게 되는 모양\n",
    "![1:N](https://www.prisma.io/docs/assets/images/one-to-many-9fd7879c7dbeeb3a0409b55ba7f8ccd9.png)"
   ]
  },
  {
   "cell_type": "markdown",
   "id": "70ff2d0d-7eb7-46c3-bb77-b806ab8f1d6b",
   "metadata": {},
   "source": [
    "## 구현방식"
   ]
  },
  {
   "cell_type": "markdown",
   "id": "39eba207-e089-4d86-8d83-ce6e0e8c03fd",
   "metadata": {},
   "source": [
    "- 기본 키 (Primary Key): '1' 측 테이블에서 식별자 역할(1 : 한 테이블의 특정 레코드)\n",
    "- 외래 키 (Foreign Key): 'N' 측 테이블에서 '1' 측의 기본 키를 참조(N: 다른 테이블의 여러 레코드)"
   ]
  },
  {
   "cell_type": "markdown",
   "id": "8c8390f5-a415-4aca-8f2a-f7da57b7faab",
   "metadata": {},
   "source": [
    "## Django에서 코드구조"
   ]
  },
  {
   "cell_type": "markdown",
   "id": "f1eaf4df-0fb4-4f35-8af7-06678827d14a",
   "metadata": {},
   "source": [
    "### forms.py에서"
   ]
  },
  {
   "cell_type": "markdown",
   "id": "d8d0d46e-6658-4e79-9fd5-bac6dcbc51f7",
   "metadata": {},
   "source": [
    "```python\n",
    "class ArticleForm(ModelForm):\n",
    "    class Meta():\n",
    "        model = Article\n",
    "        fields = '__all__'\n",
    "\n",
    "\n",
    "class CommentForm(ModelForm):\n",
    "    class Meta():\n",
    "        model = Comment\n",
    "        # fields = '__all__'\n",
    "\n",
    "        # fields => 추가할 필드 목록\n",
    "        # fields = ('content', )\n",
    "\n",
    "        # exclude => 제외할 필드 목록\n",
    "        exclude = ('article', )\n",
    "```"
   ]
  },
  {
   "cell_type": "markdown",
   "id": "27fc7c1f-6d58-4356-a915-c2bc34503513",
   "metadata": {},
   "source": [
    "### models.py에서"
   ]
  },
  {
   "cell_type": "markdown",
   "id": "ce2e5a3d-abbc-4cc5-9a40-393318936f3a",
   "metadata": {},
   "source": [
    "```python\n",
    "class Article(models.Model):\n",
    "    title = models.CharField(max_length=100)\n",
    "    content = models.TextField()\n",
    "    created_at = models.DateTimeField(auto_now_add=True)\n",
    "    updated_at = models.DateTimeField(auto_now=True)\n",
    "    # comment_set = \n",
    "\n",
    "class Comment(models.Model):\n",
    "    content = models.TextField()\n",
    "    article = models.ForeignKey(Article, on_delete=models.CASCADE)\n",
    "    # article_id = \n",
    "```"
   ]
  },
  {
   "cell_type": "markdown",
   "id": "58edbf0e-3190-4f5a-b4b5-752609cc032c",
   "metadata": {},
   "source": [
    "- Article이 가진 primary key로 Comment가 접근\n",
    "- 위의 구조에서 Comment는 Article이 삭제된다면 같이 삭제 되게 설정"
   ]
  },
  {
   "cell_type": "markdown",
   "id": "6d144a40-0fe7-4a73-9942-5aada3b68aa3",
   "metadata": {},
   "source": [
    "#### on_delete"
   ]
  },
  {
   "cell_type": "markdown",
   "id": "49294dd0-82db-42dc-823d-d06c399d42b6",
   "metadata": {},
   "source": [
    "- **models.CASCADE** : 외래키를 포함하는 행도 함께 삭제\n",
    "- models.PROTECT : 해당 요소가 함께 삭제되지 않도록 보호하며 오류 발생 시키기(ProtectedError)\n",
    "- models.SET_NULL : 외래키 값을 NULL 값으로 변경 (null=True일 때 사용 가능)\n",
    "- models.SET(func) : 외래키 값을 func 행동 수행 (func는 함수나 메서드 등을 의미)\n",
    "- models.DO_NOTHING : 아무 행동을 하지 않음"
   ]
  },
  {
   "cell_type": "markdown",
   "id": "49857097-b4b0-41bc-b2e5-0b26ab23f9f3",
   "metadata": {},
   "source": [
    "### views.py에서"
   ]
  },
  {
   "cell_type": "markdown",
   "id": "3a40f8d1-ed2c-4e15-b53e-01041ab18f6d",
   "metadata": {},
   "source": [
    "```python\n",
    "def detail(request, id):\n",
    "    article = Article.objects.get(id=id)\n",
    "    comments = article.comment_set.all()\n",
    "    \n",
    "    form = CommentForm()\n",
    "\n",
    "    context = {\n",
    "        'article': article,\n",
    "        'form': form,\n",
    "        'comments': comments,\n",
    "    }\n",
    "\n",
    "    return render(request, 'detail.html', context)\n",
    "\n",
    "def comment_create(request, article_id):\n",
    "    if request.method == 'POST':\n",
    "        form = CommentForm(request.POST)\n",
    "        if form.is_valid():\n",
    "            comment = form.save(commit=False)\n",
    "\n",
    "            article = Article.objects.get(id=article_id)\n",
    "            comment.article = article\n",
    "            comment.save()\n",
    "\n",
    "            return redirect('articles:detail', id=article_id)\n",
    "\n",
    "    else:\n",
    "        return redirect('articles:index')\n",
    "\n",
    "\n",
    "def comment_delete(request, article_id, id):\n",
    "    comment = Comment.objects.get(id=id)\n",
    "    comment.delete()\n",
    "\n",
    "    return redirect('articles:detail', id=article_id)\n",
    "```"
   ]
  },
  {
   "cell_type": "code",
   "execution_count": null,
   "id": "f8a0d52b-5f6e-4150-b4e6-03297623a59b",
   "metadata": {},
   "outputs": [],
   "source": []
  }
 ],
 "metadata": {
  "kernelspec": {
   "display_name": "Python 3 (ipykernel)",
   "language": "python",
   "name": "python3"
  },
  "language_info": {
   "codemirror_mode": {
    "name": "ipython",
    "version": 3
   },
   "file_extension": ".py",
   "mimetype": "text/x-python",
   "name": "python",
   "nbconvert_exporter": "python",
   "pygments_lexer": "ipython3",
   "version": "3.13.2"
  }
 },
 "nbformat": 4,
 "nbformat_minor": 5
}
