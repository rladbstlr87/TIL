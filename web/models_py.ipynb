{
 "cells": [
  {
   "cell_type": "markdown",
   "id": "2a0208ac-8aac-424e-b8fd-835accbc5b4a",
   "metadata": {},
   "source": [
    "# `models.py` 복습"
   ]
  },
  {
   "cell_type": "markdown",
   "id": "8e45e99f",
   "metadata": {},
   "source": [
    "## models.py에서 할 수 있는 일들\n",
    "Django의 ORM에서 여러가지 일들을 수행한다"
   ]
  },
  {
   "cell_type": "markdown",
   "id": "5902b2c2",
   "metadata": {},
   "source": [
    "## 1. 데이터 처리를 위한 작업\n",
    "쿼리 생성, 데이터 접근, 저장 및 갱신할 수 있는 방식 제공"
   ]
  },
  {
   "cell_type": "markdown",
   "id": "3ba24c2d",
   "metadata": {},
   "source": [
    "### 모델 설계\n",
    "어떤 컬럼들이 어떤 필드타입인지를 설정\n",
    "```\n",
    "# 예시\n",
    "app/\n",
    "    management/\n",
    "        데이터처리 파일들\n",
    "```\n",
    "```py\n",
    "class Team(models.Model):\n",
    "    KBO_TEAMS = [\n",
    "        ('SSG', 'SSG 랜더스'),\n",
    "        ('LG', 'LG 트윈스'),\n",
    "        ('KT', 'KT 위즈'),\n",
    "        ('NC', 'NC 다이노스'),\n",
    "        ('두산', '두산 베어스'),\n",
    "        ('삼성', '삼성 라이온즈'),\n",
    "        ('롯데', '롯데 자이언츠'),\n",
    "        ('키움', '키움 히어로즈'),\n",
    "        ('한화', '한화 이글스'),\n",
    "        ('KIA', 'KIA 타이거즈'),\n",
    "    ]\n",
    "\n",
    "    team = models.CharField(\n",
    "        max_length=10,\n",
    "        choices=KBO_TEAMS,\n",
    "        blank=True,\n",
    "        null=True,\n",
    "        verbose_name='응원팀'\n",
    "    )\n",
    "    logo = models.ImageField(upload_to='team_logos/', null=True, blank=True)\n",
    "    stadium = models.CharField(max_length=100)\n",
    "    navi_url = models.URLField(max_length=200)\n",
    "\n",
    "class User(AbstractUser):\n",
    "    favorite_team = models.ForeignKey(\n",
    "        'teams.Team',\n",
    "        on_delete=models.PROTECT,  # CASCADE하면 \n",
    "        null=False,\n",
    "        blank=False\n",
    "    )\n",
    "    nickname = models.CharField(max_length=12, unique=True) # 한글 6글자 까지 허용\n",
    "```"
   ]
  },
  {
   "cell_type": "markdown",
   "id": "502ed32a",
   "metadata": {},
   "source": [
    "## 2. 도메인 로직 보관\n",
    "계산, 상태 판별, 제약 조건 등 핵심 규칙 구현"
   ]
  },
  {
   "cell_type": "markdown",
   "id": "b66a2897",
   "metadata": {},
   "source": [
    "## 3. DB구조의 선언\n",
    "테이블 , 필드 들의 1:N, M:N 등 관계 정의"
   ]
  },
  {
   "cell_type": "markdown",
   "id": "7a4a1fba",
   "metadata": {},
   "source": [
    "### ManyToManyField 함수 본문\n",
    "```python\n",
    "class Post(models.Model):\n",
    "    content = models.T#### extField()\n",
    "    created_at = models.DateTimeField(auto_now_add=True)\n",
    "    image = models.ImageField(upload_to='image')\n",
    "    # image = ResizedImageField(\n",
    "    #     size=[500, 500],\n",
    "    #     crop=['middle', 'center'],\n",
    "    #     upload_to='image/%Y/%m',\n",
    "    # )\n",
    "    # 작성자\n",
    "    user = models.ForeignKey(settings.AUTH_USER_MODEL, on_delete=models.CASCADE)\n",
    "\n",
    "    # 이 글에 좋아요 누른 사람(중간 테이블 만들어주는 역할)\n",
    "    like_users = models.ManyToManyField(\n",
    "        settings.AUTH_USER_MODEL,\n",
    "        related_name='like_posts',\n",
    "    )\n",
    "```"
   ]
  },
  {
   "cell_type": "markdown",
   "id": "f4446ec5-7361-4781-989d-ced3944a3e02",
   "metadata": {},
   "source": [
    "## 정의\n",
    "- 여러 개의 객체가 서로 연결될 수 있도록 하는 필드\n",
    "- 두 모델 간 다대다(Many-to-Many) 관계를 설정하는 필드로, `중개 테이블`을 통해 각 객체가 여러 개의 다른 객체와 연결될 수 있도록 함"
   ]
  },
  {
   "cell_type": "markdown",
   "id": "ef265bf4-f2d3-443e-8ab9-8d7f5558ee41",
   "metadata": {},
   "source": [
    "### 기본 구조\n",
    "```python\n",
    "class 모델명(models.Model):\n",
    "    관계필드명 = models.ManyToManyField(연결할_모델, 옵션들)\n",
    "```\n",
    "파라미터 설명\n",
    "- to: 연결할 모델을 지정\n",
    "- related_name: 역참조 시 사용할 이름 설정\n",
    "- through: 중개 테이블을 직접 정의할 때 사용\n",
    "- symmetrical: 기본값 True, 단방향 관계 설정 시 False로 변경\n",
    "- db_table: 생성될 중개 테이블 이름을 지정할 때 사용\n",
    "\n",
    "⸻\n",
    "\n",
    "### For example"
   ]
  },
  {
   "cell_type": "markdown",
   "id": "42f3dd9e-397c-4434-8774-3c357057ce66",
   "metadata": {},
   "source": [
    "#### ex.1-1: 기본적인 ManyToMany 관계 설정\n",
    "\n",
    "class Post(models.Model):\n",
    "    content = models.T#### extField()\n",
    "    like_users = models.ManyToManyField(settings.AUTH_USER_MODEL, related_name='like_posts')"
   ]
  },
  {
   "cell_type": "markdown",
   "id": "57341b83-a0f8-44f2-a59a-1cda4c371fcf",
   "metadata": {},
   "source": [
    "#### ex.1-2: 데이터 추가 및 조회"
   ]
  },
  {
   "cell_type": "markdown",
   "id": "5b162c92-f81a-4c57-9a39-1c25eaa276a3",
   "metadata": {},
   "source": [
    "```python\n",
    "post = Post.objects.create(content=\"새 게시글\")\n",
    "user = User.objects.first()\n",
    "\n",
    "# 좋아요 추가\n",
    "post.like_users.add(user)\n",
    "\n",
    "# 좋아요한 사용자 목록 조회\n",
    "liked_users = post.like_users.all()\n",
    "```"
   ]
  },
  {
   "cell_type": "markdown",
   "id": "e9f0b345-8d31-4b7f-8189-2d52e3b60270",
   "metadata": {},
   "source": [
    "### What it can do?"
   ]
  },
  {
   "cell_type": "markdown",
   "id": "041153b4-0cc2-493d-9aae-9ccf96448c85",
   "metadata": {},
   "source": [
    "#### ex.level.2: 중개 모델을 사용하여 추가 정보 저장"
   ]
  },
  {
   "cell_type": "markdown",
   "id": "b51de256-8d71-482a-8fe3-9e425bb62342",
   "metadata": {},
   "source": [
    "```python\n",
    "class Like(models.Model):\n",
    "    user = models.ForeignKey(settings.AUTH_USER_MODEL, on_delete=models.CASCADE)\n",
    "    post = models.ForeignKey(Post, on_delete=models.CASCADE)\n",
    "    created_at = models.DateTimeField(auto_now_add=True)\n",
    "\n",
    "class Post(models.Model):\n",
    "    content = models.T#### extField()\n",
    "    like_users = models.ManyToManyField(settings.AUTH_USER_MODEL, through='Like', related_name='like_posts')\n",
    "\n",
    "# 좋아요 추가\n",
    "Like.objects.create(user=user, post=post)\n",
    "\n",
    "# 특정 게시글을 좋아요한 사용자 조회\n",
    "liked_users = User.objects.filter(like__post=post)\n",
    "```"
   ]
  },
  {
   "cell_type": "markdown",
   "id": "6d423012-c44c-4b40-9be9-5f5c4e3b7343",
   "metadata": {},
   "source": [
    "#### ex.level.3: ManyToMany 관계에서 필터링"
   ]
  },
  {
   "cell_type": "markdown",
   "id": "6f38353e-b80d-4897-9bc2-a95985c33c29",
   "metadata": {},
   "source": [
    "```python\n",
    "# 특정 사용자가 좋아요한 게시글 목록 조회\n",
    "user_like_posts = Post.objects.filter(like_users=user)\n",
    "\n",
    "# 좋아요 수가 5개 이상인 게시글 조회\n",
    "popular_posts = Post.objects.annotate(like_count=Count('like_users')).filter(like_count__gte=5)\n",
    "\n",
    "#### ex.level.3: 특정 조건으로 ManyToMany 관계 정렬\n",
    "\n",
    "# 가장 많은 좋아요를 받은 게시글 순 정렬\n",
    "most_liked_posts = Post.objects.annotate(like_count=Count('like_users')).order_by('-like_count')\n",
    "```"
   ]
  },
  {
   "cell_type": "code",
   "execution_count": null,
   "id": "71587383-26c0-44f8-9f87-58d132e1ce51",
   "metadata": {},
   "outputs": [],
   "source": []
  }
 ],
 "metadata": {
  "kernelspec": {
   "display_name": "Python 3 (ipykernel)",
   "language": "python",
   "name": "python3"
  },
  "language_info": {
   "codemirror_mode": {
    "name": "ipython",
    "version": 3
   },
   "file_extension": ".py",
   "mimetype": "text/x-python",
   "name": "python",
   "nbconvert_exporter": "python",
   "pygments_lexer": "ipython3",
   "version": "3.13.1"
  }
 },
 "nbformat": 4,
 "nbformat_minor": 5
}
