{
 "cells": [
  {
   "cell_type": "markdown",
   "id": "215ae851-6124-4fe4-961c-f853f992aa7f",
   "metadata": {},
   "source": [
    "# `views.py` 복습"
   ]
  },
  {
   "cell_type": "markdown",
   "id": "fae1f376-0ec8-4010-bdbc-fa337383846c",
   "metadata": {},
   "source": [
    "## 함수 본문\n",
    "```python\n",
    "from django.shortcuts import render, redirect\n",
    "from .forms import ArticleForm, CommentForm\n",
    "from django.contrib.auth.decorators import login_required\n",
    "\n",
    "@login_required\n",
    "def create(request):\n",
    "    if request.method == 'POST':\n",
    "        form = ArticleForm(request.POST)\n",
    "        if form.is_valid():\n",
    "            article = form.save(commit=False)\n",
    "            article.user = request.user\n",
    "            article.save()\n",
    "            return redirect('articles:index')\n",
    "\n",
    "    else:\n",
    "        form = ArticleForm()\n",
    "    context = {\n",
    "        'form': form,\n",
    "    }\n",
    "    return render(request, 'create.html', context)\n",
    "```"
   ]
  },
  {
   "cell_type": "markdown",
   "id": "ba1dc30c-cba7-4e8a-b907-3ea9c39dd3bf",
   "metadata": {},
   "source": [
    "### `@login_required`\n",
    "Django에서 사용되는 뷰 데코레이터로, 해당 뷰에 접근하기 전에 로그인이 되어 있는지 확인하는 기능을 함\n",
    "\n",
    "- redirect_field_name: 로그인하지 않은 경우 리다이렉트 시 전달할 쿼리 문자열의 파라미터명 (기본값: 'next')"
   ]
  },
  {
   "cell_type": "markdown",
   "id": "988c1fe0-ec69-4385-a40a-fb15b252ee8d",
   "metadata": {},
   "source": [
    "#### 쿼리 문자열과 파라미터란?\n",
    "\n",
    "- 쿼리 문자열은 URL에서 물음표 `?` 뒤에 위치하며, 여러 개의 `키=값` 형태로 구성\n",
    "- 예시 : `/accounts/login/?next=/orders/`"
   ]
  },
  {
   "cell_type": "markdown",
   "id": "0627a32b-d26e-4e8f-83cf-07444a5db474",
   "metadata": {},
   "source": [
    "#### redirect_field_name의 역할\n",
    "1. 비로그인 사용자가 접근 시 :\n",
    "    로그인 페이지로 리다이렉트하면서 원래 이동하려던 url을 next에 저장\n",
    "2. 로그인 성공 시 :\n",
    "    next에 저장된 url로 리다이렉트(원래 가고자했던 url로 이동)"
   ]
  },
  {
   "cell_type": "markdown",
   "id": "d2d94bde-16fa-4c55-b73c-2b73f94fe773",
   "metadata": {},
   "source": [
    "#### 본문기준 url 동작 흐름"
   ]
  },
  {
   "cell_type": "markdown",
   "id": "56f82c05-6a9d-4c61-9bb8-921b986b2302",
   "metadata": {},
   "source": [
    "1. 비로그인 사용자가 /create/에 접근\n",
    "    > /accounts/login/?next=/create/\n",
    "    - next=/create/는 로그인 후 복귀할 경로\n",
    "2. 로그인 성공 후\n",
    "    > /create/ (원래 접근하려던 경로로 복귀)\n",
    "3. 성공적으로 글 작성 시\n",
    "    > 리다이렉트 대상인 articles:index 경로"
   ]
  },
  {
   "cell_type": "markdown",
   "id": "082a2ee5-4137-44e8-82b9-1650743381e2",
   "metadata": {},
   "source": [
    "### `else: form = ArticleForm()`\n",
    "먼저 빈 폼을 사용자에게 제공하는 else 구문이 먼저 실행"
   ]
  },
  {
   "cell_type": "markdown",
   "id": "02887704-2b6d-4171-bb71-169bba5c72fb",
   "metadata": {},
   "source": [
    "### form에 글을 쓴 뒤\n",
    "submit을 누르면 POST 요청으로 인해 if문 True가 실행\n",
    "```python\n",
    "if request.method == 'POST':\n",
    "        form = ArticleForm(request.POST)\n",
    "        if form.is_valid(): # 유효성 검사\n",
    "            article = form.save(commit=False) # 현재 제출된 form에는 article을 작성한 user_id가 없으므로 대기상태 만듬\n",
    "            article.user = request.user # article의 user_id 컬럼에 request 들어온 user_id 값 할당\n",
    "            article.save() # title, content, user_id 모두 저장\n",
    "            return redirect('articles:index')\n",
    "```"
   ]
  },
  {
   "cell_type": "markdown",
   "id": "1831b1cb-75ee-4d1d-add6-daeae6c203b2",
   "metadata": {},
   "source": [
    "##### form.is_valid() 통과 후 주의점\n",
    "`ArticleForm`에서 `user` 필드를 제외하고 `form.is_valid()`를 통과한 후 바로 `article.save()`를 호출하면 DB 저장 단계에서 저장 실패가 발생\n",
    "- Django의 ForeignKey 기본 설정\n",
    "    - ForeignKey 필드는 `user = models.ForeignKey(User, on_delete=models.CASCADE)` 라고만 작성해도 `null=False` 조건 적용"
   ]
  },
  {
   "cell_type": "code",
   "execution_count": null,
   "id": "0436ff7f-08bb-4e0a-8954-f8c86c7646b6",
   "metadata": {},
   "outputs": [],
   "source": []
  }
 ],
 "metadata": {
  "kernelspec": {
   "display_name": "Python 3 (ipykernel)",
   "language": "python",
   "name": "python3"
  },
  "language_info": {
   "codemirror_mode": {
    "name": "ipython",
    "version": 3
   },
   "file_extension": ".py",
   "mimetype": "text/x-python",
   "name": "python",
   "nbconvert_exporter": "python",
   "pygments_lexer": "ipython3",
   "version": "3.13.1"
  }
 },
 "nbformat": 4,
 "nbformat_minor": 5
}
