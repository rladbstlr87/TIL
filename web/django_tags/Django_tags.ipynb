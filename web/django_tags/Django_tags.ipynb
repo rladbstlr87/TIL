{
 "cells": [
  {
   "cell_type": "markdown",
   "id": "e39a16c6-4ae7-4f6f-8737-4af62fee91be",
   "metadata": {},
   "source": [
    "# Django에서 Tag"
   ]
  },
  {
   "cell_type": "markdown",
   "id": "50d393c4-2300-4848-8cc4-f5fd675363d0",
   "metadata": {
    "jp-MarkdownHeadingCollapsed": true
   },
   "source": [
    "## 1. if"
   ]
  },
  {
   "cell_type": "markdown",
   "id": "ab233528-6c14-45e6-945f-8360a19ca968",
   "metadata": {},
   "source": [
    "### 기본구조\n",
    "- 조건에 따라 특정 블록을 렌더링할 때 사용\n",
    "- and, or, not 등 논리 연산자 및 다양한 비교 연산자 사용 가능\n",
    "- 하나의 line에 쭉 이어서 작성도 가능은 하다"
   ]
  },
  {
   "cell_type": "markdown",
   "id": "73026aeb-bde9-4f21-89ad-6e0702671c33",
   "metadata": {},
   "source": [
    "```\n",
    "{% if condition %}\n",
    "    ...\n",
    "{% elif condition %}\n",
    "    ...\n",
    "{% else %}\n",
    "    ...\n",
    "{% endif %}\n",
    "```"
   ]
  },
  {
   "cell_type": "markdown",
   "id": "dab72518-ebdd-4e32-bcd1-c183f98129dc",
   "metadata": {},
   "source": [
    "### For example"
   ]
  },
  {
   "cell_type": "markdown",
   "id": "81ba7a75-18a7-425c-a8a8-ff4fc586b938",
   "metadata": {},
   "source": [
    "#### ex.1-1"
   ]
  },
  {
   "cell_type": "markdown",
   "id": "c9c517b9-b5f0-4f93-8efb-141b84cae233",
   "metadata": {},
   "source": [
    "```\n",
    "{% if user.is_authenticated %}\n",
    "    <p>환영합니다, {{ user.username }}!</p>\n",
    "{% else %}\n",
    "    <p>로그인이 필요합니다.</p>\n",
    "{% endif %}\n",
    "```"
   ]
  },
  {
   "cell_type": "markdown",
   "id": "22c10062-0be9-4b35-a2ad-13b68e7c0ac2",
   "metadata": {},
   "source": [
    "#### ex.1-2"
   ]
  },
  {
   "cell_type": "markdown",
   "id": "0455ce85-2330-4941-aac9-25df4707d635",
   "metadata": {},
   "source": [
    "```\n",
    "{% if product.stock > 0 %}\n",
    "    <p>재고 있음</p>\n",
    "{% elif product.stock == 0 %}\n",
    "    <p>품절</p>\n",
    "{% else %}\n",
    "    <p>입고 예정</p>\n",
    "{% endif %}\n",
    "```"
   ]
  },
  {
   "cell_type": "markdown",
   "id": "4ab749b6-f9e0-47ae-993f-4f37a1cff06d",
   "metadata": {},
   "source": [
    "#### ex.1-3"
   ]
  },
  {
   "cell_type": "markdown",
   "id": "cb1caf5e-dbef-415a-8069-35a9ff3d6fce",
   "metadata": {},
   "source": [
    "```\n",
    "{% if user.is_superuser and user.is_active %}\n",
    "    <p>관리자 권한으로 로그인 중입니다.</p>\n",
    "{% endif %}\n",
    "```"
   ]
  },
  {
   "cell_type": "markdown",
   "id": "f3f337ce-5640-4b6e-9f6b-048f6da42c11",
   "metadata": {},
   "source": [
    "### What it can do?"
   ]
  },
  {
   "cell_type": "markdown",
   "id": "6a12b052-88d1-49ca-b2d2-a75115700d85",
   "metadata": {},
   "source": [
    "#### ex.level.2"
   ]
  },
  {
   "cell_type": "markdown",
   "id": "46fd28ac-e6bf-4dce-88f4-91c28b23d9b9",
   "metadata": {},
   "source": [
    "- 다중 조건\n",
    "```\n",
    "{% if user.is_authenticated and user.is_staff %}\n",
    "    <p>스태프 권한 보유자입니다.</p>\n",
    "{% endif %}\n",
    "```"
   ]
  },
  {
   "cell_type": "markdown",
   "id": "b8ca429f-7c3b-48a2-ac1b-473f61e0da03",
   "metadata": {},
   "source": [
    "#### ex.level.3"
   ]
  },
  {
   "cell_type": "markdown",
   "id": "987e4be1-ccfb-4217-80c4-89e87cbccb8c",
   "metadata": {},
   "source": [
    "- 중첩 조건 처리\n",
    "```\n",
    "{% if product.stock > 0 %}\n",
    "    {% if product.on_sale %}\n",
    "        <p>할인 상품입니다!</p>\n",
    "    {% endif %}\n",
    "{% else %}\n",
    "    <p>재고가 없습니다.</p>\n",
    "{% endif %}\n",
    "```"
   ]
  },
  {
   "cell_type": "markdown",
   "id": "bebea48e-6fea-4450-840d-6d691b88381b",
   "metadata": {
    "jp-MarkdownHeadingCollapsed": true
   },
   "source": [
    "## 2. for"
   ]
  },
  {
   "cell_type": "markdown",
   "id": "56d3e023-63f6-4cb4-b4e0-5470afe42aaf",
   "metadata": {},
   "source": [
    "### 기본구조\n",
    "- 리스트나 딕셔너리의 요소를 반복 처리할 때 사용\n",
    "- forloop 변수를 통해 반복 횟수 및 조건 처리 가능 (forloop.first, forloop.last 등)"
   ]
  },
  {
   "cell_type": "markdown",
   "id": "5c97b622-756d-4f03-9670-75b1dcb866bc",
   "metadata": {},
   "source": [
    "```\n",
    "{% for item in items %}\n",
    "    {{ item }}\n",
    "{% endfor %}\n",
    "```"
   ]
  },
  {
   "cell_type": "markdown",
   "id": "9048087f-6b80-4905-b8e0-02d3a9f4be51",
   "metadata": {},
   "source": [
    "### For example"
   ]
  },
  {
   "cell_type": "markdown",
   "id": "5bcec0aa-d2aa-4597-a66e-05491faa6114",
   "metadata": {},
   "source": [
    "#### ex.1-1"
   ]
  },
  {
   "cell_type": "markdown",
   "id": "02bbd5da-4df7-497a-9f28-798f4c2569e9",
   "metadata": {},
   "source": [
    "```\n",
    "<table>\n",
    "  {% for user in users %}\n",
    "    <tr>\n",
    "      <td>{{ user.name }}</td>\n",
    "      <td>{{ user.email }}</td>\n",
    "    </tr>\n",
    "  {% endfor %}\n",
    "</table>\n",
    "```"
   ]
  },
  {
   "cell_type": "markdown",
   "id": "3041e95d-e0a1-44cc-81f6-6ae283d483a1",
   "metadata": {},
   "source": [
    "#### ex.1-2"
   ]
  },
  {
   "cell_type": "markdown",
   "id": "0b8c1071-cdd8-4084-938a-31b11880622c",
   "metadata": {},
   "source": [
    "```\n",
    "<ul>\n",
    "  {% for item in items %}\n",
    "    <li{% if forloop.first %} class=\"first\"{% endif %}>\n",
    "      {{ item }}\n",
    "    </li>\n",
    "  {% endfor %}\n",
    "</ul>\n",
    "```"
   ]
  },
  {
   "cell_type": "markdown",
   "id": "ce6d8cbf-805c-42ca-833f-203bc759192a",
   "metadata": {},
   "source": [
    "### What it can do?"
   ]
  },
  {
   "cell_type": "markdown",
   "id": "27a82662-d9c8-4587-9050-e2b8c77e2005",
   "metadata": {},
   "source": [
    "#### ex.level.2"
   ]
  },
  {
   "cell_type": "markdown",
   "id": "615c6c4a-f9df-4cad-9265-dd6b2411867b",
   "metadata": {},
   "source": [
    "- 반복 횟수 및 조건 처리\n",
    "```\n",
    "{% for item in items %}\n",
    "    {% if forloop.counter0|divisibleby:3 %}<br>{% endif %}\n",
    "    {{ item }}\n",
    "{% endfor %}\n",
    "```"
   ]
  },
  {
   "cell_type": "markdown",
   "id": "dc1eb042-f76d-4dc9-8881-442b5b1edbb2",
   "metadata": {},
   "source": [
    "#### ex.level.3"
   ]
  },
  {
   "cell_type": "markdown",
   "id": "95be4ecd-e969-49ac-ac5b-631702cbddc7",
   "metadata": {},
   "source": [
    "- 다중 반복 처리\n",
    "```\n",
    "{% for row in table %}\n",
    "    {% for cell in row %}\n",
    "        {{ cell }}\n",
    "    {% endfor %}\n",
    "{% endfor %}\n",
    "```"
   ]
  },
  {
   "cell_type": "markdown",
   "id": "2cc5fddf-3ec1-42d8-ac0c-48ca9fa94249",
   "metadata": {
    "jp-MarkdownHeadingCollapsed": true
   },
   "source": [
    "## 3. filter"
   ]
  },
  {
   "cell_type": "markdown",
   "id": "1232395b-430f-4c47-a51e-c71c899f1888",
   "metadata": {},
   "source": [
    "### 기본 구조\n",
    "```django\n",
    "{% filter 필터명 %}\n",
    "    출력할 콘텐츠\n",
    "{% endfilter %}\n",
    "```\n",
    "\n",
    "### **정의**\n",
    "- 특정 템플릿 필터를 사용해 블록 내의 콘텐츠를 변환할 때 사용합니다.\n",
    "- 긴 텍스트 블록에 필터를 적용할 때 유용합니다.\n",
    "\n",
    "### **파라미터 설명**\n",
    "- `필터명` : 적용할 템플릿 필터 이름 (예: `lower`, `escape`, `title` 등)\n",
    "\n",
    "---\n",
    "\n",
    "### **예시**\n",
    "\n",
    "**ex.1-1:** 텍스트 소문자 변환\n",
    "```django\n",
    "{% filter lower %}\n",
    "    HELLO WORLD\n",
    "{% endfilter %}\n",
    "```\n",
    "**출력:** `hello world`\n",
    "\n",
    "**ex.1-2:** HTML 이스케이프 처리\n",
    "```django\n",
    "{% filter escape %}\n",
    "    <b>Important</b>\n",
    "{% endfilter %}\n",
    "```\n",
    "**출력:** `&lt;b&gt;Important&lt;/b&gt;`\n",
    "\n",
    "**ex.level.2:** 길이가 긴 HTML 텍스트를 한 번에 변환\n",
    "```django\n",
    "{% filter escape %}\n",
    "<h1>제목입니다</h1>\n",
    "<p>이 내용은 <b>중요</b>합니다.</p>\n",
    "{% endfilter %}\n",
    "```\n",
    "**출력:**\n",
    "```\n",
    "&lt;h1&gt;제목입니다&lt;/h1&gt;\n",
    "&lt;p&gt;이 내용은 &lt;b&gt;중요&lt;/b&gt;합니다.&lt;/p&gt;\n",
    "```\n",
    "\n",
    "**ex.level.3:** 여러 필터를 결합한 중첩 사용 예시\n",
    "```django\n",
    "{% filter escape %}\n",
    "    {% filter lower %}\n",
    "        <B>IMPORTANT NOTICE</B>\n",
    "    {% endfilter %}\n",
    "{% endfilter %}\n",
    "```\n",
    "**출력:** `&lt;b&gt;important notice&lt;/b&gt;`\n",
    "\n"
   ]
  }
 ],
 "metadata": {
  "kernelspec": {
   "display_name": "Python 3 (ipykernel)",
   "language": "python",
   "name": "python3"
  },
  "language_info": {
   "codemirror_mode": {
    "name": "ipython",
    "version": 3
   },
   "file_extension": ".py",
   "mimetype": "text/x-python",
   "name": "python",
   "nbconvert_exporter": "python",
   "pygments_lexer": "ipython3",
   "version": "3.13.1"
  }
 },
 "nbformat": 4,
 "nbformat_minor": 5
}
