{
 "cells": [
  {
   "cell_type": "markdown",
   "id": "e39a16c6-4ae7-4f6f-8737-4af62fee91be",
   "metadata": {},
   "source": [
    "# Django에서 Tag"
   ]
  },
  {
   "cell_type": "markdown",
   "id": "bebea48e-6fea-4450-840d-6d691b88381b",
   "metadata": {
    "jp-MarkdownHeadingCollapsed": true
   },
   "source": [
    "## 2. for"
   ]
  },
  {
   "cell_type": "markdown",
   "id": "56d3e023-63f6-4cb4-b4e0-5470afe42aaf",
   "metadata": {},
   "source": [
    "### 기본구조\n",
    "- 리스트나 딕셔너리의 요소를 반복 처리할 때 사용\n",
    "- forloop 변수를 통해 반복 횟수 및 조건 처리 가능 (forloop.first, forloop.last 등)"
   ]
  },
  {
   "cell_type": "markdown",
   "id": "5c97b622-756d-4f03-9670-75b1dcb866bc",
   "metadata": {},
   "source": [
    "```\n",
    "{% for item in items %}\n",
    "    {{ item }}\n",
    "{% endfor %}\n",
    "```"
   ]
  },
  {
   "cell_type": "markdown",
   "id": "9048087f-6b80-4905-b8e0-02d3a9f4be51",
   "metadata": {},
   "source": [
    "### For example"
   ]
  },
  {
   "cell_type": "markdown",
   "id": "5bcec0aa-d2aa-4597-a66e-05491faa6114",
   "metadata": {},
   "source": [
    "#### ex.1-1"
   ]
  },
  {
   "cell_type": "markdown",
   "id": "02bbd5da-4df7-497a-9f28-798f4c2569e9",
   "metadata": {},
   "source": [
    "```\n",
    "<table>\n",
    "  {% for user in users %}\n",
    "    <tr>\n",
    "      <td>{{ user.name }}</td>\n",
    "      <td>{{ user.email }}</td>\n",
    "    </tr>\n",
    "  {% endfor %}\n",
    "</table>\n",
    "```"
   ]
  },
  {
   "cell_type": "markdown",
   "id": "3041e95d-e0a1-44cc-81f6-6ae283d483a1",
   "metadata": {},
   "source": [
    "#### ex.1-2"
   ]
  },
  {
   "cell_type": "markdown",
   "id": "0b8c1071-cdd8-4084-938a-31b11880622c",
   "metadata": {},
   "source": [
    "```\n",
    "<ul>\n",
    "  {% for item in items %}\n",
    "    <li{% if forloop.first %} class=\"first\"{% endif %}>\n",
    "      {{ item }}\n",
    "    </li>\n",
    "  {% endfor %}\n",
    "</ul>\n",
    "```"
   ]
  },
  {
   "cell_type": "markdown",
   "id": "ce6d8cbf-805c-42ca-833f-203bc759192a",
   "metadata": {},
   "source": [
    "### What it can do?"
   ]
  },
  {
   "cell_type": "markdown",
   "id": "27a82662-d9c8-4587-9050-e2b8c77e2005",
   "metadata": {},
   "source": [
    "#### ex.level.2"
   ]
  },
  {
   "cell_type": "markdown",
   "id": "615c6c4a-f9df-4cad-9265-dd6b2411867b",
   "metadata": {},
   "source": [
    "- 반복 횟수 및 조건 처리\n",
    "```\n",
    "{% for item in items %}\n",
    "    {% if forloop.counter0|divisibleby:3 %}<br>{% endif %}\n",
    "    {{ item }}\n",
    "{% endfor %}\n",
    "```"
   ]
  },
  {
   "cell_type": "markdown",
   "id": "dc1eb042-f76d-4dc9-8881-442b5b1edbb2",
   "metadata": {},
   "source": [
    "#### ex.level.3"
   ]
  },
  {
   "cell_type": "markdown",
   "id": "95be4ecd-e969-49ac-ac5b-631702cbddc7",
   "metadata": {},
   "source": [
    "- 다중 반복 처리\n",
    "```\n",
    "{% for row in table %}\n",
    "    {% for cell in row %}\n",
    "        {{ cell }}\n",
    "    {% endfor %}\n",
    "{% endfor %}\n",
    "```"
   ]
  },
  {
   "cell_type": "markdown",
   "id": "2cc5fddf-3ec1-42d8-ac0c-48ca9fa94249",
   "metadata": {
    "jp-MarkdownHeadingCollapsed": true
   },
   "source": [
    "## 3. filter"
   ]
  },
  {
   "cell_type": "markdown",
   "id": "1232395b-430f-4c47-a51e-c71c899f1888",
   "metadata": {},
   "source": [
    "### 기본 구조\n",
    "```django\n",
    "{% filter 필터명 %}\n",
    "    출력할 콘텐츠\n",
    "{% endfilter %}\n",
    "```\n",
    "\n",
    "### **정의**\n",
    "- 특정 템플릿 필터를 사용해 블록 내의 콘텐츠를 변환할 때 사용합니다.\n",
    "- 긴 텍스트 블록에 필터를 적용할 때 유용합니다.\n",
    "\n",
    "### **파라미터 설명**\n",
    "- `필터명` : 적용할 템플릿 필터 이름 (예: `lower`, `escape`, `title` 등)\n",
    "\n",
    "---\n",
    "\n",
    "### **예시**\n",
    "\n",
    "**ex.1-1:** 텍스트 소문자 변환\n",
    "```django\n",
    "{% filter lower %}\n",
    "    HELLO WORLD\n",
    "{% endfilter %}\n",
    "```\n",
    "**출력:** `hello world`\n",
    "\n",
    "**ex.1-2:** HTML 이스케이프 처리\n",
    "```django\n",
    "{% filter escape %}\n",
    "    <b>Important</b>\n",
    "{% endfilter %}\n",
    "```\n",
    "**출력:** `&lt;b&gt;Important&lt;/b&gt;`\n",
    "\n",
    "**ex.level.2:** 길이가 긴 HTML 텍스트를 한 번에 변환\n",
    "```django\n",
    "{% filter escape %}\n",
    "<h1>제목입니다</h1>\n",
    "<p>이 내용은 <b>중요</b>합니다.</p>\n",
    "{% endfilter %}\n",
    "```\n",
    "**출력:**\n",
    "```\n",
    "&lt;h1&gt;제목입니다&lt;/h1&gt;\n",
    "&lt;p&gt;이 내용은 &lt;b&gt;중요&lt;/b&gt;합니다.&lt;/p&gt;\n",
    "```\n",
    "\n",
    "**ex.level.3:** 여러 필터를 결합한 중첩 사용 예시\n",
    "```django\n",
    "{% filter escape %}\n",
    "    {% filter lower %}\n",
    "        <B>IMPORTANT NOTICE</B>\n",
    "    {% endfilter %}\n",
    "{% endfilter %}\n",
    "```\n",
    "**출력:** `&lt;b&gt;important notice&lt;/b&gt;`\n",
    "\n"
   ]
  }
 ],
 "metadata": {
  "kernelspec": {
   "display_name": "Python 3 (ipykernel)",
   "language": "python",
   "name": "python3"
  },
  "language_info": {
   "codemirror_mode": {
    "name": "ipython",
    "version": 3
   },
   "file_extension": ".py",
   "mimetype": "text/x-python",
   "name": "python",
   "nbconvert_exporter": "python",
   "pygments_lexer": "ipython3",
   "version": "3.13.1"
  }
 },
 "nbformat": 4,
 "nbformat_minor": 5
}
