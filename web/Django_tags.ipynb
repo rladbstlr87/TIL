{
 "cells": [
  {
   "cell_type": "markdown",
   "id": "e39a16c6-4ae7-4f6f-8737-4af62fee91be",
   "metadata": {},
   "source": [
    "# Django에서 Tag"
   ]
  },
  {
   "cell_type": "markdown",
   "id": "50d393c4-2300-4848-8cc4-f5fd675363d0",
   "metadata": {},
   "source": [
    "## 1. if"
   ]
  },
  {
   "cell_type": "markdown",
   "id": "ab233528-6c14-45e6-945f-8360a19ca968",
   "metadata": {},
   "source": [
    "### 기본구조\n",
    "- 조건에 따라 특정 블록을 렌더링할 때 사용\n",
    "- and, or, not 등 논리 연산자 및 다양한 비교 연산자 사용 가능\n",
    "- 하나의 line에 쭉 이어서 작성도 가능은 하다"
   ]
  },
  {
   "cell_type": "markdown",
   "id": "73026aeb-bde9-4f21-89ad-6e0702671c33",
   "metadata": {},
   "source": [
    "```\n",
    "{% if condition %}\n",
    "    ...\n",
    "{% elif condition %}\n",
    "    ...\n",
    "{% else %}\n",
    "    ...\n",
    "{% endif %}\n",
    "```"
   ]
  },
  {
   "cell_type": "markdown",
   "id": "dab72518-ebdd-4e32-bcd1-c183f98129dc",
   "metadata": {},
   "source": [
    "### For example"
   ]
  },
  {
   "cell_type": "markdown",
   "id": "81ba7a75-18a7-425c-a8a8-ff4fc586b938",
   "metadata": {},
   "source": [
    "#### ex.1-1"
   ]
  },
  {
   "cell_type": "markdown",
   "id": "c9c517b9-b5f0-4f93-8efb-141b84cae233",
   "metadata": {},
   "source": [
    "```\n",
    "{% if user.is_authenticated %}\n",
    "    <p>환영합니다, {{ user.username }}!</p>\n",
    "{% else %}\n",
    "    <p>로그인이 필요합니다.</p>\n",
    "{% endif %}\n",
    "```"
   ]
  },
  {
   "cell_type": "markdown",
   "id": "22c10062-0be9-4b35-a2ad-13b68e7c0ac2",
   "metadata": {},
   "source": [
    "#### ex.1-2"
   ]
  },
  {
   "cell_type": "markdown",
   "id": "0455ce85-2330-4941-aac9-25df4707d635",
   "metadata": {},
   "source": [
    "```\n",
    "{% if product.stock > 0 %}\n",
    "    <p>재고 있음</p>\n",
    "{% elif product.stock == 0 %}\n",
    "    <p>품절</p>\n",
    "{% else %}\n",
    "    <p>입고 예정</p>\n",
    "{% endif %}\n",
    "```"
   ]
  },
  {
   "cell_type": "markdown",
   "id": "4ab749b6-f9e0-47ae-993f-4f37a1cff06d",
   "metadata": {},
   "source": [
    "#### ex.1-3"
   ]
  },
  {
   "cell_type": "markdown",
   "id": "cb1caf5e-dbef-415a-8069-35a9ff3d6fce",
   "metadata": {},
   "source": [
    "```\n",
    "{% if user.is_superuser and user.is_active %}\n",
    "    <p>관리자 권한으로 로그인 중입니다.</p>\n",
    "{% endif %}\n",
    "```"
   ]
  },
  {
   "cell_type": "markdown",
   "id": "f3f337ce-5640-4b6e-9f6b-048f6da42c11",
   "metadata": {},
   "source": [
    "### What it can do?"
   ]
  },
  {
   "cell_type": "markdown",
   "id": "6a12b052-88d1-49ca-b2d2-a75115700d85",
   "metadata": {},
   "source": [
    "#### ex.level.2"
   ]
  },
  {
   "cell_type": "markdown",
   "id": "46fd28ac-e6bf-4dce-88f4-91c28b23d9b9",
   "metadata": {},
   "source": [
    "- 다중 조건\n",
    "```\n",
    "{% if user.is_authenticated and user.is_staff %}\n",
    "    <p>스태프 권한 보유자입니다.</p>\n",
    "{% endif %}\n",
    "```"
   ]
  },
  {
   "cell_type": "markdown",
   "id": "b8ca429f-7c3b-48a2-ac1b-473f61e0da03",
   "metadata": {},
   "source": [
    "#### ex.level.3"
   ]
  },
  {
   "cell_type": "markdown",
   "id": "987e4be1-ccfb-4217-80c4-89e87cbccb8c",
   "metadata": {},
   "source": [
    "- 중첩 조건 처리\n",
    "```\n",
    "{% if product.stock > 0 %}\n",
    "    {% if product.on_sale %}\n",
    "        <p>할인 상품입니다!</p>\n",
    "    {% endif %}\n",
    "{% else %}\n",
    "    <p>재고가 없습니다.</p>\n",
    "{% endif %}\n",
    "```"
   ]
  },
  {
   "cell_type": "code",
   "execution_count": null,
   "id": "f5615e0d-e1a8-47d8-a3d7-7e5dfba5f55c",
   "metadata": {},
   "outputs": [],
   "source": []
  }
 ],
 "metadata": {
  "kernelspec": {
   "display_name": "Python 3 (ipykernel)",
   "language": "python",
   "name": "python3"
  },
  "language_info": {
   "codemirror_mode": {
    "name": "ipython",
    "version": 3
   },
   "file_extension": ".py",
   "mimetype": "text/x-python",
   "name": "python",
   "nbconvert_exporter": "python",
   "pygments_lexer": "ipython3",
   "version": "3.13.1"
  }
 },
 "nbformat": 4,
 "nbformat_minor": 5
}
