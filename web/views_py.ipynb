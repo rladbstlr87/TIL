{
 "cells": [
  {
   "cell_type": "markdown",
   "id": "215ae851-6124-4fe4-961c-f853f992aa7f",
   "metadata": {},
   "source": [
    "# `views.py` 복습"
   ]
  },
  {
   "cell_type": "markdown",
   "id": "fae1f376-0ec8-4010-bdbc-fa337383846c",
   "metadata": {},
   "source": [
    "## create 함수 본문\n",
    "```python\n",
    "from django.shortcuts import render, redirect\n",
    "from .forms import ArticleForm, CommentForm\n",
    "from django.contrib.auth.decorators import login_required\n",
    "\n",
    "@login_required\n",
    "def create(request):\n",
    "    if request.method == 'POST':\n",
    "        form = ArticleForm(request.POST)\n",
    "        if form.is_valid():\n",
    "            article = form.save(commit=False)\n",
    "            article.user = request.user\n",
    "            article.save()\n",
    "            return redirect('articles:index')\n",
    "\n",
    "    else:\n",
    "        form = ArticleForm()\n",
    "    context = {\n",
    "        'form': form,\n",
    "    }\n",
    "    return render(request, 'create.html', context)\n",
    "```"
   ]
  },
  {
   "cell_type": "markdown",
   "id": "ba1dc30c-cba7-4e8a-b907-3ea9c39dd3bf",
   "metadata": {},
   "source": [
    "### `@login_required`\n",
    "Django에서 사용되는 뷰 데코레이터로, 해당 뷰에 접근하기 전에 로그인이 되어 있는지 확인하는 기능을 함\n",
    "\n",
    "- redirect_field_name: 로그인하지 않은 경우 리다이렉트 시 전달할 쿼리 문자열의 파라미터명 (기본값: 'next')"
   ]
  },
  {
   "cell_type": "markdown",
   "id": "988c1fe0-ec69-4385-a40a-fb15b252ee8d",
   "metadata": {},
   "source": [
    "#### 쿼리 문자열과 파라미터란?\n",
    "\n",
    "- 쿼리 문자열은 URL에서 물음표 `?` 뒤에 위치하며, 여러 개의 `키=값` 형태로 구성\n",
    "- 예시 : `/accounts/login/?next=/orders/`"
   ]
  },
  {
   "cell_type": "markdown",
   "id": "0627a32b-d26e-4e8f-83cf-07444a5db474",
   "metadata": {},
   "source": [
    "#### redirect_field_name의 역할\n",
    "1. 비로그인 사용자가 접근 시 :\n",
    "    로그인 페이지로 리다이렉트하면서 원래 이동하려던 url을 next에 저장\n",
    "2. 로그인 성공 시 :\n",
    "    next에 저장된 url로 리다이렉트(원래 가고자했던 url로 이동)"
   ]
  },
  {
   "cell_type": "markdown",
   "id": "d2d94bde-16fa-4c55-b73c-2b73f94fe773",
   "metadata": {},
   "source": [
    "#### 본문기준 url 동작 흐름"
   ]
  },
  {
   "cell_type": "markdown",
   "id": "56f82c05-6a9d-4c61-9bb8-921b986b2302",
   "metadata": {},
   "source": [
    "1. 비로그인 사용자가 /create/에 접근\n",
    "    > /accounts/login/?next=/create/\n",
    "    - next=/create/는 로그인 후 복귀할 경로\n",
    "2. 로그인 성공 후\n",
    "    > /create/ (원래 접근하려던 경로로 복귀)\n",
    "3. 성공적으로 글 작성 시\n",
    "    > 리다이렉트 대상인 articles:index 경로"
   ]
  },
  {
   "cell_type": "markdown",
   "id": "082a2ee5-4137-44e8-82b9-1650743381e2",
   "metadata": {},
   "source": [
    "### `else: form = ArticleForm()`\n",
    "먼저 빈 폼을 사용자에게 제공하는 else 구문이 먼저 실행"
   ]
  },
  {
   "cell_type": "markdown",
   "id": "02887704-2b6d-4171-bb71-169bba5c72fb",
   "metadata": {},
   "source": [
    "### form에 글을 쓴 뒤\n",
    "submit을 누르면 POST 요청으로 인해 if문 True가 실행\n",
    "```python\n",
    "if request.method == 'POST':\n",
    "        form = ArticleForm(request.POST)\n",
    "        if form.is_valid(): # 유효성 검사\n",
    "            article = form.save(commit=False) # 현재 제출된 form에는 article을 작성한 user_id가 없으므로 대기상태 만듬\n",
    "            article.user = request.user # article의 user_id 컬럼에 request 들어온 user_id 값 할당\n",
    "            article.save() # title, content, user_id 모두 저장\n",
    "            return redirect('articles:index')\n",
    "```"
   ]
  },
  {
   "cell_type": "markdown",
   "id": "1831b1cb-75ee-4d1d-add6-daeae6c203b2",
   "metadata": {},
   "source": [
    "##### form.is_valid() 통과 후 주의점\n",
    "`ArticleForm`에서 `user` 필드를 제외하고 `form.is_valid()`를 통과한 후 바로 `article.save()`를 호출하면 DB 저장 단계에서 저장 실패가 발생\n",
    "- Django의 ForeignKey 기본 설정\n",
    "    - ForeignKey 필드는 `user = models.ForeignKey(User, on_delete=models.CASCADE)` 라고만 작성해도 `null=False` 조건 적용"
   ]
  },
  {
   "cell_type": "markdown",
   "id": "18f35a83-2ff7-4bbe-841f-7d5251a13351",
   "metadata": {},
   "source": [
    "### Django ForeignKey의 on_delete 옵션\n",
    "Django의 ForeignKey는 부모 객체가 삭제될 때 자식 객체의 처리 방식을 on_delete 옵션으로 지정\n",
    "- 게시글(부모객체)이 삭제되면 댓글들(자식객체)은 어떻게 처리할 것인지"
   ]
  },
  {
   "cell_type": "markdown",
   "id": "4756556b-7931-4979-b92b-b42ba6dfef43",
   "metadata": {},
   "source": [
    "#### 1. CASCADE\n",
    "부모 객체가 삭제되면 연결된 자식 객체도 함께 삭제"
   ]
  },
  {
   "cell_type": "markdown",
   "id": "c2ed29ed-73d6-4e26-8190-5bdc5f1d2a8f",
   "metadata": {},
   "source": [
    "```python\n",
    "class Article(models.Model):\n",
    "    user = models.ForeignKey(User, on_delete=models.CASCADE)\n",
    "```"
   ]
  },
  {
   "cell_type": "markdown",
   "id": "10257a9c-0f55-4ebb-ab2f-caed5bb1ab4b",
   "metadata": {},
   "source": [
    "사용자가 삭제되면 해당 사용자가 작성한 모든 Article이 삭제"
   ]
  },
  {
   "cell_type": "markdown",
   "id": "09911c43-7145-4ea5-be1e-c8926904a7d7",
   "metadata": {},
   "source": [
    "## login 함수 본문\n",
    "```python\n",
    "from django.shortcuts import render, redirect\n",
    "from .forms import CustomAuthenticationForm\n",
    "from django.contrib.auth import login as auth_login\n",
    "\n",
    "def login(request):\n",
    "    if request.method == 'POST':\n",
    "        form = CustomAuthenticationForm(request, request.POST)\n",
    "        if form.is_valid():\n",
    "            user = form.get_user() # 로그인한 user 객체 가져옴\n",
    "            auth_login(request, user)\n",
    "            return redirect('posts:index')\n",
    "    else:\n",
    "        form = CustomAuthenticationForm()\n",
    "    \n",
    "    context = {\n",
    "        'form': form,\n",
    "    }\n",
    "    return render(request, 'login.html', context)\n",
    "```"
   ]
  },
  {
   "cell_type": "markdown",
   "id": "519c2a9d-5c3e-4ffe-b743-da83eda75553",
   "metadata": {},
   "source": [
    "## Django의 login\n",
    "- 사용자 인증을 처리하는 함수\n",
    "> views.py에서 함수 작성시 `def login()`으로 작명해서 `as auth_login`으로 표기"
   ]
  },
  {
   "cell_type": "markdown",
   "id": "12ef6cdb-0ee3-4b09-bf64-86187fa20a81",
   "metadata": {},
   "source": [
    "### `else: form = CustomAuthenticationForm()`\n",
    "log in 폼을 보여준다"
   ]
  },
  {
   "cell_type": "markdown",
   "id": "20b12418-393f-4ba3-ace8-74bbd91320de",
   "metadata": {},
   "source": [
    "### `if`가 True일 때,\n",
    "`request`로 들어온 모든 정보와 폼에 `request.POST`로 들어온 정보를 둘다 가져온다"
   ]
  },
  {
   "cell_type": "markdown",
   "id": "5f2d84e7-059c-412a-9105-cece8a981752",
   "metadata": {},
   "source": [
    "- 그리고 `form`이 유효하다면 (코드 작성 시 자주 놓치는 부분 **주의!!**))\n",
    "> `form`에 user정보를 가져와서 할당"
   ]
  },
  {
   "cell_type": "markdown",
   "id": "cdad7313-222b-4b60-b51c-4f7ffd7e8b72",
   "metadata": {},
   "source": [
    "### `auth_login(request, user)`\n",
    "auth_login(원래는 django의 login 뷰)으로 request와 user를 대조/그 외 여러 인증작업 시행\n",
    "- 대조하여 불일치 시, 다시 빈 폼의 login.html로 리다이렉트 하는 등 세션 기반 로그인 처리를 수행"
   ]
  },
  {
   "cell_type": "markdown",
   "id": "6e146fa9-5ac4-4099-bfa8-422d10f7d77e",
   "metadata": {},
   "source": [
    "## logout 함수 본문\n",
    "```python\n",
    "from django.shortcuts import render, redirect\n",
    "from django.contrib.auth import logout as auth_logout\n",
    "\n",
    "def logout(request):\n",
    "    auth_logout(request)\n",
    "    return redirect('posts:index')\n",
    "```"
   ]
  },
  {
   "cell_type": "markdown",
   "id": "fb3c9205-3d41-40e1-be97-eaf8bc12a47e",
   "metadata": {},
   "source": [
    "## django의 logout\n",
    "- session cookie 내에 저장된 사용자 로그인 정보를 삭제처리\n",
    "> views.py에서 함수 작성시 `def logout()`으로 작명해서 `as auth_logout`으로 표기"
   ]
  },
  {
   "cell_type": "markdown",
   "id": "1a550ce0-5830-485e-b9eb-4bf6a0b0061e",
   "metadata": {},
   "source": [
    "### `auth_logout(request)`\n",
    "단순히 해당 session 데이터만 삭제해줌"
   ]
  },
  {
   "cell_type": "code",
   "execution_count": null,
   "id": "e2edb278-b09f-4b7e-954a-71476142719e",
   "metadata": {},
   "outputs": [],
   "source": []
  }
 ],
 "metadata": {
  "kernelspec": {
   "display_name": "Python 3 (ipykernel)",
   "language": "python",
   "name": "python3"
  },
  "language_info": {
   "codemirror_mode": {
    "name": "ipython",
    "version": 3
   },
   "file_extension": ".py",
   "mimetype": "text/x-python",
   "name": "python",
   "nbconvert_exporter": "python",
   "pygments_lexer": "ipython3",
   "version": "3.13.2"
  }
 },
 "nbformat": 4,
 "nbformat_minor": 5
}
