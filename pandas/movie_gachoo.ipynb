{
 "cells": [
  {
   "cell_type": "markdown",
   "id": "da7762cd-2a46-4c5f-863f-60363c562e25",
   "metadata": {},
   "source": [
    "# TMDB에서 API 활용하여 평점기준으로 영화를 추천해주는 기능 구현\n",
    "- ...을 통해서 requests, numpy, pandas 복습을 해보자"
   ]
  },
  {
   "cell_type": "code",
   "execution_count": 8,
   "id": "56c77a2d-4230-42c1-8a6c-acbd69047acf",
   "metadata": {},
   "outputs": [
    {
     "name": "stdin",
     "output_type": "stream",
     "text": [
      "영화 조회일(YYYY-MM-DD)을 입력하세요:  2022-01-01\n"
     ]
    },
    {
     "name": "stdout",
     "output_type": "stream",
     "text": [
      "🎞 추천 영화 목록:\n",
      "             title release_date  vote_average  normalized_rating\n",
      "10          쇼생크 탈출   1994-09-23         8.708               0.87\n",
      "11              대부   1972-03-14         8.689               0.87\n",
      "13          다크 나이트   2008-07-16         8.500               0.85\n",
      "4            인터스텔라   2014-11-05         8.500               0.85\n",
      "15   반지의 제왕: 왕의 귀환   2003-12-17         8.480               0.85\n",
      "18  반지의 제왕: 반지 원정대   2001-12-18         8.418               0.84\n",
      "17           라이온 킹   1994-06-15         8.256               0.83\n",
      "3     어벤져스: 인피니티 워   2018-04-25         8.238               0.82\n",
      "0    인디아나 존스: 레이더스   1981-06-12         7.921               0.79\n",
      "12            타이타닉   1997-11-18         7.907               0.79\n"
     ]
    }
   ],
   "source": [
    "import requests\n",
    "import pandas as pd\n",
    "import numpy as np\n",
    "\n",
    "#API\n",
    "api = '961b907ea3fefe1cbfe81d7f06b87762'\n",
    "\n",
    "# url maker\n",
    "def get_url(date):\n",
    "    url = 'https://api.themoviedb.org/3/discover/movie'\n",
    "    params = {\n",
    "        'api_key': api,\n",
    "        'language': 'ko-KR',\n",
    "        'primary_release_date.lte': date,\n",
    "        'sort_by':' vote_average.desc',\n",
    "        'vote_count.gte': 50 # 최소 50개 이상 평점 투표된 영화만 필터링\n",
    "    }\n",
    "    return url, params\n",
    "\n",
    "# TMDB API 요청 함수\n",
    "def fetch_movies(url, params): \n",
    "    res = requests.get(url, params=params)\n",
    "    \n",
    "    if res.status_code == 200:\n",
    "        return res.json().get(\"results\", [])\n",
    "    else:\n",
    "        print('api 요청 실패:', res.status_code)\n",
    "        return []\n",
    "\n",
    "# 영화 데이터 가공 및 추천\n",
    "def process_movies(movies):\n",
    "    if not movies:\n",
    "        print('해당 날짜에 개봉한 영화가 없습니다')\n",
    "        return pd.DataFrame()\n",
    "\n",
    "    df = pd.DataFrame(movies, columns=['title', 'release_date', 'vote_average', 'vote_count'])\n",
    "\n",
    "    # 평점 정규화 (평점 / 10.0 으로 0~1 사이 값)\n",
    "    df['normalized_rating'] = np.round(df['vote_average'] / 10, 2) # 소수점 둘째자리에서 반올림\n",
    "\n",
    "    return df.sort_values(by='vote_average', ascending=False)\n",
    "\n",
    "# 실행 코드\n",
    "if __name__ == '__main__':\n",
    "    date_input = input('영화 조회일(YYYY-MM-DD)을 입력하세요: ')\n",
    "    api_url_tuple = get_url(date_input)\n",
    "    url, params = api_url_tuple\n",
    "    movies = fetch_movies(url, params)\n",
    "    movie_df = process_movies(movies)\n",
    "\n",
    "    if not movie_df.empty:\n",
    "        print('🎞 추천 영화 목록:')\n",
    "        print(movie_df[['title', 'release_date', 'vote_average', 'normalized_rating']].head(10))"
   ]
  },
  {
   "cell_type": "code",
   "execution_count": null,
   "id": "79cfef22-ad4b-4e1b-be44-9b9ff729ca98",
   "metadata": {},
   "outputs": [],
   "source": []
  }
 ],
 "metadata": {
  "kernelspec": {
   "display_name": "Python 3 (ipykernel)",
   "language": "python",
   "name": "python3"
  },
  "language_info": {
   "codemirror_mode": {
    "name": "ipython",
    "version": 3
   },
   "file_extension": ".py",
   "mimetype": "text/x-python",
   "name": "python",
   "nbconvert_exporter": "python",
   "pygments_lexer": "ipython3",
   "version": "3.13.2"
  }
 },
 "nbformat": 4,
 "nbformat_minor": 5
}
