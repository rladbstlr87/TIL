{
 "cells": [
  {
   "cell_type": "markdown",
   "id": "db27988f-875e-4fc7-a7f9-df202e7012ed",
   "metadata": {},
   "source": [
    "# numpy"
   ]
  },
  {
   "cell_type": "markdown",
   "id": "4f2030e5-d6ed-43bd-a51d-11228b7d9102",
   "metadata": {},
   "source": [
    "## CNN 2차원 평면이 3개를 중첩을 해놓은게 3차원\n",
    "- 엑셀 표같은건 2차원이라고 한다면...\n",
    "- n차원의 데이터 범위를 사용하는게 넘파이"
   ]
  },
  {
   "cell_type": "code",
   "execution_count": 4,
   "id": "2ec1f7c7-b405-4101-a1a8-f1dbd86ff44d",
   "metadata": {},
   "outputs": [],
   "source": [
    "## 넘파이 쓰려면 불러와야 한다\n",
    "\n",
    "import numpy as np\n",
    "\n",
    "\n",
    "my_array = np.arange(1000000) # 범위를 100만개 만들어줘\n",
    "my_list = list(range(1000000)) # 범위안에 요소를 100만개 만들어줘"
   ]
  },
  {
   "cell_type": "code",
   "execution_count": 5,
   "id": "9a92815c-8f16-4263-9c94-0cdd4e3ed2c7",
   "metadata": {},
   "outputs": [],
   "source": [
    "my_list_by2 = [i * 2 for i in my_list]"
   ]
  },
  {
   "cell_type": "markdown",
   "id": "58a5aff2-966b-431b-a782-06a22dea9d61",
   "metadata": {},
   "source": [
    "ex)\n",
    "np.array(`array의 데이터 본체가 들어가는 자리`)"
   ]
  },
  {
   "cell_type": "code",
   "execution_count": null,
   "id": "7a3e7d97-838f-4a45-aa23-aecf08914a36",
   "metadata": {},
   "outputs": [],
   "source": []
  }
 ],
 "metadata": {
  "kernelspec": {
   "display_name": "Python 3 (ipykernel)",
   "language": "python",
   "name": "python3"
  },
  "language_info": {
   "codemirror_mode": {
    "name": "ipython",
    "version": 3
   },
   "file_extension": ".py",
   "mimetype": "text/x-python",
   "name": "python",
   "nbconvert_exporter": "python",
   "pygments_lexer": "ipython3",
   "version": "3.13.2"
  }
 },
 "nbformat": 4,
 "nbformat_minor": 5
}
